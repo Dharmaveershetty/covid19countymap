{
  "nbformat": 4,
  "nbformat_minor": 0,
  "metadata": {
    "colab": {
      "name": "Hikma COVID County Two Round Export",
      "provenance": [],
      "collapsed_sections": [],
      "toc_visible": true,
      "include_colab_link": true
    },
    "kernelspec": {
      "name": "python3",
      "display_name": "Python 3"
    }
  },
  "cells": [
    {
      "cell_type": "markdown",
      "metadata": {
        "id": "view-in-github",
        "colab_type": "text"
      },
      "source": [
        "<a href=\"https://colab.research.google.com/github/hikmahealth/covid19countymap/blob/master/Hikma_COVID_County_Two_Round_Export.ipynb\" target=\"_parent\"><img src=\"https://colab.research.google.com/assets/colab-badge.svg\" alt=\"Open In Colab\"/></a>"
      ]
    },
    {
      "cell_type": "markdown",
      "metadata": {
        "id": "L2_sIcc61eZr",
        "colab_type": "text"
      },
      "source": [
        "# Hikma COVID-19 Response - County Policy and Case Data Exploratory Data Analysis\n",
        "\n",
        "License: Apache 2.0"
      ]
    },
    {
      "cell_type": "code",
      "metadata": {
        "id": "y8RA77Gzl1hj",
        "colab_type": "code",
        "colab": {}
      },
      "source": [
        "import copy\n",
        "import io\n",
        "import json\n",
        "import urllib\n",
        "\n",
        "from google.colab import auth\n",
        "from oauth2client.client import GoogleCredentials\n",
        "import gspread\n",
        "import pandas as pd\n",
        "import numpy as np\n",
        "\n",
        "import os\n",
        "\n",
        "import time"
      ],
      "execution_count": 1,
      "outputs": []
    },
    {
      "cell_type": "code",
      "metadata": {
        "id": "4NMN6Lg_TFaE",
        "colab_type": "code",
        "colab": {}
      },
      "source": [
        ""
      ],
      "execution_count": 1,
      "outputs": []
    },
    {
      "cell_type": "markdown",
      "metadata": {
        "id": "iqjT6gRpPK13",
        "colab_type": "text"
      },
      "source": [
        "## Use census data to map county name to FIPS code"
      ]
    },
    {
      "cell_type": "code",
      "metadata": {
        "id": "-abzKWKAPOak",
        "colab_type": "code",
        "colab": {}
      },
      "source": [
        "with urllib.request.urlopen(\"https://www2.census.gov/programs-surveys/popest/datasets/2010-2019/counties/totals/co-est2019-alldata.csv\") as infile:\n",
        "  raw_data = infile.read()\n",
        "# Deal with encoding issues in the Census CSV file.\n",
        "replacements = {0xed: \"í\", 0xe1: \"á\", 0xf3: \"ó\", 0xf1: \"ñ\", 0xfc:\"ü\"}\n",
        "for char, repl in replacements.items():\n",
        "  raw_data = raw_data.replace(bytes([char]), repl.encode())\n",
        "raw_census = pd.read_csv(io.BytesIO(raw_data))"
      ],
      "execution_count": 2,
      "outputs": []
    },
    {
      "cell_type": "code",
      "metadata": {
        "id": "YBv539-yPS5z",
        "colab_type": "code",
        "colab": {}
      },
      "source": [
        "census = raw_census[raw_census.COUNTY != 0].copy()"
      ],
      "execution_count": 3,
      "outputs": []
    },
    {
      "cell_type": "code",
      "metadata": {
        "id": "tfS_ChfOPgW-",
        "colab_type": "code",
        "colab": {}
      },
      "source": [
        "census[\"fips\"] = census.STATE * 1000 + census.COUNTY\n",
        "census.set_index(\"fips\", inplace=True)\n",
        "census[\"full_name\"] = census.CTYNAME + \", \" + census.STNAME\n",
        "fips_code_mapping = {name: i for i, name in census.full_name.items()}"
      ],
      "execution_count": 4,
      "outputs": []
    },
    {
      "cell_type": "markdown",
      "metadata": {
        "id": "3SdNheJy6chp",
        "colab_type": "text"
      },
      "source": [
        "## Read the data from Google Sheets"
      ]
    },
    {
      "cell_type": "code",
      "metadata": {
        "id": "9s_rHojhm2QR",
        "colab_type": "code",
        "colab": {}
      },
      "source": [
        "auth.authenticate_user()\n",
        "sheets_client = gspread.authorize(GoogleCredentials.get_application_default())\n",
        "sheet = sheets_client.open_by_url(\"https://docs.google.com/spreadsheets/d/1LRqAKVYpa2uhQcwD8rragwuvU6gMLRzYupihsURC8Cg/edit#gid=519201207\")"
      ],
      "execution_count": 5,
      "outputs": []
    },
    {
      "cell_type": "code",
      "metadata": {
        "id": "Y9RTG06c0ZB1",
        "colab_type": "code",
        "colab": {}
      },
      "source": [
        "raw_policies = pd.DataFrame(sheet.sheet1.get_all_records())"
      ],
      "execution_count": 6,
      "outputs": []
    },
    {
      "cell_type": "code",
      "metadata": {
        "id": "1_qo7g5LnmxP",
        "colab_type": "code",
        "colab": {}
      },
      "source": [
        "auth.authenticate_user()\n",
        "sheets_client = gspread.authorize(GoogleCredentials.get_application_default())\n",
        "sheet = sheets_client.open_by_url(\"https://docs.google.com/spreadsheets/d/1QWLzdeL0hF4z4r3tsTqZoKc_dKF2YC7SLw-PJKckfAM/edit#gid=843876519\")\n",
        "raw_policies_rd2 = pd.DataFrame(sheet.sheet1.get_all_records())"
      ],
      "execution_count": 7,
      "outputs": []
    },
    {
      "cell_type": "code",
      "metadata": {
        "id": "5E2S8s-DoS6m",
        "colab_type": "code",
        "colab": {}
      },
      "source": [
        ""
      ],
      "execution_count": 7,
      "outputs": []
    },
    {
      "cell_type": "markdown",
      "metadata": {
        "id": "ePWHFP576fEn",
        "colab_type": "text"
      },
      "source": [
        "## Clean up the county-level data"
      ]
    },
    {
      "cell_type": "markdown",
      "metadata": {
        "id": "3ksBpL0Y1XLm",
        "colab_type": "text"
      },
      "source": [
        "### Encode free-text column values"
      ]
    },
    {
      "cell_type": "code",
      "metadata": {
        "id": "J8WK0cHFBRlI",
        "colab_type": "code",
        "colab": {}
      },
      "source": [
        "dimensions = [\"school\", \"work\", \"shelter\", \"shelter_enforcement\", \"event\", \"testing\", \"transport\"]"
      ],
      "execution_count": 8,
      "outputs": []
    },
    {
      "cell_type": "code",
      "metadata": {
        "id": "ZChPxOF7e1Hw",
        "colab_type": "code",
        "colab": {}
      },
      "source": [
        "full_policies = raw_policies.rename(columns={\n",
        "    \"You are filling out the form for the following county:\": \"county_name\",\n",
        "    \"Are schools closed in this county?\": \"school\",\n",
        "    \"If yes, please provide the URL to information regarding school closures.\": \"school_url\",\n",
        "    \"If yes, please provide the date of when this policy on school closures took or will take effect.\": \"school_date\",\n",
        "    \"Are/were non-essential workplaces closed at any point? Is/was there there any language that suggests that those who do not provide essential services should work from home or stop working at any point?\": \"work\",\n",
        "    \"If yes, please provide the URL to information regarding non-essential workplace closures.\": \"work_url\",\n",
        "    \"If yes, provide the date of when this policy took or will take effect.\": \"work_date\",\n",
        "    \"Is/was social distancing or shelter-in-place being enforced with fines or penalties in this county at any point? \": \"shelter_enforcement\",\n",
        "    \"If yes, please provide the URL to information regarding fine or penalty enforcement.\": \"shelter_enforcement_url\",\n",
        "    \"If yes, please provide the date of when this fine or penalty enforcement took or will take effect.\": \"shelter_enforcement_date\",\n",
        "    \"Is/were there shelter-in-place or stay-at-home orders in this county at any point? For example, were people advised to maintain social distance or abstain from all physical interactions or non-essential trips whenever possible?\": \"shelter\",\n",
        "    \"If yes, please provide the URL to information regarding the shelter-in-place or social distancing policy.\": \"shelter_url\",\n",
        "    \"If yes, please provide the date of when this shelter-in-place or social distancing policy took or will take effect.\": \"shelter_date\",\n",
        "    \"Is/was there any order that public events should be restricted in size or outright cancelled at any point?\": \"event\",\n",
        "    \"If yes, please provide the URL to information regarding public events restrictions.\": \"event_url\",\n",
        "    \"If yes, please provide the date of when the cancellation of public events was or will be in effect.\": \"event_date\",\n",
        "    \"Are there public facilities with COVID testing available in this county? \": \"testing\",\n",
        "    \"If yes, please provide the URL to information regarding testing facilities.\": \"testing_url\",\n",
        "    \"If yes, please provide the date of when these facilities became available.\": \"testing_date\",\n",
        "    \"Look for any information about whether this county's  buses, subways, light rail, etc. are/were shut down at any point. Is/was any public transit system shut down at any point?\": \"transport\",\n",
        "    \"If yes, please provide the URL to information regarding public transit.\": \"transport_url\",\n",
        "    \"If yes, please provide the date of when public transit was or will be stopped.\": \"transport_date\",\n",
        "})\n",
        "full_policies.pop(\"Are there travel restrictions in this county? For example, are people required to self-quarantine when arriving into this county?\")\n",
        "full_policies.pop(\"Are airports closed in this county? \")\n",
        "full_policies[\"fips\"] = full_policies.county_name.map(fips_code_mapping)\n",
        "full_policies.set_index(\"fips\", inplace=True)\n",
        "full_policies[\"updated\"] = pd.to_datetime(full_policies.pop(\"Timestamp\"))\n",
        "for col in dimensions:\n",
        "  full_policies[col] = full_policies[col].map({\"Yes\": True, \"No\": False, \"\":float('nan')})\n",
        "# Convert timestamp from ambiguous DD/MM/YYYY to ISO 8601 friendly YYYY-MM-DD\n",
        "for col in dimensions:\n",
        "  full_policies[col + \"_date\"] = pd.to_datetime(full_policies[col + \"_date\"]).dt.strftime(\"%Y-%m-%d\")"
      ],
      "execution_count": 9,
      "outputs": []
    },
    {
      "cell_type": "code",
      "metadata": {
        "id": "3ypA1LefFKw6",
        "colab_type": "code",
        "colab": {}
      },
      "source": [
        "dims_rd2 = ['work', 'shelter']\n",
        "full_policies_rd2 = raw_policies_rd2.rename(columns={\n",
        "    \"You are filling out the form for the following county:\": \"county_name\",\n",
        "    \"Are all non-essential workplaces still closed? If a previous policy has been lifted and non-essential businesses have reopened to any extent please select \\\"No\\\", otherwise select \\\"Yes\\\"\": \"work\",\n",
        "    \"Please provide the URL to information regarding reopening of non-essential workplaces.\": \"work_url\",\n",
        "    \"If No, provide the date non-essential businesses reopened. If Yes, provide the date you are completing this form.\": \"work_date\",\n",
        "    \"Is there still a shelter-in-place or stay-at-home order in this county? (E.g., are restaurants still closed/people still being advised to abstain from all physical interactions?) If a previous policy has been lifted to any extent, please select \\\"No\\\", otherwise select \\\"Yes\\\"\": \"shelter\",\n",
        "    \"Please provide the URL to information regarding the lifting of the shelter-in-place or social distancing policy.\": \"shelter_url\",\n",
        "    \"If No, please provide the date of when this shelter-in-place or social distancing policy was lifted. If Yes, provide the date you are completing this form.\": \"shelter_date\",\n",
        "})\n",
        "\n",
        "full_policies_rd2[\"fips\"] = full_policies_rd2.county_name.map(fips_code_mapping)\n",
        "full_policies_rd2.set_index(\"fips\", inplace=True)\n",
        "full_policies_rd2[\"updated\"] = pd.to_datetime(full_policies_rd2.pop(\"Timestamp\"))\n",
        "for col in dims_rd2:\n",
        "  full_policies_rd2[col] = full_policies_rd2[col].map({\"Yes\": True, \"No\": False, \"\":float('nan')})\n",
        "# Convert timestamp from ambiguous DD/MM/YYYY to ISO 8601 friendly YYYY-MM-DD\n",
        "for col in dims_rd2:\n",
        "  full_policies_rd2[col + \"_date\"] = pd.to_datetime(full_policies_rd2[col + \"_date\"]).dt.strftime(\"%Y-%m-%d\")"
      ],
      "execution_count": 10,
      "outputs": []
    },
    {
      "cell_type": "code",
      "metadata": {
        "id": "E7TAUrIiVsq4",
        "colab_type": "code",
        "colab": {}
      },
      "source": [
        "full_policies_all = pd.concat([full_policies,full_policies_rd2])"
      ],
      "execution_count": 11,
      "outputs": []
    },
    {
      "cell_type": "markdown",
      "metadata": {
        "id": "zKTWOp8hMkHG",
        "colab_type": "text"
      },
      "source": [
        "### Deduplicate rows.\n",
        "\n",
        "Naive assumption - we assume that restrictions are never lifted, so the heaviest restriction reported for fips is still active.\n",
        "\n",
        "We will likely have to revisit this in the future."
      ]
    },
    {
      "cell_type": "code",
      "metadata": {
        "id": "Z4RVtZpcdBmT",
        "colab_type": "code",
        "colab": {}
      },
      "source": [
        "full_policies = full_policies_all\n",
        "\n",
        "with open(\"all_county_policies.csv\", \"w\") as outfile:\n",
        "  outfile.write(full_policies.to_csv())"
      ],
      "execution_count": 12,
      "outputs": []
    },
    {
      "cell_type": "code",
      "metadata": {
        "id": "dQM-WD0WAvNm",
        "colab_type": "code",
        "colab": {}
      },
      "source": [
        "# JS map not aligned to 'City' or 'Municipality' for now \n",
        "# policies_noloc = full_policies[~full_policies.county_name.str.contains('city') & ~full_policies.county_name.str.contains('Municipality')].copy()\n",
        "# JS map can handle the data with missing FIPS codes, so including other non-county locations for now\n",
        "# policies_noloc = full_policies\n",
        "# Only deduplicating and keeping first entry for now, while debugging groupby\n",
        "# policies_min = full_policies.groupby(by=\"fips\").agg(func=max)\n",
        "# policies_min = full_policies.groupby('fips').min().reset_index()\n",
        "\n",
        "policies_dedup = full_policies.drop_duplicates(subset=\"county_name\").reset_index()\n",
        "\n",
        "# Remove if NA for FIPS (if submitter of data changed county name and FIPS could not be correctly mapped\n",
        "policies_min = policies_dedup[~policies_dedup.fips.isna() & (policies_dedup.fips < 100000) & (policies_dedup.fips >= 0)].copy()\n",
        "\n",
        "policies_min2 = policies_min"
      ],
      "execution_count": 13,
      "outputs": []
    },
    {
      "cell_type": "code",
      "metadata": {
        "id": "48v3jLKZgtSK",
        "colab_type": "code",
        "colab": {}
      },
      "source": [
        "policies_min2.set_index('fips', inplace=True);\n",
        "# full_policies.groupby('fips')['updated'].sum()"
      ],
      "execution_count": 14,
      "outputs": []
    },
    {
      "cell_type": "code",
      "metadata": {
        "id": "evB-OdNUoE0i",
        "colab_type": "code",
        "colab": {}
      },
      "source": [
        "# function that has the following aggregation behavior:\n",
        "# pick the most recently submitted entry on any particular policy, inherit latest policy for each policy \n",
        "# EXCEPT if 2 or more within 24 hours of the last entered policy\n",
        "# in the case of 2 entries with disagreement, pick the one that is most open (i.e. favor No over Yes)\n",
        "# if 3+ entries within 24 hours then take majority vote, leaning No in case of tie\n",
        "\n",
        "def agg24(df):\n",
        "  polcols = dimensions\n",
        "  # one entry should be returned for each county, initialize to first entry and edit later\n",
        "  findf = df.head(1)\n",
        "  for col in polcols:\n",
        "    # find last non-null datapoint for that policy\n",
        "    filldf = df[~df[col].isnull()]\n",
        "    tmax = filldf.updated.max()\n",
        "    tcut = tmax - np.timedelta64(24,'h')\n",
        "    reduced = filldf.drop(filldf[filldf.updated < tcut].index)\n",
        "\n",
        "    # will return date and URL of the last entry that matched the final boolean\n",
        "    urlcol = col + '_url'\n",
        "    datecol = col + '_date'\n",
        "    \n",
        "    if reduced[col].size == 0:\n",
        "       decision = float('nan')\n",
        "    elif np.sum(reduced[col])/reduced[col].size > 0.50001:\n",
        "      decision = True\n",
        "    else:\n",
        "      decision = False\n",
        "    findf[col].iloc[0] = decision\n",
        "    sourced = reduced[reduced[col] == decision]\n",
        "\n",
        "    if sourced[col].shape[0] > 0:\n",
        "      # print(sourced.shape[0])\n",
        "      findf[urlcol].iloc[0] = sourced[urlcol].iloc[sourced.shape[0]-1]\n",
        "      findf[datecol].iloc[0] = sourced[datecol].iloc[sourced.shape[0]-1]\n",
        "\n",
        " #   if reduced[col].isna().all()\n",
        "  return findf\n",
        "  "
      ],
      "execution_count": 15,
      "outputs": []
    },
    {
      "cell_type": "code",
      "metadata": {
        "id": "gmpjBSTgjsVG",
        "colab_type": "code",
        "colab": {}
      },
      "source": [
        "policies_agg = full_policies.groupby('fips').apply(agg24)"
      ],
      "execution_count": 16,
      "outputs": []
    },
    {
      "cell_type": "code",
      "metadata": {
        "id": "vEVX4etmmFi4",
        "colab_type": "code",
        "colab": {}
      },
      "source": [
        "policies_agg = policies_agg.droplevel(1)"
      ],
      "execution_count": 17,
      "outputs": []
    },
    {
      "cell_type": "code",
      "metadata": {
        "id": "PNLphGN_T6se",
        "colab_type": "code",
        "colab": {
          "base_uri": "https://localhost:8080/",
          "height": 425
        },
        "outputId": "fcb01099-fa20-4bad-a7bb-ddcca996588f"
      },
      "source": [
        "policies_agg.head()"
      ],
      "execution_count": 18,
      "outputs": [
        {
          "output_type": "execute_result",
          "data": {
            "text/html": [
              "<div>\n",
              "<style scoped>\n",
              "    .dataframe tbody tr th:only-of-type {\n",
              "        vertical-align: middle;\n",
              "    }\n",
              "\n",
              "    .dataframe tbody tr th {\n",
              "        vertical-align: top;\n",
              "    }\n",
              "\n",
              "    .dataframe thead th {\n",
              "        text-align: right;\n",
              "    }\n",
              "</style>\n",
              "<table border=\"1\" class=\"dataframe\">\n",
              "  <thead>\n",
              "    <tr style=\"text-align: right;\">\n",
              "      <th></th>\n",
              "      <th>county_name</th>\n",
              "      <th>school</th>\n",
              "      <th>school_url</th>\n",
              "      <th>school_date</th>\n",
              "      <th>work</th>\n",
              "      <th>work_url</th>\n",
              "      <th>work_date</th>\n",
              "      <th>shelter_enforcement</th>\n",
              "      <th>shelter_enforcement_url</th>\n",
              "      <th>shelter_enforcement_date</th>\n",
              "      <th>shelter</th>\n",
              "      <th>shelter_url</th>\n",
              "      <th>shelter_date</th>\n",
              "      <th>event</th>\n",
              "      <th>event_url</th>\n",
              "      <th>event_date</th>\n",
              "      <th>testing</th>\n",
              "      <th>testing_url</th>\n",
              "      <th>testing_date</th>\n",
              "      <th>transport</th>\n",
              "      <th>transport_url</th>\n",
              "      <th>transport_date</th>\n",
              "      <th>updated</th>\n",
              "    </tr>\n",
              "    <tr>\n",
              "      <th>fips</th>\n",
              "      <th></th>\n",
              "      <th></th>\n",
              "      <th></th>\n",
              "      <th></th>\n",
              "      <th></th>\n",
              "      <th></th>\n",
              "      <th></th>\n",
              "      <th></th>\n",
              "      <th></th>\n",
              "      <th></th>\n",
              "      <th></th>\n",
              "      <th></th>\n",
              "      <th></th>\n",
              "      <th></th>\n",
              "      <th></th>\n",
              "      <th></th>\n",
              "      <th></th>\n",
              "      <th></th>\n",
              "      <th></th>\n",
              "      <th></th>\n",
              "      <th></th>\n",
              "      <th></th>\n",
              "      <th></th>\n",
              "    </tr>\n",
              "  </thead>\n",
              "  <tbody>\n",
              "    <tr>\n",
              "      <th>1001</th>\n",
              "      <td>Autauga County, Alabama</td>\n",
              "      <td>True</td>\n",
              "      <td>https://whnt.com/news/coronavirus/state-of-eme...</td>\n",
              "      <td>2020-03-18</td>\n",
              "      <td>False</td>\n",
              "      <td>https://governor.alabama.gov/assets/2020/04/Sa...</td>\n",
              "      <td>2020-04-30</td>\n",
              "      <td>NaN</td>\n",
              "      <td></td>\n",
              "      <td>NaN</td>\n",
              "      <td>True</td>\n",
              "      <td>https://www.alsde.edu/COVID19%20Updates/Alabam...</td>\n",
              "      <td>2020-03-19</td>\n",
              "      <td>True</td>\n",
              "      <td>https://www.alsde.edu/COVID19%20Updates/Alabam...</td>\n",
              "      <td>2020-03-19</td>\n",
              "      <td>True</td>\n",
              "      <td>https://www.alabamapublichealth.gov/news/2020/...</td>\n",
              "      <td>2020-05-01</td>\n",
              "      <td>NaN</td>\n",
              "      <td></td>\n",
              "      <td>NaN</td>\n",
              "      <td>2020-05-10 02:47:49</td>\n",
              "    </tr>\n",
              "    <tr>\n",
              "      <th>1003</th>\n",
              "      <td>Baldwin County, Alabama</td>\n",
              "      <td>True</td>\n",
              "      <td>https://www.bcbe.org/Page/22126</td>\n",
              "      <td>2020-03-21</td>\n",
              "      <td>NaN</td>\n",
              "      <td>https://www.alabamapublichealth.gov/legal/asse...</td>\n",
              "      <td>2020-05-11</td>\n",
              "      <td>False</td>\n",
              "      <td></td>\n",
              "      <td>NaN</td>\n",
              "      <td>NaN</td>\n",
              "      <td>https://www.alabamapublichealth.gov/legal/asse...</td>\n",
              "      <td>2020-05-11</td>\n",
              "      <td>True</td>\n",
              "      <td>https://www.alabamapublichealth.gov/legal/asse...</td>\n",
              "      <td>2020-05-11</td>\n",
              "      <td>True</td>\n",
              "      <td>https://alpublichealth.maps.arcgis.com/apps/op...</td>\n",
              "      <td>2020-04-23</td>\n",
              "      <td>False</td>\n",
              "      <td></td>\n",
              "      <td>NaN</td>\n",
              "      <td>2020-05-18 23:39:05</td>\n",
              "    </tr>\n",
              "    <tr>\n",
              "      <th>1005</th>\n",
              "      <td>Barbour County, Alabama</td>\n",
              "      <td>True</td>\n",
              "      <td>https://governor.alabama.gov/assets/2020/03/Al...</td>\n",
              "      <td>2020-03-19</td>\n",
              "      <td>False</td>\n",
              "      <td>https://alabamapublichealth.gov/legal/assets/o...</td>\n",
              "      <td>2020-04-30</td>\n",
              "      <td>False</td>\n",
              "      <td></td>\n",
              "      <td>NaN</td>\n",
              "      <td>True</td>\n",
              "      <td>https://governor.alabama.gov/assets/2020/04/Fi...</td>\n",
              "      <td>2020-04-04</td>\n",
              "      <td>True</td>\n",
              "      <td>https://governor.alabama.gov/assets/2020/03/Al...</td>\n",
              "      <td>2020-03-19</td>\n",
              "      <td>False</td>\n",
              "      <td>https://www.mainstreetfamilycare.com/coronavir...</td>\n",
              "      <td>NaN</td>\n",
              "      <td>False</td>\n",
              "      <td></td>\n",
              "      <td>NaN</td>\n",
              "      <td>2020-05-23 18:51:26</td>\n",
              "    </tr>\n",
              "    <tr>\n",
              "      <th>1007</th>\n",
              "      <td>Bibb County, Alabama</td>\n",
              "      <td>True</td>\n",
              "      <td>https://governor.alabama.gov/assets/2020/03/Al...</td>\n",
              "      <td>2020-03-19</td>\n",
              "      <td>False</td>\n",
              "      <td>https://www.alabamapublichealth.gov/legal/asse...</td>\n",
              "      <td>2020-04-30</td>\n",
              "      <td>False</td>\n",
              "      <td></td>\n",
              "      <td>NaN</td>\n",
              "      <td>True</td>\n",
              "      <td>https://governor.alabama.gov/assets/2020/04/Fi...</td>\n",
              "      <td>2020-04-04</td>\n",
              "      <td>True</td>\n",
              "      <td>https://governor.alabama.gov/assets/2020/03/Al...</td>\n",
              "      <td>2020-03-19</td>\n",
              "      <td>True</td>\n",
              "      <td>http://alabamapublichealth.gov/news/2020/05/11...</td>\n",
              "      <td>2020-05-11</td>\n",
              "      <td>False</td>\n",
              "      <td></td>\n",
              "      <td>NaN</td>\n",
              "      <td>2020-05-23 19:22:13</td>\n",
              "    </tr>\n",
              "    <tr>\n",
              "      <th>1009</th>\n",
              "      <td>Blount County, Alabama</td>\n",
              "      <td>True</td>\n",
              "      <td>https://whnt.com/news/covid-19/covid-19-impact...</td>\n",
              "      <td>2020-03-16</td>\n",
              "      <td>False</td>\n",
              "      <td>https://governor.alabama.gov/assets/2020/04/Sa...</td>\n",
              "      <td>2020-04-30</td>\n",
              "      <td>NaN</td>\n",
              "      <td></td>\n",
              "      <td>NaN</td>\n",
              "      <td>True</td>\n",
              "      <td>https://www.alsde.edu/COVID19%20Updates/Alabam...</td>\n",
              "      <td>2020-03-17</td>\n",
              "      <td>True</td>\n",
              "      <td>https://www.alsde.edu/COVID19%20Updates/Alabam...</td>\n",
              "      <td>2020-03-17</td>\n",
              "      <td>True</td>\n",
              "      <td>https://www.alabamapublichealth.gov/news/2020/...</td>\n",
              "      <td>2020-04-22</td>\n",
              "      <td>NaN</td>\n",
              "      <td></td>\n",
              "      <td>NaN</td>\n",
              "      <td>2020-05-10 02:14:32</td>\n",
              "    </tr>\n",
              "  </tbody>\n",
              "</table>\n",
              "</div>"
            ],
            "text/plain": [
              "                  county_name school  ... transport_date             updated\n",
              "fips                                  ...                                   \n",
              "1001  Autauga County, Alabama   True  ...            NaN 2020-05-10 02:47:49\n",
              "1003  Baldwin County, Alabama   True  ...            NaN 2020-05-18 23:39:05\n",
              "1005  Barbour County, Alabama   True  ...            NaN 2020-05-23 18:51:26\n",
              "1007     Bibb County, Alabama   True  ...            NaN 2020-05-23 19:22:13\n",
              "1009   Blount County, Alabama   True  ...            NaN 2020-05-10 02:14:32\n",
              "\n",
              "[5 rows x 23 columns]"
            ]
          },
          "metadata": {
            "tags": []
          },
          "execution_count": 18
        }
      ]
    },
    {
      "cell_type": "code",
      "metadata": {
        "id": "m2MzY36Oe8KV",
        "colab_type": "code",
        "colab": {}
      },
      "source": [
        "with open(\"county_policies.csv\", \"w\") as outfile:\n",
        "  outfile.write(policies_agg.to_csv())\n",
        "\n",
        "  "
      ],
      "execution_count": 19,
      "outputs": []
    },
    {
      "cell_type": "code",
      "metadata": {
        "id": "E07uIK8cJo3a",
        "colab_type": "code",
        "colab": {
          "base_uri": "https://localhost:8080/",
          "height": 34
        },
        "outputId": "9e520489-ff2a-440c-e5a4-0daec17421c3"
      },
      "source": [
        "full_policies.shape"
      ],
      "execution_count": 24,
      "outputs": [
        {
          "output_type": "execute_result",
          "data": {
            "text/plain": [
              "(2301, 23)"
            ]
          },
          "metadata": {
            "tags": []
          },
          "execution_count": 24
        }
      ]
    },
    {
      "cell_type": "code",
      "metadata": {
        "id": "e2-2NV9JfB2R",
        "colab_type": "code",
        "colab": {
          "base_uri": "https://localhost:8080/",
          "height": 34
        },
        "outputId": "95b4f910-a46e-4d1a-b566-3686a20ac435"
      },
      "source": [
        "policies_agg.shape"
      ],
      "execution_count": 23,
      "outputs": [
        {
          "output_type": "execute_result",
          "data": {
            "text/plain": [
              "(1164, 23)"
            ]
          },
          "metadata": {
            "tags": []
          },
          "execution_count": 23
        }
      ]
    },
    {
      "cell_type": "code",
      "metadata": {
        "id": "_HLYj7sSWxN-",
        "colab_type": "code",
        "colab": {}
      },
      "source": [
        "## NYT Data Import\n",
        "\n",
        "raw_county_data = pd.read_csv(\"https://raw.githubusercontent.com/nytimes/covid-19-data/master/us-counties.csv\")\n",
        "raw_state_data = pd.read_csv(\"https://raw.githubusercontent.com/nytimes/covid-19-data/master/us-states.csv\")\n",
        "\n",
        "with urllib.request.urlopen(\"https://www2.census.gov/programs-surveys/popest/datasets/2010-2019/counties/totals/co-est2019-alldata.csv\") as infile:\n",
        "  raw_data = infile.read()\n",
        "# Deal with encoding issues in the Census CSV file.\n",
        "replacements = {0xed: \"í\", 0xe1: \"á\", 0xf3: \"ó\", 0xf1: \"ñ\", 0xfc:\"ü\"}\n",
        "for char, repl in replacements.items():\n",
        "  raw_data = raw_data.replace(bytes([char]), repl.encode())\n",
        "raw_census = pd.read_csv(io.BytesIO(raw_data))\n",
        "census = raw_census.copy()\n",
        "census[\"fips\"] = census.STATE * 1000 + census.COUNTY\n",
        "census.set_index(\"fips\", inplace=True)\n",
        "\n",
        "\n",
        "def get_latest(raw_data):\n",
        "  # Filter out data with missing FIPS codes\n",
        "  data = raw_data[(raw_data.fips < 100000) & (raw_data.fips >= 0)].copy()\n",
        "  data.fips = data.fips.astype(int)\n",
        "  data = data[[\"fips\", \"cases\", \"deaths\", \"date\"]].copy()\n",
        "  # data.set_index(\"fips\", inplace=True)\n",
        "  return data.groupby(by=\"fips\").agg(func=max)\n",
        "\n",
        "\n",
        "\n",
        "county_data = get_latest(raw_county_data)\n",
        "state_data = get_latest(raw_state_data)\n"
      ],
      "execution_count": 25,
      "outputs": []
    },
    {
      "cell_type": "code",
      "metadata": {
        "id": "sfFkp2fIAXj8",
        "colab_type": "code",
        "colab": {}
      },
      "source": [
        "\n",
        "# NY Times lumps all NYC together, we extrapolate by pop\n",
        "\n",
        "NYC_COUNTIES = [\n",
        "                36061,  # New York County\n",
        "                36047,  # Kings County\n",
        "                36005,  # Bronx County\n",
        "                36085,  # Richmond County\n",
        "                36081,  # Queens County\n",
        "]\n",
        "\n",
        "\n",
        "nycensus = census[census.index.isin(NYC_COUNTIES)]\n",
        "nyc_proportions = nycensus.CENSUS2010POP / nycensus.CENSUS2010POP.sum()\n",
        "nyc_data = raw_county_data[raw_county_data.county == \"New York City\"].agg(func=max)[[\"cases\", \"deaths\", \"date\"]]\n",
        "nyc_scaled = {}\n",
        "for fips, proportion in nyc_proportions.items():\n",
        "  nyc_scaled[fips] = {\n",
        "      \"cases\": round(proportion * nyc_data.cases),\n",
        "      \"deaths\": round(proportion * nyc_data.deaths),\n",
        "      \"date\": nyc_data.date,\n",
        "  }\n",
        "county_data = county_data.append(pd.DataFrame.from_dict(nyc_scaled, orient=\"index\"))\n",
        "\n",
        "\n",
        "county_data[\"pop\"] = census.CENSUS2010POP[county_data.index]\n",
        "\n",
        "state_populations = census[census.COUNTY == 0].set_index(\"STATE\").CENSUS2010POP\n",
        "state_populations[60] = 56079  # American Samoa\n",
        "state_populations[66] = 159358  # Guam\n",
        "state_populations[69] = 53971  # Northern Mariana Islands\n",
        "state_populations[72] = 3725789  # Puerto Rico\n",
        "state_populations[78] = 106405  # Virgin Islands\n",
        "\n",
        "state_data[\"pop\"] = state_populations\n",
        "\n",
        "with open(\"county_cases.json\", \"w\") as outfile:\n",
        "  outfile.write(county_data.to_json(orient=\"index\"))\n",
        "\n",
        "with open(\"state_cases.json\", \"w\") as outfile:\n",
        "  outfile.write(state_data.to_json(orient=\"index\"))"
      ],
      "execution_count": 26,
      "outputs": []
    },
    {
      "cell_type": "code",
      "metadata": {
        "id": "U4d6qe0-A7w3",
        "colab_type": "code",
        "colab": {}
      },
      "source": [
        "#county_data['fips'] = county_data.index"
      ],
      "execution_count": 27,
      "outputs": []
    },
    {
      "cell_type": "code",
      "metadata": {
        "id": "TohHjjrckwQc",
        "colab_type": "code",
        "colab": {}
      },
      "source": [
        "policies_agg = policies_agg.join(county_data, on='fips' )"
      ],
      "execution_count": 28,
      "outputs": []
    },
    {
      "cell_type": "code",
      "metadata": {
        "id": "G692YAteqpmy",
        "colab_type": "code",
        "colab": {}
      },
      "source": [
        "with open(\"county_policies.csv\", \"w\") as outfile:\n",
        "  outfile.write(policies_agg.to_csv())\n",
        "\n",
        "with open(\"county_policies.json\", \"w\") as outfile:\n",
        "  outfile.write(policies_agg.to_json(orient=\"index\"))"
      ],
      "execution_count": 29,
      "outputs": []
    },
    {
      "cell_type": "code",
      "metadata": {
        "id": "TY0nwk1bk3Yr",
        "colab_type": "code",
        "colab": {
          "base_uri": "https://localhost:8080/",
          "height": 425
        },
        "outputId": "bd7cf87b-6bde-461e-cb3c-949c10528e59"
      },
      "source": [
        "policies_agg.head()"
      ],
      "execution_count": 30,
      "outputs": [
        {
          "output_type": "execute_result",
          "data": {
            "text/html": [
              "<div>\n",
              "<style scoped>\n",
              "    .dataframe tbody tr th:only-of-type {\n",
              "        vertical-align: middle;\n",
              "    }\n",
              "\n",
              "    .dataframe tbody tr th {\n",
              "        vertical-align: top;\n",
              "    }\n",
              "\n",
              "    .dataframe thead th {\n",
              "        text-align: right;\n",
              "    }\n",
              "</style>\n",
              "<table border=\"1\" class=\"dataframe\">\n",
              "  <thead>\n",
              "    <tr style=\"text-align: right;\">\n",
              "      <th></th>\n",
              "      <th>county_name</th>\n",
              "      <th>school</th>\n",
              "      <th>school_url</th>\n",
              "      <th>school_date</th>\n",
              "      <th>work</th>\n",
              "      <th>work_url</th>\n",
              "      <th>work_date</th>\n",
              "      <th>shelter_enforcement</th>\n",
              "      <th>shelter_enforcement_url</th>\n",
              "      <th>shelter_enforcement_date</th>\n",
              "      <th>shelter</th>\n",
              "      <th>shelter_url</th>\n",
              "      <th>shelter_date</th>\n",
              "      <th>event</th>\n",
              "      <th>event_url</th>\n",
              "      <th>event_date</th>\n",
              "      <th>testing</th>\n",
              "      <th>testing_url</th>\n",
              "      <th>testing_date</th>\n",
              "      <th>transport</th>\n",
              "      <th>transport_url</th>\n",
              "      <th>transport_date</th>\n",
              "      <th>updated</th>\n",
              "      <th>cases</th>\n",
              "      <th>deaths</th>\n",
              "      <th>date</th>\n",
              "      <th>pop</th>\n",
              "    </tr>\n",
              "    <tr>\n",
              "      <th>fips</th>\n",
              "      <th></th>\n",
              "      <th></th>\n",
              "      <th></th>\n",
              "      <th></th>\n",
              "      <th></th>\n",
              "      <th></th>\n",
              "      <th></th>\n",
              "      <th></th>\n",
              "      <th></th>\n",
              "      <th></th>\n",
              "      <th></th>\n",
              "      <th></th>\n",
              "      <th></th>\n",
              "      <th></th>\n",
              "      <th></th>\n",
              "      <th></th>\n",
              "      <th></th>\n",
              "      <th></th>\n",
              "      <th></th>\n",
              "      <th></th>\n",
              "      <th></th>\n",
              "      <th></th>\n",
              "      <th></th>\n",
              "      <th></th>\n",
              "      <th></th>\n",
              "      <th></th>\n",
              "      <th></th>\n",
              "    </tr>\n",
              "  </thead>\n",
              "  <tbody>\n",
              "    <tr>\n",
              "      <th>1001</th>\n",
              "      <td>Autauga County, Alabama</td>\n",
              "      <td>True</td>\n",
              "      <td>https://whnt.com/news/coronavirus/state-of-eme...</td>\n",
              "      <td>2020-03-18</td>\n",
              "      <td>False</td>\n",
              "      <td>https://governor.alabama.gov/assets/2020/04/Sa...</td>\n",
              "      <td>2020-04-30</td>\n",
              "      <td>NaN</td>\n",
              "      <td></td>\n",
              "      <td>NaN</td>\n",
              "      <td>True</td>\n",
              "      <td>https://www.alsde.edu/COVID19%20Updates/Alabam...</td>\n",
              "      <td>2020-03-19</td>\n",
              "      <td>True</td>\n",
              "      <td>https://www.alsde.edu/COVID19%20Updates/Alabam...</td>\n",
              "      <td>2020-03-19</td>\n",
              "      <td>True</td>\n",
              "      <td>https://www.alabamapublichealth.gov/news/2020/...</td>\n",
              "      <td>2020-05-01</td>\n",
              "      <td>NaN</td>\n",
              "      <td></td>\n",
              "      <td>NaN</td>\n",
              "      <td>2020-05-10 02:47:49</td>\n",
              "      <td>503.0</td>\n",
              "      <td>12.0</td>\n",
              "      <td>2020-06-28</td>\n",
              "      <td>54571.0</td>\n",
              "    </tr>\n",
              "    <tr>\n",
              "      <th>1003</th>\n",
              "      <td>Baldwin County, Alabama</td>\n",
              "      <td>True</td>\n",
              "      <td>https://www.bcbe.org/Page/22126</td>\n",
              "      <td>2020-03-21</td>\n",
              "      <td>NaN</td>\n",
              "      <td>https://www.alabamapublichealth.gov/legal/asse...</td>\n",
              "      <td>2020-05-11</td>\n",
              "      <td>False</td>\n",
              "      <td></td>\n",
              "      <td>NaN</td>\n",
              "      <td>NaN</td>\n",
              "      <td>https://www.alabamapublichealth.gov/legal/asse...</td>\n",
              "      <td>2020-05-11</td>\n",
              "      <td>True</td>\n",
              "      <td>https://www.alabamapublichealth.gov/legal/asse...</td>\n",
              "      <td>2020-05-11</td>\n",
              "      <td>True</td>\n",
              "      <td>https://alpublichealth.maps.arcgis.com/apps/op...</td>\n",
              "      <td>2020-04-23</td>\n",
              "      <td>False</td>\n",
              "      <td></td>\n",
              "      <td>NaN</td>\n",
              "      <td>2020-05-18 23:39:05</td>\n",
              "      <td>575.0</td>\n",
              "      <td>10.0</td>\n",
              "      <td>2020-06-28</td>\n",
              "      <td>182265.0</td>\n",
              "    </tr>\n",
              "    <tr>\n",
              "      <th>1005</th>\n",
              "      <td>Barbour County, Alabama</td>\n",
              "      <td>True</td>\n",
              "      <td>https://governor.alabama.gov/assets/2020/03/Al...</td>\n",
              "      <td>2020-03-19</td>\n",
              "      <td>False</td>\n",
              "      <td>https://alabamapublichealth.gov/legal/assets/o...</td>\n",
              "      <td>2020-04-30</td>\n",
              "      <td>False</td>\n",
              "      <td></td>\n",
              "      <td>NaN</td>\n",
              "      <td>True</td>\n",
              "      <td>https://governor.alabama.gov/assets/2020/04/Fi...</td>\n",
              "      <td>2020-04-04</td>\n",
              "      <td>True</td>\n",
              "      <td>https://governor.alabama.gov/assets/2020/03/Al...</td>\n",
              "      <td>2020-03-19</td>\n",
              "      <td>False</td>\n",
              "      <td>https://www.mainstreetfamilycare.com/coronavir...</td>\n",
              "      <td>NaN</td>\n",
              "      <td>False</td>\n",
              "      <td></td>\n",
              "      <td>NaN</td>\n",
              "      <td>2020-05-23 18:51:26</td>\n",
              "      <td>317.0</td>\n",
              "      <td>1.0</td>\n",
              "      <td>2020-06-28</td>\n",
              "      <td>27457.0</td>\n",
              "    </tr>\n",
              "    <tr>\n",
              "      <th>1007</th>\n",
              "      <td>Bibb County, Alabama</td>\n",
              "      <td>True</td>\n",
              "      <td>https://governor.alabama.gov/assets/2020/03/Al...</td>\n",
              "      <td>2020-03-19</td>\n",
              "      <td>False</td>\n",
              "      <td>https://www.alabamapublichealth.gov/legal/asse...</td>\n",
              "      <td>2020-04-30</td>\n",
              "      <td>False</td>\n",
              "      <td></td>\n",
              "      <td>NaN</td>\n",
              "      <td>True</td>\n",
              "      <td>https://governor.alabama.gov/assets/2020/04/Fi...</td>\n",
              "      <td>2020-04-04</td>\n",
              "      <td>True</td>\n",
              "      <td>https://governor.alabama.gov/assets/2020/03/Al...</td>\n",
              "      <td>2020-03-19</td>\n",
              "      <td>True</td>\n",
              "      <td>http://alabamapublichealth.gov/news/2020/05/11...</td>\n",
              "      <td>2020-05-11</td>\n",
              "      <td>False</td>\n",
              "      <td></td>\n",
              "      <td>NaN</td>\n",
              "      <td>2020-05-23 19:22:13</td>\n",
              "      <td>162.0</td>\n",
              "      <td>1.0</td>\n",
              "      <td>2020-06-28</td>\n",
              "      <td>22915.0</td>\n",
              "    </tr>\n",
              "    <tr>\n",
              "      <th>1009</th>\n",
              "      <td>Blount County, Alabama</td>\n",
              "      <td>True</td>\n",
              "      <td>https://whnt.com/news/covid-19/covid-19-impact...</td>\n",
              "      <td>2020-03-16</td>\n",
              "      <td>False</td>\n",
              "      <td>https://governor.alabama.gov/assets/2020/04/Sa...</td>\n",
              "      <td>2020-04-30</td>\n",
              "      <td>NaN</td>\n",
              "      <td></td>\n",
              "      <td>NaN</td>\n",
              "      <td>True</td>\n",
              "      <td>https://www.alsde.edu/COVID19%20Updates/Alabam...</td>\n",
              "      <td>2020-03-17</td>\n",
              "      <td>True</td>\n",
              "      <td>https://www.alsde.edu/COVID19%20Updates/Alabam...</td>\n",
              "      <td>2020-03-17</td>\n",
              "      <td>True</td>\n",
              "      <td>https://www.alabamapublichealth.gov/news/2020/...</td>\n",
              "      <td>2020-04-22</td>\n",
              "      <td>NaN</td>\n",
              "      <td></td>\n",
              "      <td>NaN</td>\n",
              "      <td>2020-05-10 02:14:32</td>\n",
              "      <td>189.0</td>\n",
              "      <td>1.0</td>\n",
              "      <td>2020-06-28</td>\n",
              "      <td>57322.0</td>\n",
              "    </tr>\n",
              "  </tbody>\n",
              "</table>\n",
              "</div>"
            ],
            "text/plain": [
              "                  county_name school  ...        date       pop\n",
              "fips                                  ...                      \n",
              "1001  Autauga County, Alabama   True  ...  2020-06-28   54571.0\n",
              "1003  Baldwin County, Alabama   True  ...  2020-06-28  182265.0\n",
              "1005  Barbour County, Alabama   True  ...  2020-06-28   27457.0\n",
              "1007     Bibb County, Alabama   True  ...  2020-06-28   22915.0\n",
              "1009   Blount County, Alabama   True  ...  2020-06-28   57322.0\n",
              "\n",
              "[5 rows x 27 columns]"
            ]
          },
          "metadata": {
            "tags": []
          },
          "execution_count": 30
        }
      ]
    },
    {
      "cell_type": "code",
      "metadata": {
        "id": "3QyYhi3lPVyL",
        "colab_type": "code",
        "colab": {}
      },
      "source": [
        "# with open(\"county_policies.json\", \"w\") as outfile:\n",
        "#   outfile.write(policies_agg.to_json(orient=\"index\"))"
      ],
      "execution_count": 31,
      "outputs": []
    },
    {
      "cell_type": "code",
      "metadata": {
        "id": "OW2xKMZwPu64",
        "colab_type": "code",
        "colab": {}
      },
      "source": [
        "# with open(\"state_cases.csv\", \"w\") as outfile:\n",
        "#   outfile.write(state_data.to_csv())"
      ],
      "execution_count": 32,
      "outputs": []
    },
    {
      "cell_type": "code",
      "metadata": {
        "id": "od7c5ZR6nVHC",
        "colab_type": "code",
        "colab": {
          "base_uri": "https://localhost:8080/",
          "height": 34
        },
        "outputId": "74a18920-97e3-4f87-dbcb-aedc1b589e19"
      },
      "source": [
        "# Now includes the NYT case data in policies_agg\n",
        "policies_agg.shape"
      ],
      "execution_count": 33,
      "outputs": [
        {
          "output_type": "execute_result",
          "data": {
            "text/plain": [
              "(1164, 27)"
            ]
          },
          "metadata": {
            "tags": []
          },
          "execution_count": 33
        }
      ]
    },
    {
      "cell_type": "code",
      "metadata": {
        "id": "6aUwUjH_na-k",
        "colab_type": "code",
        "colab": {}
      },
      "source": [
        "\n"
      ],
      "execution_count": null,
      "outputs": []
    },
    {
      "cell_type": "code",
      "metadata": {
        "id": "8KzcJpxunDO7",
        "colab_type": "code",
        "colab": {}
      },
      "source": [
        ""
      ],
      "execution_count": null,
      "outputs": []
    },
    {
      "cell_type": "code",
      "metadata": {
        "id": "jwC3p4UmnFsw",
        "colab_type": "code",
        "colab": {}
      },
      "source": [
        ""
      ],
      "execution_count": null,
      "outputs": []
    },
    {
      "cell_type": "code",
      "metadata": {
        "id": "ADJkzCiGo0vc",
        "colab_type": "code",
        "colab": {}
      },
      "source": [
        ""
      ],
      "execution_count": null,
      "outputs": []
    },
    {
      "cell_type": "code",
      "metadata": {
        "id": "Foy1jjYi7dBk",
        "colab_type": "code",
        "colab": {}
      },
      "source": [
        ""
      ],
      "execution_count": null,
      "outputs": []
    },
    {
      "cell_type": "code",
      "metadata": {
        "id": "VL2Anzng7dFy",
        "colab_type": "code",
        "colab": {}
      },
      "source": [
        ""
      ],
      "execution_count": 21,
      "outputs": []
    },
    {
      "cell_type": "code",
      "metadata": {
        "id": "r8nyZP94jHjq",
        "colab_type": "code",
        "colab": {}
      },
      "source": [
        ""
      ],
      "execution_count": 21,
      "outputs": []
    },
    {
      "cell_type": "code",
      "metadata": {
        "id": "eLLuoKDq7dJP",
        "colab_type": "code",
        "colab": {}
      },
      "source": [
        ""
      ],
      "execution_count": 21,
      "outputs": []
    },
    {
      "cell_type": "code",
      "metadata": {
        "id": "_r9poWYs7dMo",
        "colab_type": "code",
        "colab": {}
      },
      "source": [
        ""
      ],
      "execution_count": 21,
      "outputs": []
    },
    {
      "cell_type": "code",
      "metadata": {
        "id": "eaO5WjvCQyOj",
        "colab_type": "code",
        "colab": {}
      },
      "source": [
        ""
      ],
      "execution_count": 21,
      "outputs": []
    },
    {
      "cell_type": "code",
      "metadata": {
        "id": "Huwy_rgIr8-x",
        "colab_type": "code",
        "colab": {}
      },
      "source": [
        ""
      ],
      "execution_count": 21,
      "outputs": []
    },
    {
      "cell_type": "code",
      "metadata": {
        "id": "d6chhQ92r9C-",
        "colab_type": "code",
        "colab": {}
      },
      "source": [
        ""
      ],
      "execution_count": 21,
      "outputs": []
    },
    {
      "cell_type": "code",
      "metadata": {
        "id": "4GW3pIy2r9Gm",
        "colab_type": "code",
        "colab": {}
      },
      "source": [
        ""
      ],
      "execution_count": 21,
      "outputs": []
    },
    {
      "cell_type": "code",
      "metadata": {
        "id": "DiNK86szr9I-",
        "colab_type": "code",
        "colab": {}
      },
      "source": [
        ""
      ],
      "execution_count": 21,
      "outputs": []
    },
    {
      "cell_type": "code",
      "metadata": {
        "id": "MAn5Z2Jmr9MU",
        "colab_type": "code",
        "colab": {}
      },
      "source": [
        ""
      ],
      "execution_count": 21,
      "outputs": []
    },
    {
      "cell_type": "code",
      "metadata": {
        "id": "dO5F4vHmjY1k",
        "colab_type": "code",
        "colab": {}
      },
      "source": [
        ""
      ],
      "execution_count": 21,
      "outputs": []
    },
    {
      "cell_type": "code",
      "metadata": {
        "id": "WWTzYTfoyuEm",
        "colab_type": "code",
        "colab": {}
      },
      "source": [
        ""
      ],
      "execution_count": 21,
      "outputs": []
    },
    {
      "cell_type": "code",
      "metadata": {
        "id": "23XgpHB_UuPu",
        "colab_type": "code",
        "colab": {}
      },
      "source": [
        ""
      ],
      "execution_count": 21,
      "outputs": []
    },
    {
      "cell_type": "code",
      "metadata": {
        "id": "V-c1rUmHhGZg",
        "colab_type": "code",
        "colab": {}
      },
      "source": [
        ""
      ],
      "execution_count": 21,
      "outputs": []
    },
    {
      "cell_type": "code",
      "metadata": {
        "id": "HPAIdnl1sETf",
        "colab_type": "code",
        "colab": {}
      },
      "source": [
        ""
      ],
      "execution_count": 21,
      "outputs": []
    },
    {
      "cell_type": "code",
      "metadata": {
        "id": "Uu38I_pAWJrN",
        "colab_type": "code",
        "colab": {}
      },
      "source": [
        ""
      ],
      "execution_count": 21,
      "outputs": []
    },
    {
      "cell_type": "code",
      "metadata": {
        "id": "kAnFmKkTVfV2",
        "colab_type": "code",
        "colab": {}
      },
      "source": [
        ""
      ],
      "execution_count": 21,
      "outputs": []
    },
    {
      "cell_type": "code",
      "metadata": {
        "id": "H2D6uJTKXL_D",
        "colab_type": "code",
        "colab": {}
      },
      "source": [
        ""
      ],
      "execution_count": 21,
      "outputs": []
    },
    {
      "cell_type": "code",
      "metadata": {
        "id": "si2PdyLZgIES",
        "colab_type": "code",
        "colab": {}
      },
      "source": [
        ""
      ],
      "execution_count": 21,
      "outputs": []
    },
    {
      "cell_type": "code",
      "metadata": {
        "id": "RGeHLz99fY3s",
        "colab_type": "code",
        "colab": {}
      },
      "source": [
        ""
      ],
      "execution_count": 21,
      "outputs": []
    },
    {
      "cell_type": "code",
      "metadata": {
        "id": "tRXzVEunmxW8",
        "colab_type": "code",
        "colab": {}
      },
      "source": [
        ""
      ],
      "execution_count": 21,
      "outputs": []
    },
    {
      "cell_type": "code",
      "metadata": {
        "id": "h5-ur5yf5kNV",
        "colab_type": "code",
        "colab": {}
      },
      "source": [
        ""
      ],
      "execution_count": 21,
      "outputs": []
    },
    {
      "cell_type": "code",
      "metadata": {
        "id": "8rMq_NjU2Z7a",
        "colab_type": "code",
        "colab": {}
      },
      "source": [
        ""
      ],
      "execution_count": 21,
      "outputs": []
    },
    {
      "cell_type": "code",
      "metadata": {
        "id": "rKvrFo0HpElT",
        "colab_type": "code",
        "colab": {}
      },
      "source": [
        ""
      ],
      "execution_count": 21,
      "outputs": []
    },
    {
      "cell_type": "code",
      "metadata": {
        "id": "cuSto5jPuC74",
        "colab_type": "code",
        "colab": {}
      },
      "source": [
        ""
      ],
      "execution_count": 21,
      "outputs": []
    },
    {
      "cell_type": "code",
      "metadata": {
        "id": "iyU9k-edelne",
        "colab_type": "code",
        "colab": {}
      },
      "source": [
        ""
      ],
      "execution_count": 21,
      "outputs": []
    },
    {
      "cell_type": "code",
      "metadata": {
        "id": "ba1_n9UQqd0C",
        "colab_type": "code",
        "colab": {}
      },
      "source": [
        ""
      ],
      "execution_count": 21,
      "outputs": []
    },
    {
      "cell_type": "code",
      "metadata": {
        "id": "WiUFICjxy0Es",
        "colab_type": "code",
        "colab": {}
      },
      "source": [
        ""
      ],
      "execution_count": 21,
      "outputs": []
    },
    {
      "cell_type": "code",
      "metadata": {
        "id": "pO14pnYi0JJj",
        "colab_type": "code",
        "colab": {}
      },
      "source": [
        ""
      ],
      "execution_count": 21,
      "outputs": []
    },
    {
      "cell_type": "code",
      "metadata": {
        "id": "pFaFZKCsWfGQ",
        "colab_type": "code",
        "colab": {}
      },
      "source": [
        ""
      ],
      "execution_count": 21,
      "outputs": []
    },
    {
      "cell_type": "code",
      "metadata": {
        "id": "buAz16x-CSFl",
        "colab_type": "code",
        "colab": {}
      },
      "source": [
        ""
      ],
      "execution_count": 21,
      "outputs": []
    },
    {
      "cell_type": "code",
      "metadata": {
        "id": "aK5mbx6DW2fa",
        "colab_type": "code",
        "colab": {}
      },
      "source": [
        ""
      ],
      "execution_count": 21,
      "outputs": []
    },
    {
      "cell_type": "code",
      "metadata": {
        "id": "9AUCQIxIDoKv",
        "colab_type": "code",
        "colab": {}
      },
      "source": [
        ""
      ],
      "execution_count": 21,
      "outputs": []
    },
    {
      "cell_type": "code",
      "metadata": {
        "id": "FEG5Uv1mD_n0",
        "colab_type": "code",
        "colab": {}
      },
      "source": [
        ""
      ],
      "execution_count": 21,
      "outputs": []
    },
    {
      "cell_type": "code",
      "metadata": {
        "id": "hrMCzZ0jD_lm",
        "colab_type": "code",
        "colab": {}
      },
      "source": [
        ""
      ],
      "execution_count": 21,
      "outputs": []
    },
    {
      "cell_type": "code",
      "metadata": {
        "id": "rOhyE8IoD_jQ",
        "colab_type": "code",
        "colab": {}
      },
      "source": [
        ""
      ],
      "execution_count": 21,
      "outputs": []
    },
    {
      "cell_type": "code",
      "metadata": {
        "id": "i8hhtEJ9D_gy",
        "colab_type": "code",
        "colab": {}
      },
      "source": [
        ""
      ],
      "execution_count": 21,
      "outputs": []
    },
    {
      "cell_type": "code",
      "metadata": {
        "id": "xDdDtulKD_eL",
        "colab_type": "code",
        "colab": {}
      },
      "source": [
        ""
      ],
      "execution_count": 21,
      "outputs": []
    },
    {
      "cell_type": "code",
      "metadata": {
        "id": "BGtwCSA1YCDk",
        "colab_type": "code",
        "colab": {}
      },
      "source": [
        "  "
      ],
      "execution_count": null,
      "outputs": []
    },
    {
      "cell_type": "code",
      "metadata": {
        "id": "VFwCW8dbY6aD",
        "colab_type": "code",
        "colab": {}
      },
      "source": [
        ""
      ],
      "execution_count": null,
      "outputs": []
    },
    {
      "cell_type": "code",
      "metadata": {
        "id": "-3SC0qlBy_aU",
        "colab_type": "code",
        "colab": {}
      },
      "source": [
        ""
      ],
      "execution_count": null,
      "outputs": []
    }
  ]
}