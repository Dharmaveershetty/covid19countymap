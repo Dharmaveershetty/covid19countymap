{
  "nbformat": 4,
  "nbformat_minor": 0,
  "metadata": {
    "colab": {
      "name": "UPDATED Hikma COVID-19 Response - County Google Sheet Export",
      "provenance": [],
      "collapsed_sections": [],
      "toc_visible": true,
      "include_colab_link": true
    },
    "kernelspec": {
      "name": "python3",
      "display_name": "Python 3"
    }
  },
  "cells": [
    {
      "cell_type": "markdown",
      "metadata": {
        "id": "view-in-github",
        "colab_type": "text"
      },
      "source": [
        "<a href=\"https://colab.research.google.com/github/hikmahealth/covid19countymap/blob/master/Hikma_COVID_19_Native_Community_Google_Sheet_Export.ipynb\" target=\"_parent\"><img src=\"https://colab.research.google.com/assets/colab-badge.svg\" alt=\"Open In Colab\"/></a>"
      ]
    },
    {
      "cell_type": "markdown",
      "metadata": {
        "id": "L2_sIcc61eZr",
        "colab_type": "text"
      },
      "source": [
        "# Hikma COVID-19 Response - County Google Sheet Export\n",
        "\n",
        "License: Apache 2.0"
      ]
    },
    {
      "cell_type": "code",
      "metadata": {
        "id": "y8RA77Gzl1hj",
        "colab_type": "code",
        "colab": {}
      },
      "source": [
        "import copy\n",
        "import io\n",
        "import json\n",
        "import urllib\n",
        "\n",
        "from google.colab import auth\n",
        "from oauth2client.client import GoogleCredentials\n",
        "import gspread\n",
        "import pandas as pd\n",
        "import numpy as np\n"
      ],
      "execution_count": 0,
      "outputs": []
    },
    {
      "cell_type": "markdown",
      "metadata": {
        "id": "iqjT6gRpPK13",
        "colab_type": "text"
      },
      "source": [
        "## Use census data to map county name to FIPS code"
      ]
    },
    {
      "cell_type": "code",
      "metadata": {
        "id": "-abzKWKAPOak",
        "colab_type": "code",
        "colab": {}
      },
      "source": [
        "with urllib.request.urlopen(\"https://www2.census.gov/programs-surveys/popest/datasets/2010-2019/counties/totals/co-est2019-alldata.csv\") as infile:\n",
        "  raw_data = infile.read()\n",
        "# Deal with encoding issues in the Census CSV file.\n",
        "replacements = {0xed: \"í\", 0xe1: \"á\", 0xf3: \"ó\", 0xf1: \"ñ\", 0xfc:\"ü\"}\n",
        "for char, repl in replacements.items():\n",
        "  raw_data = raw_data.replace(bytes([char]), repl.encode())\n",
        "raw_census = pd.read_csv(io.BytesIO(raw_data))"
      ],
      "execution_count": 0,
      "outputs": []
    },
    {
      "cell_type": "code",
      "metadata": {
        "id": "YBv539-yPS5z",
        "colab_type": "code",
        "colab": {}
      },
      "source": [
        "census = raw_census[raw_census.COUNTY != 0].copy()"
      ],
      "execution_count": 0,
      "outputs": []
    },
    {
      "cell_type": "code",
      "metadata": {
        "id": "tfS_ChfOPgW-",
        "colab_type": "code",
        "colab": {}
      },
      "source": [
        "census[\"fips\"] = census.STATE * 1000 + census.COUNTY\n",
        "census.set_index(\"fips\", inplace=True)\n",
        "census[\"full_name\"] = census.CTYNAME + \", \" + census.STNAME\n",
        "fips_code_mapping = {name: i for i, name in census.full_name.items()}"
      ],
      "execution_count": 0,
      "outputs": []
    },
    {
      "cell_type": "markdown",
      "metadata": {
        "id": "3SdNheJy6chp",
        "colab_type": "text"
      },
      "source": [
        "## Read the data from Google Sheets"
      ]
    },
    {
      "cell_type": "code",
      "metadata": {
        "id": "9s_rHojhm2QR",
        "colab_type": "code",
        "colab": {}
      },
      "source": [
        "auth.authenticate_user()\n",
        "sheets_client = gspread.authorize(GoogleCredentials.get_application_default())\n",
        "sheet = sheets_client.open_by_url(\"https://docs.google.com/spreadsheets/d/1LRqAKVYpa2uhQcwD8rragwuvU6gMLRzYupihsURC8Cg/edit#gid=519201207\")"
      ],
      "execution_count": 0,
      "outputs": []
    },
    {
      "cell_type": "code",
      "metadata": {
        "id": "Y9RTG06c0ZB1",
        "colab_type": "code",
        "colab": {}
      },
      "source": [
        "raw_policies = pd.DataFrame(sheet.sheet1.get_all_records())"
      ],
      "execution_count": 0,
      "outputs": []
    },
    {
      "cell_type": "markdown",
      "metadata": {
        "id": "ePWHFP576fEn",
        "colab_type": "text"
      },
      "source": [
        "## Clean up the county-level data"
      ]
    },
    {
      "cell_type": "markdown",
      "metadata": {
        "id": "3ksBpL0Y1XLm",
        "colab_type": "text"
      },
      "source": [
        "### Encode free-text column values"
      ]
    },
    {
      "cell_type": "code",
      "metadata": {
        "id": "J8WK0cHFBRlI",
        "colab_type": "code",
        "colab": {}
      },
      "source": [
        "dimensions = [\"school\", \"work\", \"shelter\", \"shelter_enforcement\", \"event\", \"testing\", \"transport\"]"
      ],
      "execution_count": 0,
      "outputs": []
    },
    {
      "cell_type": "code",
      "metadata": {
        "id": "ZChPxOF7e1Hw",
        "colab_type": "code",
        "colab": {}
      },
      "source": [
        "full_policies = raw_policies.rename(columns={\n",
        "    \"You are filling out the form for the following county:\": \"county_name\",\n",
        "    \"Are schools closed in this county?\": \"school\",\n",
        "    \"If yes, please provide the URL to information regarding school closures.\": \"school_url\",\n",
        "    \"If yes, please provide the date of when this policy on school closures took or will take effect.\": \"school_date\",\n",
        "    \"Are non-essential workplaces closed? Is there any language that suggests that those who do not provide essential services should work from home or stop working?\": \"work\",\n",
        "    \"If yes, please provide the URL to information regarding non-essential workplace closures.\": \"work_url\",\n",
        "    \"If yes, provide the date of when this policy took or will take effect.\": \"work_date\",\n",
        "    \"Is social distancing or shelter-in-place being enforced with fines or penalties in this county? \": \"shelter_enforcement\",\n",
        "    \"If yes, please provide the URL to information regarding fine or penalty enforcement.\": \"shelter_enforcement_url\",\n",
        "    \"If yes, please provide the date of when this fine or penalty enforcement took or will take effect.\": \"shelter_enforcement_date\",\n",
        "    \"Is there a shelter-in-place or stay-at-home order in this county? For example, were people advised to maintain social distance or abstain from all physical interactions or non-essential trips whenever possible?\": \"shelter\",\n",
        "    \"If yes, please provide the URL to information regarding the shelter-in-place or social distancing policy.\": \"shelter_url\",\n",
        "    \"If yes, please provide the date of when this shelter-in-place or social distancing policy took or will take effect.\": \"shelter_date\",\n",
        "    \"Is there any order that public events should be restricted in size or outright cancelled?\": \"event\",\n",
        "    \"If yes, please provide the URL to information regarding public events restrictions.\": \"event_url\",\n",
        "    \"If yes, please provide the date of when the cancellation of public events was or will be in effect.\": \"event_date\",\n",
        "    \"Are there public facilities with COVID testing available in this county? \": \"testing\",\n",
        "    \"If yes, please provide the URL to information regarding testing facilities.\": \"testing_url\",\n",
        "    \"If yes, please provide the date of when these facilities became available.\": \"testing_date\",\n",
        "    \"Look for any information about whether this county's  buses, subways, light rail, etc. are being shut down. Is any public transit system shut down?\": \"transport\",\n",
        "    \"If yes, please provide the URL to information regarding public transit.\": \"transport_url\",\n",
        "    \"If yes, please provide the date of when public transit was or will be stopped.\": \"transport_date\",\n",
        "})\n",
        "full_policies.pop(\"Are there travel restrictions in this county? For example, are people required to self-quarantine when arriving into this county?\")\n",
        "full_policies.pop(\"Are airports closed in this county? \")\n",
        "full_policies[\"fips\"] = full_policies.county_name.map(fips_code_mapping)\n",
        "full_policies.set_index(\"fips\", inplace=True)\n",
        "full_policies[\"updated\"] = pd.to_datetime(full_policies.pop(\"Timestamp\"))\n",
        "for col in dimensions:\n",
        "  full_policies[col] = full_policies[col].map({\"Yes\": True, \"No\": False, \"\":float('nan')})\n",
        "# Convert timestamp from ambiguous DD/MM/YYYY to ISO 8601 friendly YYYY-MM-DD\n",
        "for col in dimensions:\n",
        "  full_policies[col + \"_date\"] = pd.to_datetime(full_policies[col + \"_date\"]).dt.strftime(\"%Y-%m-%d\")"
      ],
      "execution_count": 0,
      "outputs": []
    },
    {
      "cell_type": "code",
      "metadata": {
        "id": "3ypA1LefFKw6",
        "colab_type": "code",
        "outputId": "6d3eeeb8-c18c-41e0-d167-028c5bfe2a3c",
        "colab": {
          "base_uri": "https://localhost:8080/",
          "height": 34
        }
      },
      "source": [
        "full_policies.school.unique()"
      ],
      "execution_count": 0,
      "outputs": [
        {
          "output_type": "execute_result",
          "data": {
            "text/plain": [
              "array([True, False, nan], dtype=object)"
            ]
          },
          "metadata": {
            "tags": []
          },
          "execution_count": 9
        }
      ]
    },
    {
      "cell_type": "markdown",
      "metadata": {
        "id": "zKTWOp8hMkHG",
        "colab_type": "text"
      },
      "source": [
        "### Deduplicate rows.\n",
        "\n",
        "Naive assumption - we assume that restrictions are never lifted, so the heaviest restriction reported for fips is still active.\n",
        "\n",
        "We will likely have to revisit this in the future."
      ]
    },
    {
      "cell_type": "code",
      "metadata": {
        "id": "dQM-WD0WAvNm",
        "colab_type": "code",
        "colab": {}
      },
      "source": [
        "# JS map not aligned to 'City' or 'Municipality' for now \n",
        "# policies_noloc = full_policies[~full_policies.county_name.str.contains('city') & ~full_policies.county_name.str.contains('Municipality')].copy()\n",
        "# JS map can handle the data with missing FIPS codes, so including other non-county locations for now\n",
        "# policies_noloc = full_policies\n",
        "# Only deduplicating and keeping first entry for now, while debugging groupby\n",
        "# policies_min = full_policies.groupby(by=\"fips\").agg(func=max)\n",
        "# policies_min = full_policies.groupby('fips').min().reset_index()\n",
        "\n",
        "policies_dedup = full_policies.drop_duplicates(subset=\"county_name\").reset_index()\n",
        "\n",
        "# Remove if NA for FIPS (if submitter of data changed county name and FIPS could not be correctly mapped\n",
        "policies_min = policies_dedup[~policies_dedup.fips.isna() & (policies_dedup.fips < 100000) & (policies_dedup.fips >= 0)].copy()\n",
        "\n",
        "policies_min2 = policies_min"
      ],
      "execution_count": 0,
      "outputs": []
    },
    {
      "cell_type": "code",
      "metadata": {
        "id": "48v3jLKZgtSK",
        "colab_type": "code",
        "colab": {}
      },
      "source": [
        "policies_min2.set_index('fips', inplace=True);\n",
        "# full_policies.groupby('fips')['updated'].sum()"
      ],
      "execution_count": 0,
      "outputs": []
    },
    {
      "cell_type": "code",
      "metadata": {
        "id": "evB-OdNUoE0i",
        "colab_type": "code",
        "colab": {}
      },
      "source": [
        "# function that has the following aggregation behavior:\n",
        "# pick the most recently submitted entry on any particular policy, inherit latest policy for each policy \n",
        "# EXCEPT if 2 or more within 24 hours of the last entered policy\n",
        "# in the case of 2 entries with disagreement, pick the one that is most open (i.e. favor No over Yes)\n",
        "# if 3+ entries within 24 hours then take majority vote, leaning No in case of tie\n",
        "\n",
        "def agg24(df):\n",
        "  polcols = dimensions\n",
        "  # one entry should be returned for each county, initialize to first entry and edit later\n",
        "  findf = df.head(1)\n",
        "  for col in polcols:\n",
        "    # find last non-null datapoint for that policy\n",
        "    filldf = df[~df[col].isnull()]\n",
        "    tmax = filldf.updated.max()\n",
        "    tcut = tmax - np.timedelta64(24,'h')\n",
        "    reduced = filldf.drop(filldf[filldf.updated < tcut].index)\n",
        "\n",
        "    # will return date and URL of the last entry that matched the final boolean\n",
        "    urlcol = col + '_url'\n",
        "    datecol = col + '_date'\n",
        "    \n",
        "    if reduced[col].size == 0:\n",
        "       decision = float('nan')\n",
        "    elif np.sum(reduced[col])/reduced[col].size > 0.50001:\n",
        "      decision = True\n",
        "    else:\n",
        "      decision = False\n",
        "    findf[col].iloc[0] = decision\n",
        "    sourced = reduced[reduced[col] == decision]\n",
        "\n",
        "    if sourced[col].shape[0] > 0:\n",
        "      # print(sourced.shape[0])\n",
        "      findf[urlcol].iloc[0] = sourced[urlcol].iloc[sourced.shape[0]-1]\n",
        "      findf[datecol].iloc[0] = sourced[datecol].iloc[sourced.shape[0]-1]\n",
        "\n",
        " #   if reduced[col].isna().all()\n",
        "  return findf\n",
        "  "
      ],
      "execution_count": 0,
      "outputs": []
    },
    {
      "cell_type": "code",
      "metadata": {
        "id": "gmpjBSTgjsVG",
        "colab_type": "code",
        "colab": {}
      },
      "source": [
        "policies_agg = full_policies.groupby('fips').apply(agg24)"
      ],
      "execution_count": 0,
      "outputs": []
    },
    {
      "cell_type": "code",
      "metadata": {
        "id": "vEVX4etmmFi4",
        "colab_type": "code",
        "colab": {}
      },
      "source": [
        "policies_agg = policies_agg.droplevel(1)"
      ],
      "execution_count": 0,
      "outputs": []
    },
    {
      "cell_type": "code",
      "metadata": {
        "id": "9qBSp8kagMXA",
        "colab_type": "code",
        "colab": {}
      },
      "source": [
        "policies_agg.pop(\"county_name\");\n",
        "# policies_min.set_index('fips', inplace=True);\n",
        "#Identifying the problematic row\n",
        "# policies_debug = policies_min[0:140]\n",
        "# policies_min = policies_debug"
      ],
      "execution_count": 0,
      "outputs": []
    },
    {
      "cell_type": "code",
      "metadata": {
        "id": "3QyYhi3lPVyL",
        "colab_type": "code",
        "colab": {}
      },
      "source": [
        "with open(\"county_policies.json\", \"w\") as outfile:\n",
        "  outfile.write(policies_agg.to_json(orient=\"index\"))"
      ],
      "execution_count": 0,
      "outputs": []
    },
    {
      "cell_type": "code",
      "metadata": {
        "id": "G692YAteqpmy",
        "colab_type": "code",
        "colab": {}
      },
      "source": [
        "with open(\"county_policies.csv\", \"w\") as outfile:\n",
        "  outfile.write(policies_agg.to_csv())"
      ],
      "execution_count": 0,
      "outputs": []
    },
    {
      "cell_type": "code",
      "metadata": {
        "id": "VVfSuKFcquS3",
        "colab_type": "code",
        "outputId": "528a9216-dd88-4f2c-f831-e9d8fcbe5940",
        "colab": {
          "base_uri": "https://localhost:8080/",
          "height": 425
        }
      },
      "source": [
        "policies_agg.head()"
      ],
      "execution_count": 0,
      "outputs": [
        {
          "output_type": "execute_result",
          "data": {
            "text/html": [
              "<div>\n",
              "<style scoped>\n",
              "    .dataframe tbody tr th:only-of-type {\n",
              "        vertical-align: middle;\n",
              "    }\n",
              "\n",
              "    .dataframe tbody tr th {\n",
              "        vertical-align: top;\n",
              "    }\n",
              "\n",
              "    .dataframe thead th {\n",
              "        text-align: right;\n",
              "    }\n",
              "</style>\n",
              "<table border=\"1\" class=\"dataframe\">\n",
              "  <thead>\n",
              "    <tr style=\"text-align: right;\">\n",
              "      <th></th>\n",
              "      <th>school</th>\n",
              "      <th>school_url</th>\n",
              "      <th>school_date</th>\n",
              "      <th>work</th>\n",
              "      <th>work_url</th>\n",
              "      <th>work_date</th>\n",
              "      <th>shelter_enforcement</th>\n",
              "      <th>shelter_enforcement_url</th>\n",
              "      <th>shelter_enforcement_date</th>\n",
              "      <th>shelter</th>\n",
              "      <th>shelter_url</th>\n",
              "      <th>shelter_date</th>\n",
              "      <th>event</th>\n",
              "      <th>event_url</th>\n",
              "      <th>event_date</th>\n",
              "      <th>testing</th>\n",
              "      <th>testing_url</th>\n",
              "      <th>testing_date</th>\n",
              "      <th>transport</th>\n",
              "      <th>transport_url</th>\n",
              "      <th>transport_date</th>\n",
              "      <th>updated</th>\n",
              "    </tr>\n",
              "    <tr>\n",
              "      <th>fips</th>\n",
              "      <th></th>\n",
              "      <th></th>\n",
              "      <th></th>\n",
              "      <th></th>\n",
              "      <th></th>\n",
              "      <th></th>\n",
              "      <th></th>\n",
              "      <th></th>\n",
              "      <th></th>\n",
              "      <th></th>\n",
              "      <th></th>\n",
              "      <th></th>\n",
              "      <th></th>\n",
              "      <th></th>\n",
              "      <th></th>\n",
              "      <th></th>\n",
              "      <th></th>\n",
              "      <th></th>\n",
              "      <th></th>\n",
              "      <th></th>\n",
              "      <th></th>\n",
              "      <th></th>\n",
              "    </tr>\n",
              "  </thead>\n",
              "  <tbody>\n",
              "    <tr>\n",
              "      <th>1001</th>\n",
              "      <td>True</td>\n",
              "      <td>https://whnt.com/news/coronavirus/state-of-eme...</td>\n",
              "      <td>2020-03-18</td>\n",
              "      <td>False</td>\n",
              "      <td>https://governor.alabama.gov/assets/2020/04/Sa...</td>\n",
              "      <td>2020-04-30</td>\n",
              "      <td>NaN</td>\n",
              "      <td></td>\n",
              "      <td>NaN</td>\n",
              "      <td>True</td>\n",
              "      <td>https://www.alsde.edu/COVID19%20Updates/Alabam...</td>\n",
              "      <td>2020-03-19</td>\n",
              "      <td>True</td>\n",
              "      <td>https://www.alsde.edu/COVID19%20Updates/Alabam...</td>\n",
              "      <td>2020-03-19</td>\n",
              "      <td>True</td>\n",
              "      <td>https://www.alabamapublichealth.gov/news/2020/...</td>\n",
              "      <td>2020-05-01</td>\n",
              "      <td>NaN</td>\n",
              "      <td></td>\n",
              "      <td>NaN</td>\n",
              "      <td>2020-05-10 02:47:49</td>\n",
              "    </tr>\n",
              "    <tr>\n",
              "      <th>1003</th>\n",
              "      <td>True</td>\n",
              "      <td>https://www.bcbe.org/Page/22126</td>\n",
              "      <td>2020-03-21</td>\n",
              "      <td>True</td>\n",
              "      <td>https://www.alabamapublichealth.gov/legal/asse...</td>\n",
              "      <td>2020-05-11</td>\n",
              "      <td>False</td>\n",
              "      <td></td>\n",
              "      <td>NaN</td>\n",
              "      <td>True</td>\n",
              "      <td>https://www.alabamapublichealth.gov/legal/asse...</td>\n",
              "      <td>2020-05-11</td>\n",
              "      <td>True</td>\n",
              "      <td>https://www.alabamapublichealth.gov/legal/asse...</td>\n",
              "      <td>2020-05-11</td>\n",
              "      <td>True</td>\n",
              "      <td>https://alpublichealth.maps.arcgis.com/apps/op...</td>\n",
              "      <td>2020-04-23</td>\n",
              "      <td>False</td>\n",
              "      <td></td>\n",
              "      <td>NaN</td>\n",
              "      <td>2020-05-18 23:39:05</td>\n",
              "    </tr>\n",
              "    <tr>\n",
              "      <th>1005</th>\n",
              "      <td>True</td>\n",
              "      <td>https://governor.alabama.gov/assets/2020/03/Al...</td>\n",
              "      <td>2020-03-19</td>\n",
              "      <td>False</td>\n",
              "      <td>https://alabamapublichealth.gov/legal/assets/o...</td>\n",
              "      <td>2020-04-30</td>\n",
              "      <td>False</td>\n",
              "      <td></td>\n",
              "      <td>NaN</td>\n",
              "      <td>True</td>\n",
              "      <td>https://governor.alabama.gov/assets/2020/04/Fi...</td>\n",
              "      <td>2020-04-04</td>\n",
              "      <td>True</td>\n",
              "      <td>https://governor.alabama.gov/assets/2020/03/Al...</td>\n",
              "      <td>2020-03-19</td>\n",
              "      <td>False</td>\n",
              "      <td>https://www.mainstreetfamilycare.com/coronavir...</td>\n",
              "      <td>NaN</td>\n",
              "      <td>False</td>\n",
              "      <td></td>\n",
              "      <td>NaN</td>\n",
              "      <td>2020-05-23 18:51:26</td>\n",
              "    </tr>\n",
              "    <tr>\n",
              "      <th>1007</th>\n",
              "      <td>True</td>\n",
              "      <td>https://governor.alabama.gov/assets/2020/03/Al...</td>\n",
              "      <td>2020-03-19</td>\n",
              "      <td>False</td>\n",
              "      <td>https://www.alabamapublichealth.gov/legal/asse...</td>\n",
              "      <td>2020-04-30</td>\n",
              "      <td>False</td>\n",
              "      <td></td>\n",
              "      <td>NaN</td>\n",
              "      <td>True</td>\n",
              "      <td>https://governor.alabama.gov/assets/2020/04/Fi...</td>\n",
              "      <td>2020-04-04</td>\n",
              "      <td>True</td>\n",
              "      <td>https://governor.alabama.gov/assets/2020/03/Al...</td>\n",
              "      <td>2020-03-19</td>\n",
              "      <td>True</td>\n",
              "      <td>http://alabamapublichealth.gov/news/2020/05/11...</td>\n",
              "      <td>2020-05-11</td>\n",
              "      <td>False</td>\n",
              "      <td></td>\n",
              "      <td>NaN</td>\n",
              "      <td>2020-05-23 19:22:13</td>\n",
              "    </tr>\n",
              "    <tr>\n",
              "      <th>1009</th>\n",
              "      <td>True</td>\n",
              "      <td>https://whnt.com/news/covid-19/covid-19-impact...</td>\n",
              "      <td>2020-03-16</td>\n",
              "      <td>False</td>\n",
              "      <td>https://governor.alabama.gov/assets/2020/04/Sa...</td>\n",
              "      <td>2020-04-30</td>\n",
              "      <td>NaN</td>\n",
              "      <td></td>\n",
              "      <td>NaN</td>\n",
              "      <td>True</td>\n",
              "      <td>https://www.alsde.edu/COVID19%20Updates/Alabam...</td>\n",
              "      <td>2020-03-17</td>\n",
              "      <td>True</td>\n",
              "      <td>https://www.alsde.edu/COVID19%20Updates/Alabam...</td>\n",
              "      <td>2020-03-17</td>\n",
              "      <td>True</td>\n",
              "      <td>https://www.alabamapublichealth.gov/news/2020/...</td>\n",
              "      <td>2020-04-22</td>\n",
              "      <td>NaN</td>\n",
              "      <td></td>\n",
              "      <td>NaN</td>\n",
              "      <td>2020-05-10 02:14:32</td>\n",
              "    </tr>\n",
              "  </tbody>\n",
              "</table>\n",
              "</div>"
            ],
            "text/plain": [
              "     school  ...             updated\n",
              "fips         ...                    \n",
              "1001   True  ... 2020-05-10 02:47:49\n",
              "1003   True  ... 2020-05-18 23:39:05\n",
              "1005   True  ... 2020-05-23 18:51:26\n",
              "1007   True  ... 2020-05-23 19:22:13\n",
              "1009   True  ... 2020-05-10 02:14:32\n",
              "\n",
              "[5 rows x 22 columns]"
            ]
          },
          "metadata": {
            "tags": []
          },
          "execution_count": 18
        }
      ]
    },
    {
      "cell_type": "code",
      "metadata": {
        "id": "CG9nbYoUW602",
        "colab_type": "code",
        "colab": {}
      },
      "source": [
        ""
      ],
      "execution_count": 0,
      "outputs": []
    },
    {
      "cell_type": "code",
      "metadata": {
        "id": "l6_UPX24TCQF",
        "colab_type": "code",
        "colab": {}
      },
      "source": [
        ""
      ],
      "execution_count": 0,
      "outputs": []
    },
    {
      "cell_type": "code",
      "metadata": {
        "id": "e4tFqpibTDQb",
        "colab_type": "code",
        "colab": {}
      },
      "source": [
        "# Reformatting for Tableau\n",
        "# policies_min2['county_only'] = policies_min2['county_name'].str.split(', ', expand=True)[0]\n",
        "# policies_min2['state_only'] = policies_min2['county_name'].str.split(', ', expand=True)[1]"
      ],
      "execution_count": 0,
      "outputs": []
    },
    {
      "cell_type": "code",
      "metadata": {
        "id": "xYzKqip7Tela",
        "colab_type": "code",
        "colab": {}
      },
      "source": [
        "# policies_min2.head()"
      ],
      "execution_count": 0,
      "outputs": []
    },
    {
      "cell_type": "code",
      "metadata": {
        "id": "HA8MOgC5T39z",
        "colab_type": "code",
        "colab": {}
      },
      "source": [
        "# policies_min.columns"
      ],
      "execution_count": 0,
      "outputs": []
    },
    {
      "cell_type": "code",
      "metadata": {
        "id": "aFoWBFhFVZCQ",
        "colab_type": "code",
        "colab": {}
      },
      "source": [
        "# cols = ['county_only','state_only']\n",
        "# cols = [*cols, *policies_min.columns]"
      ],
      "execution_count": 0,
      "outputs": []
    },
    {
      "cell_type": "code",
      "metadata": {
        "id": "RR_IQaUpVhyS",
        "colab_type": "code",
        "colab": {}
      },
      "source": [
        "# policies_min2 = policies_min2[cols]"
      ],
      "execution_count": 0,
      "outputs": []
    },
    {
      "cell_type": "code",
      "metadata": {
        "id": "T2Fnhpn8V-MP",
        "colab_type": "code",
        "colab": {}
      },
      "source": [
        "# policies_min2.head()"
      ],
      "execution_count": 0,
      "outputs": []
    },
    {
      "cell_type": "code",
      "metadata": {
        "id": "dqt8ghz8WfiK",
        "colab_type": "code",
        "colab": {}
      },
      "source": [
        "# with open(\"county_policies_2.csv\", \"w\") as outfile:\n",
        "  # outfile.write(policies_min2.to_csv())"
      ],
      "execution_count": 0,
      "outputs": []
    },
    {
      "cell_type": "code",
      "metadata": {
        "id": "_HLYj7sSWxN-",
        "colab_type": "code",
        "colab": {}
      },
      "source": [
        ""
      ],
      "execution_count": 0,
      "outputs": []
    }
  ]
}
