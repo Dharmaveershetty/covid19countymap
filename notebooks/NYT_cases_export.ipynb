{
  "nbformat": 4,
  "nbformat_minor": 0,
  "metadata": {
    "colab": {
      "name": "NYT_cases_export",
      "provenance": [],
      "collapsed_sections": [],
      "authorship_tag": "ABX9TyMeQyDOu6MjBHVOH8htGnPR",
      "include_colab_link": true
    },
    "kernelspec": {
      "name": "python3",
      "display_name": "Python 3"
    }
  },
  "cells": [
    {
      "cell_type": "markdown",
      "metadata": {
        "id": "view-in-github",
        "colab_type": "text"
      },
      "source": [
        "<a href=\"https://colab.research.google.com/github/hikmahealth/covid19countymap/blob/master/notebooks/NYT_cases_export.ipynb\" target=\"_parent\"><img src=\"https://colab.research.google.com/assets/colab-badge.svg\" alt=\"Open In Colab\"/></a>"
      ]
    },
    {
      "cell_type": "code",
      "metadata": {
        "id": "GFAOvVkbm22P",
        "colab_type": "code",
        "colab": {}
      },
      "source": [
        "import json\n",
        "\n",
        "import pandas as pd"
      ],
      "execution_count": 0,
      "outputs": []
    },
    {
      "cell_type": "markdown",
      "metadata": {
        "id": "_ETKqjsinB1K",
        "colab_type": "text"
      },
      "source": [
        "Download count from the [New York Times](https://www.nytimes.com/interactive/2020/us/coronavirus-us-cases.html) [github](https://github.com/nytimes/covid-19-data)."
      ]
    },
    {
      "cell_type": "code",
      "metadata": {
        "id": "sJfAmNKum6aN",
        "colab_type": "code",
        "colab": {}
      },
      "source": [
        "raw_county_data = pd.read_csv(\"https://raw.githubusercontent.com/nytimes/covid-19-data/master/us-counties.csv\")\n",
        "raw_state_data = pd.read_csv(\"https://raw.githubusercontent.com/nytimes/covid-19-data/master/us-states.csv\")"
      ],
      "execution_count": 0,
      "outputs": []
    },
    {
      "cell_type": "code",
      "metadata": {
        "id": "LRQ6dHk3rjey",
        "colab_type": "code",
        "colab": {}
      },
      "source": [
        "def get_latest(raw_data):\n",
        "  # For some reason a lot of the data is missing FIPS codes\n",
        "  data = raw_data[(raw_data.fips < 100000) & (raw_data.fips >= 0)].copy()\n",
        "  data.fips = data.fips.astype(int)\n",
        "  data = data[[\"fips\", \"cases\", \"date\"]].copy()\n",
        "  data.set_index(\"fips\", inplace=True)\n",
        "  return data.groupby(by=\"fips\").agg(func=max)"
      ],
      "execution_count": 0,
      "outputs": []
    },
    {
      "cell_type": "code",
      "metadata": {
        "id": "WbrMoTIBr4j2",
        "colab_type": "code",
        "colab": {}
      },
      "source": [
        "county_data = get_latest(raw_county_data)\n",
        "state_data = get_latest(raw_state_data)"
      ],
      "execution_count": 0,
      "outputs": []
    },
    {
      "cell_type": "code",
      "metadata": {
        "id": "apQowEgJo8ZO",
        "colab_type": "code",
        "colab": {}
      },
      "source": [
        "with open(\"county_cases.json\", \"w\") as outfile:\n",
        "  outfile.write(county_data.to_json(orient=\"index\"))"
      ],
      "execution_count": 0,
      "outputs": []
    },
    {
      "cell_type": "code",
      "metadata": {
        "id": "QV_2mAecqg8T",
        "colab_type": "code",
        "colab": {}
      },
      "source": [
        "with open(\"state_cases.json\", \"w\") as outfile:\n",
        "  outfile.write(state_data.to_json(orient=\"index\"))"
      ],
      "execution_count": 0,
      "outputs": []
    }
  ]
}