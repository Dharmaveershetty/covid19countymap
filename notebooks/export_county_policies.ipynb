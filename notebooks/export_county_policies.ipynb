{
  "nbformat": 4,
  "nbformat_minor": 0,
  "metadata": {
    "colab": {
      "name": "Hikma COVID-19 Response - County Google Sheet Export",
      "provenance": [],
      "collapsed_sections": []
    },
    "kernelspec": {
      "name": "python3",
      "display_name": "Python 3"
    }
  },
  "cells": [
    {
      "cell_type": "markdown",
      "metadata": {
        "id": "L2_sIcc61eZr",
        "colab_type": "text"
      },
      "source": [
        "# Hikma COVID-19 Response - County Google Sheet Export\n",
        "\n",
        "License: Apache 2.0"
      ]
    },
    {
      "cell_type": "code",
      "metadata": {
        "id": "y8RA77Gzl1hj",
        "colab_type": "code",
        "colab": {}
      },
      "source": [
        "import copy\n",
        "import urllib\n",
        "import json\n",
        "\n",
        "from google.colab import auth\n",
        "from oauth2client.client import GoogleCredentials\n",
        "import gspread\n",
        "import pandas as pd\n"
      ],
      "execution_count": 0,
      "outputs": []
    },
    {
      "cell_type": "markdown",
      "metadata": {
        "id": "3SdNheJy6chp",
        "colab_type": "text"
      },
      "source": [
        "## Read the data from Google Sheets"
      ]
    },
    {
      "cell_type": "code",
      "metadata": {
        "id": "9s_rHojhm2QR",
        "colab_type": "code",
        "colab": {}
      },
      "source": [
        "auth.authenticate_user()\n",
        "sheets_client = gspread.authorize(GoogleCredentials.get_application_default())\n",
        "sheet = sheets_client.open_by_url(\"https://docs.google.com/spreadsheets/d/1i-qzjMaibMft_-NqUIqe4-dESNQlV8zNYkdlgSgMBvw/edit#gid=462803563\")"
      ],
      "execution_count": 0,
      "outputs": []
    },
    {
      "cell_type": "code",
      "metadata": {
        "id": "Y9RTG06c0ZB1",
        "colab_type": "code",
        "colab": {}
      },
      "source": [
        "raw_policies = pd.DataFrame(sheet.sheet1.get_all_records())"
      ],
      "execution_count": 0,
      "outputs": []
    },
    {
      "cell_type": "markdown",
      "metadata": {
        "id": "ePWHFP576fEn",
        "colab_type": "text"
      },
      "source": [
        "## Clean up the county-level data"
      ]
    },
    {
      "cell_type": "markdown",
      "metadata": {
        "id": "3ksBpL0Y1XLm",
        "colab_type": "text"
      },
      "source": [
        "### Encode free-text column values"
      ]
    },
    {
      "cell_type": "code",
      "metadata": {
        "id": "yc_Rl3WzVLQ2",
        "colab_type": "code",
        "colab": {}
      },
      "source": [
        "# Note: zip must come last because some of the questions include \"zip\".\n",
        "columns = ['school', 'work', 'event', 'transport', 'info', 'travel', 'testing', 'zip']\n",
        "\n",
        "def column_renamer(column_name):\n",
        "  for c in columns:\n",
        "    if c in column_name.lower():\n",
        "      return c\n",
        "  return column_name\n",
        "\n",
        "county_policies = raw_policies.rename(columns=column_renamer)"
      ],
      "execution_count": 0,
      "outputs": []
    },
    {
      "cell_type": "code",
      "metadata": {
        "colab_type": "code",
        "id": "3Qc2t-FS8vta",
        "colab": {}
      },
      "source": [
        "def make_dict(entries):\n",
        "  mapping = {v: i for i, v in enumerate(entries)}\n",
        "  mapping[\"\"] = 0  # Map no response to \"do not know\"\n",
        "  return mapping\n",
        "\n",
        "closing_encoder = make_dict(['Do not know', 'No', 'Yes, recommended to close',\n",
        "                            'Yes, required to close'])\n",
        "cancelling_encoder = make_dict(['Do not know', 'No', 'Yes, recommended to cancel',\n",
        "                            'Yes, required to cancel'])\n",
        "restriction_encoder = make_dict(['Do not know', 'No restrictions',\n",
        "                                 'Yes, recommended restrictions',\n",
        "                                 'Yes, required restrictions'])\n",
        "info_encoder = make_dict(['Do not know', 'No public campaigns',\n",
        "                         'Yes, I know of public campaigns'])\n",
        "testing_encoder = make_dict(['Do not know', 'No, thre are no facilities',\n",
        "                             'Yes, I have heard there are testing facilities',\n",
        "                             'Yes, I have seen the tests done'])\n",
        "\n",
        "encoders = {\n",
        "    'school': closing_encoder,\n",
        "    'work':closing_encoder,\n",
        "    'info': info_encoder,\n",
        "    'event': cancelling_encoder,\n",
        "    'transport': closing_encoder,\n",
        "    'travel': restriction_encoder,\n",
        "    'testing': testing_encoder,\n",
        "}\n",
        "\n",
        "\n",
        "for column, encoder in encoders.items():\n",
        "  county_policies[column] = county_policies[column].map(encoder)"
      ],
      "execution_count": 0,
      "outputs": []
    },
    {
      "cell_type": "code",
      "metadata": {
        "id": "Zp6bYtTtAG7h",
        "colab_type": "code",
        "colab": {}
      },
      "source": [
        " with urllib.request.urlopen(\"https://raw.githubusercontent.com/bgruber/zip2fips/master/zip2fips.json\") as infile:\n",
        "   zip2fips_raw = json.loads(infile.read())\n",
        "zip2fips = {int(k): int(v) for k, v in zip2fips_raw.items()}"
      ],
      "execution_count": 0,
      "outputs": []
    },
    {
      "cell_type": "code",
      "metadata": {
        "id": "ZanEnO5UAoS1",
        "colab_type": "code",
        "colab": {}
      },
      "source": [
        "county_policies[\"fips\"] = county_policies[\"zip\"].map(zip2fips)\n",
        "county_policies.pop(\"zip\")\n",
        "county_policies.set_index(\"fips\", inplace=True)"
      ],
      "execution_count": 0,
      "outputs": []
    },
    {
      "cell_type": "code",
      "metadata": {
        "id": "Cygl6c6OLmp6",
        "colab_type": "code",
        "colab": {}
      },
      "source": [
        "county_policies[\"ts\"] = pd.to_datetime(county_policies.pop('Timestamp'))"
      ],
      "execution_count": 0,
      "outputs": []
    },
    {
      "cell_type": "markdown",
      "metadata": {
        "id": "zKTWOp8hMkHG",
        "colab_type": "text"
      },
      "source": [
        "### Deduplicate rows.\n",
        "\n",
        "Naive assumption - we assume that restrictions are never lifted, so the heaviest restriction reported for fips is still active.\n",
        "\n",
        "We will likely have to revisit this in the future."
      ]
    },
    {
      "cell_type": "code",
      "metadata": {
        "id": "nvuQ0LHYMX71",
        "colab_type": "code",
        "colab": {}
      },
      "source": [
        "county_policies_min = county_policies.groupby(by=\"fips\").agg(func=max)"
      ],
      "execution_count": 0,
      "outputs": []
    },
    {
      "cell_type": "markdown",
      "metadata": {
        "id": "piRJrmkMNc5_",
        "colab_type": "text"
      },
      "source": [
        "### Data Export"
      ]
    },
    {
      "cell_type": "code",
      "metadata": {
        "id": "3QyYhi3lPVyL",
        "colab_type": "code",
        "colab": {}
      },
      "source": [
        "with open(\"county_policies.json\", \"w\") as outfile:\n",
        "  outfile.write(county_policies_min.to_json(orient=\"index\"))"
      ],
      "execution_count": 0,
      "outputs": []
    },
    {
      "cell_type": "code",
      "metadata": {
        "id": "cAJGi_wmNHdQ",
        "colab_type": "code",
        "colab": {}
      },
      "source": [
        "# Dump column decoders as well.\n",
        "# We reverse the map from integer to string, but not no information default.\n",
        "decoders = {c: {i: s for s, i in enc.items() if i}\n",
        "            for c, enc in encoders.items()}"
      ],
      "execution_count": 0,
      "outputs": []
    },
    {
      "cell_type": "code",
      "metadata": {
        "id": "zihN2UWMNwhz",
        "colab_type": "code",
        "colab": {}
      },
      "source": [
        "with open(\"policy_decoders.json\", \"w\") as outfile:\n",
        "  json.dump(decoders, outfile)"
      ],
      "execution_count": 0,
      "outputs": []
    },
    {
      "cell_type": "code",
      "metadata": {
        "id": "8QV1ktTyl2ut",
        "colab_type": "code",
        "outputId": "5615127a-91b6-43fe-b58e-5ce0facbea70",
        "colab": {
          "base_uri": "https://localhost:8080/",
          "height": 51
        }
      },
      "source": [
        "!tar -czvf json_county_policies.tar.gz county_policies.json policy_decoders.json"
      ],
      "execution_count": 13,
      "outputs": [
        {
          "output_type": "stream",
          "text": [
            "county_policies.json\n",
            "policy_decoders.json\n"
          ],
          "name": "stdout"
        }
      ]
    }
  ]
}
