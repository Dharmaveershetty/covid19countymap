{
  "nbformat": 4,
  "nbformat_minor": 0,
  "metadata": {
    "colab": {
      "name": "UPDATED Hikma COVID-19 Response - County Google Sheet Export",
      "provenance": [],
      "collapsed_sections": [],
      "toc_visible": true,
      "include_colab_link": true
    },
    "kernelspec": {
      "name": "python3",
      "display_name": "Python 3"
    }
  },
  "cells": [
    {
      "cell_type": "markdown",
      "metadata": {
        "id": "view-in-github",
        "colab_type": "text"
      },
      "source": [
        "<a href=\"https://colab.research.google.com/github/hikmahealth/covid19countymap/blob/master/notebooks/UPDATED_Hikma_COVID_19_Response_County_Google_Sheet_Export.ipynb\" target=\"_parent\"><img src=\"https://colab.research.google.com/assets/colab-badge.svg\" alt=\"Open In Colab\"/></a>"
      ]
    },
    {
      "cell_type": "markdown",
      "metadata": {
        "id": "L2_sIcc61eZr",
        "colab_type": "text"
      },
      "source": [
        "# Hikma COVID-19 Response - County Google Sheet Export\n",
        "\n",
        "License: Apache 2.0"
      ]
    },
    {
      "cell_type": "code",
      "metadata": {
        "id": "y8RA77Gzl1hj",
        "colab_type": "code",
        "colab": {}
      },
      "source": [
        "import copy\n",
        "import io\n",
        "import json\n",
        "import urllib\n",
        "\n",
        "from google.colab import auth\n",
        "from oauth2client.client import GoogleCredentials\n",
        "import gspread\n",
        "import pandas as pd\n"
      ],
      "execution_count": 0,
      "outputs": []
    },
    {
      "cell_type": "markdown",
      "metadata": {
        "id": "iqjT6gRpPK13",
        "colab_type": "text"
      },
      "source": [
        "## Use census data to map county name to FIPS code"
      ]
    },
    {
      "cell_type": "code",
      "metadata": {
        "id": "-abzKWKAPOak",
        "colab_type": "code",
        "colab": {}
      },
      "source": [
        "with urllib.request.urlopen(\"https://www2.census.gov/programs-surveys/popest/datasets/2010-2019/counties/totals/co-est2019-alldata.csv\") as infile:\n",
        "  raw_data = infile.read()\n",
        "# Deal with encoding issues in the Census CSV file.\n",
        "replacements = {0xed: \"í\", 0xe1: \"á\", 0xf3: \"ó\", 0xf1: \"ñ\", 0xfc:\"ü\"}\n",
        "for char, repl in replacements.items():\n",
        "  raw_data = raw_data.replace(bytes([char]), repl.encode())\n",
        "raw_census = pd.read_csv(io.BytesIO(raw_data))"
      ],
      "execution_count": 0,
      "outputs": []
    },
    {
      "cell_type": "code",
      "metadata": {
        "id": "YBv539-yPS5z",
        "colab_type": "code",
        "colab": {}
      },
      "source": [
        "census = raw_census[raw_census.COUNTY != 0].copy()"
      ],
      "execution_count": 0,
      "outputs": []
    },
    {
      "cell_type": "code",
      "metadata": {
        "id": "tfS_ChfOPgW-",
        "colab_type": "code",
        "colab": {}
      },
      "source": [
        "census[\"fips\"] = census.STATE * 1000 + census.COUNTY\n",
        "census.set_index(\"fips\", inplace=True)\n",
        "census[\"full_name\"] = census.CTYNAME + \", \" + census.STNAME\n",
        "fips_code_mapping = {name: i for i, name in census.full_name.items()}"
      ],
      "execution_count": 0,
      "outputs": []
    },
    {
      "cell_type": "markdown",
      "metadata": {
        "id": "3SdNheJy6chp",
        "colab_type": "text"
      },
      "source": [
        "## Read the data from Google Sheets"
      ]
    },
    {
      "cell_type": "code",
      "metadata": {
        "id": "9s_rHojhm2QR",
        "colab_type": "code",
        "colab": {}
      },
      "source": [
        "auth.authenticate_user()\n",
        "sheets_client = gspread.authorize(GoogleCredentials.get_application_default())\n",
        "sheet = sheets_client.open_by_url(\"https://docs.google.com/spreadsheets/d/1LRqAKVYpa2uhQcwD8rragwuvU6gMLRzYupihsURC8Cg/edit#gid=519201207\")"
      ],
      "execution_count": 0,
      "outputs": []
    },
    {
      "cell_type": "code",
      "metadata": {
        "id": "Y9RTG06c0ZB1",
        "colab_type": "code",
        "colab": {}
      },
      "source": [
        "raw_policies = pd.DataFrame(sheet.sheet1.get_all_records())"
      ],
      "execution_count": 0,
      "outputs": []
    },
    {
      "cell_type": "markdown",
      "metadata": {
        "id": "ePWHFP576fEn",
        "colab_type": "text"
      },
      "source": [
        "## Clean up the county-level data"
      ]
    },
    {
      "cell_type": "markdown",
      "metadata": {
        "id": "3ksBpL0Y1XLm",
        "colab_type": "text"
      },
      "source": [
        "### Encode free-text column values"
      ]
    },
    {
      "cell_type": "code",
      "metadata": {
        "id": "J8WK0cHFBRlI",
        "colab_type": "code",
        "colab": {}
      },
      "source": [
        "dimensions = [\"school\", \"work\", \"shelter\", \"shelter_enforcement\", \"event\", \"testing\", \"transport\"]"
      ],
      "execution_count": 0,
      "outputs": []
    },
    {
      "cell_type": "code",
      "metadata": {
        "id": "ZChPxOF7e1Hw",
        "colab_type": "code",
        "colab": {}
      },
      "source": [
        "full_policies = raw_policies.rename(columns={\n",
        "    \"You are filling out the form for the following county:\": \"county_name\",\n",
        "    \"Are schools closed in this county?\": \"school\",\n",
        "    \"If yes, please provide the URL to information regarding school closures.\": \"school_url\",\n",
        "    \"If yes, please provide the date of when this policy on school closures took or will take effect.\": \"school_date\",\n",
        "    \"Are non-essential workplaces closed? Is there any language that suggests that those who do not provide essential services should work from home or stop working?\": \"work\",\n",
        "    \"If yes, please provide the URL to information regarding non-essential workplace closures.\": \"work_url\",\n",
        "    \"If yes, provide the date of when this policy took or will take effect.\": \"work_date\",\n",
        "    \"Is social distancing or shelter-in-place being enforced with fines or penalties in this county? \": \"shelter_enforcement\",\n",
        "    \"If yes, please provide the URL to information regarding fine or penalty enforcement.\": \"shelter_enforcement_link\",\n",
        "    \"If yes, please provide the date of when this fine or penalty enforcement took or will take effect.\": \"shelter_enforcement_date\",\n",
        "    \"Is there a shelter-in-place or stay-at-home order in this county? For example, were people advised to maintain social distance or abstain from all physical interactions or non-essential trips whenever possible?\": \"shelter\",\n",
        "    \"If yes, please provide the URL to information regarding the shelter-in-place or social distancing policy.\": \"shelter_url\",\n",
        "    \"If yes, please provide the date of when this shelter-in-place or social distancing policy took or will take effect.\": \"shelter_date\",\n",
        "    \"Is there any order that public events should be restricted in size or outright cancelled?\": \"event\",\n",
        "    \"If yes, please provide the URL to information regarding public events restrictions.\": \"event_url\",\n",
        "    \"If yes, please provide the date of when the cancellation of public events was or will be in effect.\": \"event_date\",\n",
        "    \"Are there public facilities with COVID testing available in this county? \": \"testing\",\n",
        "    \"If yes, please provide the URL to information regarding testing facilities.\": \"testing_url\",\n",
        "    \"If yes, please provide the date of when these facilities became available.\": \"testing_date\",\n",
        "    \"Look for any information about whether this county's  buses, subways, light rail, etc. are being shut down. Is any public transit system shut down?\": \"transport\",\n",
        "    \"If yes, please provide the URL to information regarding public transit.\": \"transport_url\",\n",
        "    \"If yes, please provide the date of when public transit was or will be stopped.\": \"transport_date\",\n",
        "})\n",
        "full_policies.pop(\"Are there travel restrictions in this county? For example, are people required to self-quarantine when arriving into this county?\")\n",
        "full_policies.pop(\"Are airports closed in this county? \")\n",
        "full_policies[\"fips\"] = full_policies.county_name.map(fips_code_mapping)\n",
        "full_policies.set_index(\"fips\", inplace=True)\n",
        "full_policies[\"updated\"] = pd.to_datetime(full_policies.pop(\"Timestamp\"))\n",
        "for col in dimensions:\n",
        "  full_policies[col] = full_policies[col].map({\"Yes\": True, \"No\": False})\n",
        "# Convert timestamp from ambiguous DD/MM/YYYY to ISO 8601 friendly YYYY-MM-DD\n",
        "for col in dimensions:\n",
        "  full_policies[col + \"_date\"] = pd.to_datetime(full_policies[col + \"_date\"]).dt.strftime(\"%Y-%m-%d\")"
      ],
      "execution_count": 0,
      "outputs": []
    },
    {
      "cell_type": "code",
      "metadata": {
        "id": "3ypA1LefFKw6",
        "colab_type": "code",
        "outputId": "9acbecb8-fa7f-4ece-b111-87db95c854f8",
        "colab": {
          "base_uri": "https://localhost:8080/",
          "height": 425
        }
      },
      "source": [
        "full_policies.head()"
      ],
      "execution_count": 9,
      "outputs": [
        {
          "output_type": "execute_result",
          "data": {
            "text/html": [
              "<div>\n",
              "<style scoped>\n",
              "    .dataframe tbody tr th:only-of-type {\n",
              "        vertical-align: middle;\n",
              "    }\n",
              "\n",
              "    .dataframe tbody tr th {\n",
              "        vertical-align: top;\n",
              "    }\n",
              "\n",
              "    .dataframe thead th {\n",
              "        text-align: right;\n",
              "    }\n",
              "</style>\n",
              "<table border=\"1\" class=\"dataframe\">\n",
              "  <thead>\n",
              "    <tr style=\"text-align: right;\">\n",
              "      <th></th>\n",
              "      <th>county_name</th>\n",
              "      <th>school</th>\n",
              "      <th>school_url</th>\n",
              "      <th>school_date</th>\n",
              "      <th>work</th>\n",
              "      <th>work_url</th>\n",
              "      <th>work_date</th>\n",
              "      <th>shelter_enforcement</th>\n",
              "      <th>shelter_enforcement_link</th>\n",
              "      <th>shelter_enforcement_date</th>\n",
              "      <th>shelter</th>\n",
              "      <th>shelter_url</th>\n",
              "      <th>shelter_date</th>\n",
              "      <th>event</th>\n",
              "      <th>event_url</th>\n",
              "      <th>event_date</th>\n",
              "      <th>testing</th>\n",
              "      <th>testing_url</th>\n",
              "      <th>testing_date</th>\n",
              "      <th>transport</th>\n",
              "      <th>transport_url</th>\n",
              "      <th>transport_date</th>\n",
              "      <th>updated</th>\n",
              "    </tr>\n",
              "    <tr>\n",
              "      <th>fips</th>\n",
              "      <th></th>\n",
              "      <th></th>\n",
              "      <th></th>\n",
              "      <th></th>\n",
              "      <th></th>\n",
              "      <th></th>\n",
              "      <th></th>\n",
              "      <th></th>\n",
              "      <th></th>\n",
              "      <th></th>\n",
              "      <th></th>\n",
              "      <th></th>\n",
              "      <th></th>\n",
              "      <th></th>\n",
              "      <th></th>\n",
              "      <th></th>\n",
              "      <th></th>\n",
              "      <th></th>\n",
              "      <th></th>\n",
              "      <th></th>\n",
              "      <th></th>\n",
              "      <th></th>\n",
              "      <th></th>\n",
              "    </tr>\n",
              "  </thead>\n",
              "  <tbody>\n",
              "    <tr>\n",
              "      <th>6073</th>\n",
              "      <td>San Diego County, California</td>\n",
              "      <td>True</td>\n",
              "      <td>https://www.sandiegocounty.gov/content/sdc/hhs...</td>\n",
              "      <td>2020-03-16</td>\n",
              "      <td>True</td>\n",
              "      <td>https://www.sandiegocounty.gov/content/sdc/hhs...</td>\n",
              "      <td>2020-03-15</td>\n",
              "      <td>False</td>\n",
              "      <td></td>\n",
              "      <td>NaN</td>\n",
              "      <td>True</td>\n",
              "      <td>https://www.sandiegocounty.gov/content/sdc/hhs...</td>\n",
              "      <td>2020-03-19</td>\n",
              "      <td>True</td>\n",
              "      <td>https://www.sandiegocounty.gov/content/sdc/hhs...</td>\n",
              "      <td>2020-03-16</td>\n",
              "      <td>True</td>\n",
              "      <td>https://health.ucsd.edu/coronavirus/Pages/defa...</td>\n",
              "      <td>NaN</td>\n",
              "      <td>True</td>\n",
              "      <td>https://www.sdmts.com/schedules-real-time/covi...</td>\n",
              "      <td>2020-04-12</td>\n",
              "      <td>2020-04-09 11:03:27</td>\n",
              "    </tr>\n",
              "    <tr>\n",
              "      <th>17031</th>\n",
              "      <td>Cook County, Illinois</td>\n",
              "      <td>True</td>\n",
              "      <td>https://www.cookcountypublichealth.org/communi...</td>\n",
              "      <td>2020-03-17</td>\n",
              "      <td>True</td>\n",
              "      <td>https://www.cookcountypublichealth.org/communi...</td>\n",
              "      <td>2020-03-20</td>\n",
              "      <td>False</td>\n",
              "      <td></td>\n",
              "      <td>NaN</td>\n",
              "      <td>True</td>\n",
              "      <td>https://www.cookcountypublichealth.org/communi...</td>\n",
              "      <td>2020-04-01</td>\n",
              "      <td>True</td>\n",
              "      <td>https://www.cookcountypublichealth.org/communi...</td>\n",
              "      <td>2020-04-01</td>\n",
              "      <td>False</td>\n",
              "      <td></td>\n",
              "      <td>NaN</td>\n",
              "      <td>False</td>\n",
              "      <td></td>\n",
              "      <td>NaN</td>\n",
              "      <td>2020-04-09 11:32:26</td>\n",
              "    </tr>\n",
              "    <tr>\n",
              "      <th>48201</th>\n",
              "      <td>Harris County, Texas</td>\n",
              "      <td>True</td>\n",
              "      <td>https://publichealth.harriscountytx.gov/Resour...</td>\n",
              "      <td>2020-03-24</td>\n",
              "      <td>True</td>\n",
              "      <td>https://publichealth.harriscountytx.gov/Resour...</td>\n",
              "      <td>2020-03-24</td>\n",
              "      <td>True</td>\n",
              "      <td>https://www.readyharris.org/Stay-Home</td>\n",
              "      <td>2020-03-24</td>\n",
              "      <td>True</td>\n",
              "      <td>https://publichealth.harriscountytx.gov/Resour...</td>\n",
              "      <td>2020-03-20</td>\n",
              "      <td>True</td>\n",
              "      <td>https://www.readyharris.org/Stay-Home</td>\n",
              "      <td>2020-03-24</td>\n",
              "      <td>True</td>\n",
              "      <td>https://publichealth.harriscountytx.gov/Resour...</td>\n",
              "      <td>NaN</td>\n",
              "      <td>True</td>\n",
              "      <td>https://www.ridemetro.org/Pages/Coronavirus.aspx</td>\n",
              "      <td>2020-03-30</td>\n",
              "      <td>2020-04-09 18:08:51</td>\n",
              "    </tr>\n",
              "    <tr>\n",
              "      <th>4013</th>\n",
              "      <td>Maricopa County, Arizona</td>\n",
              "      <td>True</td>\n",
              "      <td>https://azgovernor.gov/governor/news/2020/03/g...</td>\n",
              "      <td>2020-03-30</td>\n",
              "      <td>True</td>\n",
              "      <td>https://www.fox10phoenix.com/video/669286</td>\n",
              "      <td>2020-03-31</td>\n",
              "      <td>False</td>\n",
              "      <td></td>\n",
              "      <td>NaN</td>\n",
              "      <td>False</td>\n",
              "      <td>https://www.theguardian.com/us-news/2020/mar/3...</td>\n",
              "      <td>NaN</td>\n",
              "      <td>False</td>\n",
              "      <td>https://www.maricopa.gov/Calendar.aspx</td>\n",
              "      <td>NaN</td>\n",
              "      <td>True</td>\n",
              "      <td>https://www.fox10phoenix.com/news/banner-healt...</td>\n",
              "      <td>2020-03-23</td>\n",
              "      <td>False</td>\n",
              "      <td>https://www.maricopa.gov/5307/Transportation-M...</td>\n",
              "      <td>NaN</td>\n",
              "      <td>2020-04-09 18:33:06</td>\n",
              "    </tr>\n",
              "    <tr>\n",
              "      <th>49043</th>\n",
              "      <td>Summit County, Utah</td>\n",
              "      <td>True</td>\n",
              "      <td>http://www.pcschools.us/wp-content/uploads/202...</td>\n",
              "      <td>2020-03-16</td>\n",
              "      <td>True</td>\n",
              "      <td>https://www.summitcounty.org/DocumentCenter/Vi...</td>\n",
              "      <td>2020-03-27</td>\n",
              "      <td>True</td>\n",
              "      <td>https://www.summitcounty.org/DocumentCenter/Vi...</td>\n",
              "      <td>2020-03-27</td>\n",
              "      <td>True</td>\n",
              "      <td>https://www.summitcounty.org/DocumentCenter/Vi...</td>\n",
              "      <td>2020-03-27</td>\n",
              "      <td>True</td>\n",
              "      <td>https://www.summitcounty.org/DocumentCenter/Vi...</td>\n",
              "      <td>2020-03-27</td>\n",
              "      <td>True</td>\n",
              "      <td>https://kutv.com/news/local/curbside-coronavir...</td>\n",
              "      <td>2020-04-02</td>\n",
              "      <td>False</td>\n",
              "      <td></td>\n",
              "      <td>NaN</td>\n",
              "      <td>2020-04-09 23:04:50</td>\n",
              "    </tr>\n",
              "  </tbody>\n",
              "</table>\n",
              "</div>"
            ],
            "text/plain": [
              "                        county_name school  ... transport_date             updated\n",
              "fips                                        ...                                   \n",
              "6073   San Diego County, California   True  ...     2020-04-12 2020-04-09 11:03:27\n",
              "17031         Cook County, Illinois   True  ...            NaN 2020-04-09 11:32:26\n",
              "48201          Harris County, Texas   True  ...     2020-03-30 2020-04-09 18:08:51\n",
              "4013       Maricopa County, Arizona   True  ...            NaN 2020-04-09 18:33:06\n",
              "49043           Summit County, Utah   True  ...            NaN 2020-04-09 23:04:50\n",
              "\n",
              "[5 rows x 23 columns]"
            ]
          },
          "metadata": {
            "tags": []
          },
          "execution_count": 9
        }
      ]
    },
    {
      "cell_type": "markdown",
      "metadata": {
        "id": "zKTWOp8hMkHG",
        "colab_type": "text"
      },
      "source": [
        "### Deduplicate rows.\n",
        "\n",
        "Naive assumption - we assume that restrictions are never lifted, so the heaviest restriction reported for fips is still active.\n",
        "\n",
        "We will likely have to revisit this in the future."
      ]
    },
    {
      "cell_type": "code",
      "metadata": {
        "id": "dQM-WD0WAvNm",
        "colab_type": "code",
        "colab": {}
      },
      "source": [
        "policies_min = full_policies.groupby(by=\"fips\").agg(func=max)\n",
        "policies_min.pop(\"county_name\");"
      ],
      "execution_count": 0,
      "outputs": []
    },
    {
      "cell_type": "code",
      "metadata": {
        "id": "3QyYhi3lPVyL",
        "colab_type": "code",
        "colab": {}
      },
      "source": [
        "with open(\"county_policies.json\", \"w\") as outfile:\n",
        "  outfile.write(policies_min.to_json(orient=\"index\"))"
      ],
      "execution_count": 0,
      "outputs": []
    },
    {
      "cell_type": "code",
      "metadata": {
        "id": "G692YAteqpmy",
        "colab_type": "code",
        "colab": {}
      },
      "source": [
        "with open(\"county_policies.csv\", \"w\") as outfile:\n",
        "  outfile.write(policies_min.to_csv())"
      ],
      "execution_count": 0,
      "outputs": []
    },
    {
      "cell_type": "code",
      "metadata": {
        "id": "VVfSuKFcquS3",
        "colab_type": "code",
        "colab": {}
      },
      "source": [
        ""
      ],
      "execution_count": 0,
      "outputs": []
    }
  ]
}
