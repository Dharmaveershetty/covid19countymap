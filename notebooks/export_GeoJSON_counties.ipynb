{
  "nbformat": 4,
  "nbformat_minor": 0,
  "metadata": {
    "colab": {
      "name": "GeoJSON County Export",
      "provenance": [],
      "collapsed_sections": []
    },
    "kernelspec": {
      "name": "python3",
      "display_name": "Python 3"
    }
  },
  "cells": [
    {
      "cell_type": "markdown",
      "metadata": {
        "id": "FpvUQFLcAvBS",
        "colab_type": "text"
      },
      "source": [
        "# Generate geo-json files from [US Census Bureau data](https://www.census.gov/geographies/mapping-files/time-series/geo/carto-boundary-file.html).\n",
        "\n",
        "License: Apache 2"
      ]
    },
    {
      "cell_type": "code",
      "metadata": {
        "id": "E27BDA3Wkt2r",
        "colab_type": "code",
        "colab": {}
      },
      "source": [
        "!pip install --quiet kml2geojson"
      ],
      "execution_count": 0,
      "outputs": []
    },
    {
      "cell_type": "code",
      "metadata": {
        "id": "Z4W9VyvVlITU",
        "colab_type": "code",
        "colab": {}
      },
      "source": [
        "import io\n",
        "import copy\n",
        "import json\n",
        "import urllib.request\n",
        "import xml.dom.minidom\n",
        "import zipfile\n",
        "\n",
        "import kml2geojson\n",
        "import lxml.etree"
      ],
      "execution_count": 0,
      "outputs": []
    },
    {
      "cell_type": "code",
      "metadata": {
        "id": "brLcrAnguwTf",
        "colab_type": "code",
        "colab": {}
      },
      "source": [
        "def parse_broken_kml(contents):\n",
        "    fixing_tree = lxml.etree.fromstring(\n",
        "        contents, parser=lxml.etree.XMLParser(recover=True))\n",
        "    tree = xml.dom.minidom.parseString(lxml.etree.tostring(fixing_tree))\n",
        "    return kml2geojson.build_layers(tree)"
      ],
      "execution_count": 0,
      "outputs": []
    },
    {
      "cell_type": "code",
      "metadata": {
        "id": "z90W_3Kk_Qnc",
        "colab_type": "code",
        "colab": {}
      },
      "source": [
        "def read_2018_census_kml(filename):\n",
        "  url = \"https://www2.census.gov/geo/tiger/GENZ2018/kml/\" + filename + \".zip\"\n",
        "  with urllib.request.urlopen(url) as infile:\n",
        "    buffer = io.BytesIO(infile.read())\n",
        "  return zipfile.ZipFile(buffer).read(filename + \".kml\")"
      ],
      "execution_count": 0,
      "outputs": []
    },
    {
      "cell_type": "code",
      "metadata": {
        "id": "M4PMF6vjlLS3",
        "colab_type": "code",
        "colab": {}
      },
      "source": [
        "raw_states = parse_broken_kml(read_2018_census_kml(\"cb_2018_us_state_20m\"))[0]"
      ],
      "execution_count": 0,
      "outputs": []
    },
    {
      "cell_type": "code",
      "metadata": {
        "id": "9wERTTlO8grY",
        "colab_type": "code",
        "colab": {}
      },
      "source": [
        "states = copy.deepcopy(raw_states)\n",
        "for entry in states[\"features\"]:\n",
        "  props = entry[\"properties\"]\n",
        "  props.pop(\"ALAND\")\n",
        "  props.pop(\"AWATER\")\n",
        "  props[\"is_a_state\"] = True\n",
        "  props[\"state_id\"] = int(entry[\"properties\"].pop(\"GEOID\"))\n",
        "  props[\"name\"] = props.pop(\"NAME\")\n",
        "  props.pop(\"STATEFP\")\n",
        "  props.pop(\"STATENS\")\n",
        "  props.pop(\"LSAD\")\n",
        "  props.pop(\"description\")\n",
        "  props.pop(\"styleUrl\")"
      ],
      "execution_count": 0,
      "outputs": []
    },
    {
      "cell_type": "code",
      "metadata": {
        "id": "CG_xF6Ck63eW",
        "colab_type": "code",
        "colab": {}
      },
      "source": [
        "raw_counties = parse_broken_kml(read_2018_census_kml(\"cb_2018_us_county_20m\"))[0]"
      ],
      "execution_count": 0,
      "outputs": []
    },
    {
      "cell_type": "code",
      "metadata": {
        "id": "sZNq7Al38dMF",
        "colab_type": "code",
        "colab": {}
      },
      "source": [
        "counties = copy.deepcopy(raw_counties)\n",
        "for entry in counties[\"features\"]:\n",
        "  props = entry[\"properties\"]\n",
        "  props.pop(\"ALAND\")\n",
        "  props.pop(\"AWATER\")\n",
        "  props.pop(\"COUNTYFP\")\n",
        "  props.pop(\"COUNTYNS\")\n",
        "  props[\"fips_id\"] = props.pop(\"GEOID\")\n",
        "  props.pop(\"LSAD\")\n",
        "  props[\"name\"] = props.pop(\"NAME\")\n",
        "  props[\"state_id\"] = props.pop(\"STATEFP\")\n",
        "  props.pop(\"description\")\n",
        "  props.pop(\"styleUrl\")\n",
        "  props[\"is_a_state\"] = False"
      ],
      "execution_count": 0,
      "outputs": []
    },
    {
      "cell_type": "code",
      "metadata": {
        "id": "orvqposPCEAM",
        "colab_type": "code",
        "colab": {}
      },
      "source": [
        "state_names = {int(entry[\"properties\"][\"state_id\"]): entry[\"properties\"][\"name\"]\n",
        "               for entry in states[\"features\"]}"
      ],
      "execution_count": 0,
      "outputs": []
    },
    {
      "cell_type": "code",
      "metadata": {
        "id": "GS3ic9RkCybt",
        "colab_type": "code",
        "colab": {}
      },
      "source": [
        "with open(\"counties.json\", \"w\") as outfile:\n",
        "  json.dump(counties, outfile)"
      ],
      "execution_count": 0,
      "outputs": []
    },
    {
      "cell_type": "code",
      "metadata": {
        "id": "D7t2VcrgCz9x",
        "colab_type": "code",
        "colab": {}
      },
      "source": [
        "with open(\"states.json\", \"w\") as outfile:\n",
        "  json.dump(states, outfile)"
      ],
      "execution_count": 0,
      "outputs": []
    },
    {
      "cell_type": "code",
      "metadata": {
        "id": "QXaiO74WC1j5",
        "colab_type": "code",
        "colab": {}
      },
      "source": [
        "with open(\"state_names.json\", \"w\") as outfile:\n",
        "  json.dump(state_names, outfile)"
      ],
      "execution_count": 0,
      "outputs": []
    },
    {
      "cell_type": "code",
      "metadata": {
        "id": "BgAQW8mPC5zi",
        "colab_type": "code",
        "outputId": "ea0b561f-5cef-4932-81d1-9ae6129b071e",
        "colab": {
          "base_uri": "https://localhost:8080/",
          "height": 68
        }
      },
      "source": [
        "!tar -czvf json_us_geography.tar.gz counties.json states.json state_names.json"
      ],
      "execution_count": 0,
      "outputs": [
        {
          "output_type": "stream",
          "text": [
            "counties.json\n",
            "states.json\n",
            "state_names.json\n"
          ],
          "name": "stdout"
        }
      ]
    }
  ]
}