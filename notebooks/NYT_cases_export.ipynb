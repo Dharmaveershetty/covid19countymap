{
  "nbformat": 4,
  "nbformat_minor": 0,
  "metadata": {
    "colab": {
      "name": "NYT_cases_export",
      "provenance": [],
      "collapsed_sections": [],
      "authorship_tag": "ABX9TyN1/lYSzb8O9/sN9+G+z/C7",
      "include_colab_link": true
    },
    "kernelspec": {
      "name": "python3",
      "display_name": "Python 3"
    }
  },
  "cells": [
    {
      "cell_type": "markdown",
      "metadata": {
        "id": "view-in-github",
        "colab_type": "text"
      },
      "source": [
        "<a href=\"https://colab.research.google.com/github/hikmahealth/covid19countymap/blob/master/notebooks/NYT_cases_export.ipynb\" target=\"_parent\"><img src=\"https://colab.research.google.com/assets/colab-badge.svg\" alt=\"Open In Colab\"/></a>"
      ]
    },
    {
      "cell_type": "code",
      "metadata": {
        "id": "GFAOvVkbm22P",
        "colab_type": "code",
        "colab": {}
      },
      "source": [
        "import io\n",
        "import json\n",
        "import urllib\n",
        "\n",
        "import pandas as pd"
      ],
      "execution_count": 0,
      "outputs": []
    },
    {
      "cell_type": "markdown",
      "metadata": {
        "id": "_ETKqjsinB1K",
        "colab_type": "text"
      },
      "source": [
        "Download count from the [New York Times](https://www.nytimes.com/interactive/2020/us/coronavirus-us-cases.html) [github](https://github.com/nytimes/covid-19-data)."
      ]
    },
    {
      "cell_type": "code",
      "metadata": {
        "id": "sJfAmNKum6aN",
        "colab_type": "code",
        "colab": {}
      },
      "source": [
        "raw_county_data = pd.read_csv(\"https://raw.githubusercontent.com/nytimes/covid-19-data/master/us-counties.csv\")\n",
        "raw_state_data = pd.read_csv(\"https://raw.githubusercontent.com/nytimes/covid-19-data/master/us-states.csv\")"
      ],
      "execution_count": 0,
      "outputs": []
    },
    {
      "cell_type": "code",
      "metadata": {
        "id": "sCs7blqBW0CH",
        "colab_type": "code",
        "colab": {}
      },
      "source": [
        "with urllib.request.urlopen(\"https://www2.census.gov/programs-surveys/popest/datasets/2010-2019/counties/totals/co-est2019-alldata.csv\") as infile:\n",
        "  raw_data = infile.read()\n",
        "# Deal with encoding issues in the Census CSV file.\n",
        "replacements = {0xed: \"í\", 0xe1: \"á\", 0xf3: \"ó\", 0xf1: \"ñ\", 0xfc:\"ü\"}\n",
        "for char, repl in replacements.items():\n",
        "  raw_data = raw_data.replace(bytes([char]), repl.encode())\n",
        "raw_census = pd.read_csv(io.BytesIO(raw_data))\n",
        "census = raw_census.copy()\n",
        "census[\"fips\"] = census.STATE * 1000 + census.COUNTY\n",
        "census.set_index(\"fips\", inplace=True)"
      ],
      "execution_count": 0,
      "outputs": []
    },
    {
      "cell_type": "code",
      "metadata": {
        "id": "LRQ6dHk3rjey",
        "colab_type": "code",
        "colab": {}
      },
      "source": [
        "def get_latest(raw_data):\n",
        "  # Filter out data with missing FIPS codes\n",
        "  data = raw_data[(raw_data.fips < 100000) & (raw_data.fips >= 0)].copy()\n",
        "  data.fips = data.fips.astype(int)\n",
        "  data = data[[\"fips\", \"cases\", \"deaths\", \"date\"]].copy()\n",
        "  data.set_index(\"fips\", inplace=True)\n",
        "  return data.groupby(by=\"fips\").agg(func=max)"
      ],
      "execution_count": 0,
      "outputs": []
    },
    {
      "cell_type": "code",
      "metadata": {
        "id": "WbrMoTIBr4j2",
        "colab_type": "code",
        "colab": {}
      },
      "source": [
        "county_data = get_latest(raw_county_data)\n",
        "state_data = get_latest(raw_state_data)"
      ],
      "execution_count": 0,
      "outputs": []
    },
    {
      "cell_type": "markdown",
      "metadata": {
        "id": "VwLrQntgz6Vz",
        "colab_type": "text"
      },
      "source": [
        "NYTimes dataset lumps all [5 NYC counties](https://simple.wikipedia.org/wiki/List_of_counties_in_New_York) together. We will extrapolate each county by proportional 2010 population from census.gov"
      ]
    },
    {
      "cell_type": "code",
      "metadata": {
        "id": "JKPL8CTLz2HA",
        "colab_type": "code",
        "colab": {}
      },
      "source": [
        "NYC_COUNTIES = [\n",
        "                36061,  # New York County\n",
        "                36047,  # Kings County\n",
        "                36005,  # Bronx County\n",
        "                36085,  # Richmond County\n",
        "                36081,  # Queens County\n",
        "]"
      ],
      "execution_count": 0,
      "outputs": []
    },
    {
      "cell_type": "code",
      "metadata": {
        "id": "XqC7-wEuxTYw",
        "colab_type": "code",
        "colab": {}
      },
      "source": [
        "nycensus = census[census.index.isin(NYC_COUNTIES)]\n",
        "nyc_proportions = nycensus.CENSUS2010POP / nycensus.CENSUS2010POP.sum()\n",
        "nyc_data = raw_county_data[raw_county_data.county == \"New York City\"].agg(func=max)[[\"cases\", \"deaths\", \"date\"]]\n",
        "nyc_scaled = {}\n",
        "for fips, proportion in nyc_proportions.items():\n",
        "  nyc_scaled[fips] = {\n",
        "      \"cases\": round(proportion * nyc_data.cases),\n",
        "      \"deaths\": round(proportion * nyc_data.deaths),\n",
        "      \"date\": nyc_data.date,\n",
        "  }\n",
        "county_data = county_data.append(pd.DataFrame.from_dict(nyc_scaled, orient=\"index\"))"
      ],
      "execution_count": 0,
      "outputs": []
    },
    {
      "cell_type": "markdown",
      "metadata": {
        "id": "ZbgIx6qv0nWz",
        "colab_type": "text"
      },
      "source": [
        "Add in 2019 census.gov population estimates. State dataset is missing some entries, so they are added in manually."
      ]
    },
    {
      "cell_type": "code",
      "metadata": {
        "id": "XjnJfGPlzy4F",
        "colab_type": "code",
        "colab": {}
      },
      "source": [
        "county_data[\"pop\"] = census.CENSUS2010POP[county_data.index]"
      ],
      "execution_count": 0,
      "outputs": []
    },
    {
      "cell_type": "code",
      "metadata": {
        "id": "TV6jBApG02q_",
        "colab_type": "code",
        "colab": {}
      },
      "source": [
        "state_populations = census[census.COUNTY == 0].set_index(\"STATE\").CENSUS2010POP\n",
        "state_populations[60] = 56079  # American Samoa\n",
        "state_populations[66] = 159358  # Guam\n",
        "state_populations[69] = 53971  # Northern Mariana Islands\n",
        "state_populations[72] = 3725789  # Puerto Rico\n",
        "state_populations[78] = 106405  # Virgin Islands"
      ],
      "execution_count": 0,
      "outputs": []
    },
    {
      "cell_type": "code",
      "metadata": {
        "id": "EK2Dvq0a1zpS",
        "colab_type": "code",
        "colab": {}
      },
      "source": [
        "state_data[\"pop\"] = state_populations"
      ],
      "execution_count": 0,
      "outputs": []
    },
    {
      "cell_type": "code",
      "metadata": {
        "id": "apQowEgJo8ZO",
        "colab_type": "code",
        "colab": {}
      },
      "source": [
        "with open(\"county_cases.json\", \"w\") as outfile:\n",
        "  outfile.write(county_data.to_json(orient=\"index\"))"
      ],
      "execution_count": 0,
      "outputs": []
    },
    {
      "cell_type": "code",
      "metadata": {
        "id": "QV_2mAecqg8T",
        "colab_type": "code",
        "colab": {}
      },
      "source": [
        "with open(\"state_cases.json\", \"w\") as outfile:\n",
        "  outfile.write(state_data.to_json(orient=\"index\"))"
      ],
      "execution_count": 0,
      "outputs": []
    }
  ]
}