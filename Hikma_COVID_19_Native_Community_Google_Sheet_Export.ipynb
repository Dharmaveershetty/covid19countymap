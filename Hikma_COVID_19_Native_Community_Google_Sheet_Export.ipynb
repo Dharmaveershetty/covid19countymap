{
  "nbformat": 4,
  "nbformat_minor": 0,
  "metadata": {
    "colab": {
      "name": "Hikma COVID-19 Native Community Google Sheet Export",
      "provenance": [],
      "collapsed_sections": [],
      "toc_visible": true,
      "include_colab_link": true
    },
    "kernelspec": {
      "name": "python3",
      "display_name": "Python 3"
    }
  },
  "cells": [
    {
      "cell_type": "markdown",
      "metadata": {
        "id": "view-in-github",
        "colab_type": "text"
      },
      "source": [
        "<a href=\"https://colab.research.google.com/github/hikmahealth/covid19countymap/blob/master/Hikma_COVID_19_Native_Community_Google_Sheet_Export.ipynb\" target=\"_parent\"><img src=\"https://colab.research.google.com/assets/colab-badge.svg\" alt=\"Open In Colab\"/></a>"
      ]
    },
    {
      "cell_type": "markdown",
      "metadata": {
        "id": "L2_sIcc61eZr",
        "colab_type": "text"
      },
      "source": [
        "# Hikma COVID-19 Response - Native Community Google Sheet Export\n",
        "\n",
        "License: Apache 2.0"
      ]
    },
    {
      "cell_type": "code",
      "metadata": {
        "id": "y8RA77Gzl1hj",
        "colab_type": "code",
        "colab": {}
      },
      "source": [
        "! pip install fuzzywuzzy\n",
        "! pip install python-Levenshtein\n",
        "\n"
      ],
      "execution_count": 0,
      "outputs": []
    },
    {
      "cell_type": "code",
      "metadata": {
        "id": "XSIMbNF82id6",
        "colab_type": "code",
        "colab": {}
      },
      "source": [
        "from fuzzywuzzy import fuzz\n",
        "from fuzzywuzzy import process\n",
        "\n",
        "import copy\n",
        "import io\n",
        "import json\n",
        "import urllib\n",
        "\n",
        "from google.colab import auth\n",
        "from oauth2client.client import GoogleCredentials\n",
        "import gspread\n",
        "import pandas as pd\n",
        "import numpy as np"
      ],
      "execution_count": 0,
      "outputs": []
    },
    {
      "cell_type": "code",
      "metadata": {
        "id": "ISko9W_gN0lE",
        "colab_type": "code",
        "colab": {}
      },
      "source": [
        "with urllib.request.urlopen(\"https://www2.census.gov/programs-surveys/popest/datasets/2010-2019/counties/totals/co-est2019-alldata.csv\") as infile:\n",
        "  raw_data = infile.read()\n",
        "# Deal with encoding issues in the Census CSV file.\n",
        "replacements = {0xed: \"í\", 0xe1: \"á\", 0xf3: \"ó\", 0xf1: \"ñ\", 0xfc:\"ü\"}\n",
        "for char, repl in replacements.items():\n",
        "  raw_data = raw_data.replace(bytes([char]), repl.encode())\n",
        "raw_census = pd.read_csv(io.BytesIO(raw_data))"
      ],
      "execution_count": 0,
      "outputs": []
    },
    {
      "cell_type": "code",
      "metadata": {
        "id": "8tsyTypoN33V",
        "colab_type": "code",
        "colab": {}
      },
      "source": [
        ""
      ],
      "execution_count": 0,
      "outputs": []
    },
    {
      "cell_type": "markdown",
      "metadata": {
        "id": "iqjT6gRpPK13",
        "colab_type": "text"
      },
      "source": [
        "## Use census data to map county name to AIAN 2010 census code"
      ]
    },
    {
      "cell_type": "code",
      "metadata": {
        "id": "-abzKWKAPOak",
        "colab_type": "code",
        "colab": {}
      },
      "source": [
        "# # Import AIAN 2010 Census Codes wherever available for Native Communities\n",
        "with urllib.request.urlopen(\"https://www2.census.gov/geo/docs/reference/codes/AIAlist.txt\") as infile:\n",
        "  raw_data = infile.read()\n",
        "# Deal with encoding issues in the Census CSV file.\n",
        "replacements = {0xed: \"í\", 0xe1: \"á\", 0xf3: \"ó\", 0xf1: \"ñ\", 0xfc:\"ü\"}\n",
        "for char, repl in replacements.items():\n",
        "  raw_data = raw_data.replace(bytes([char]), repl.encode())\n",
        "\n",
        "# raw_data = raw_data.replace(bytes('\\r'), bytes())\n",
        "# Need to handle names with commas i.e. \"Coos, Lower Umpqua, and Siuslaw Reservation and Off-Reservation Trust Land\"\n",
        "searchstr = ', '\n",
        "replacestr = '; '\n",
        "raw_data = raw_data.replace(searchstr.encode(), replacestr.encode())\n",
        "raw_census = pd.read_csv(io.BytesIO(raw_data))\n",
        "\n"
      ],
      "execution_count": 0,
      "outputs": []
    },
    {
      "cell_type": "code",
      "metadata": {
        "id": "BikChnfML2U4",
        "colab_type": "code",
        "colab": {
          "base_uri": "https://localhost:8080/",
          "height": 204
        },
        "outputId": "d4be5f48-8991-4c55-d307-c59cb65adfcb"
      },
      "source": [
        "# Restoring name after parsing\n",
        "raw_census['AIANNHNAME'] = raw_census['AIANNHNAME'].str.replace('; ', ', ')\n",
        "raw_census.head()"
      ],
      "execution_count": 153,
      "outputs": [
        {
          "output_type": "execute_result",
          "data": {
            "text/html": [
              "<div>\n",
              "<style scoped>\n",
              "    .dataframe tbody tr th:only-of-type {\n",
              "        vertical-align: middle;\n",
              "    }\n",
              "\n",
              "    .dataframe tbody tr th {\n",
              "        vertical-align: top;\n",
              "    }\n",
              "\n",
              "    .dataframe thead th {\n",
              "        text-align: right;\n",
              "    }\n",
              "</style>\n",
              "<table border=\"1\" class=\"dataframe\">\n",
              "  <thead>\n",
              "    <tr style=\"text-align: right;\">\n",
              "      <th></th>\n",
              "      <th>AIANNHCE</th>\n",
              "      <th>AIANNHNAME</th>\n",
              "    </tr>\n",
              "  </thead>\n",
              "  <tbody>\n",
              "    <tr>\n",
              "      <th>0</th>\n",
              "      <td>10</td>\n",
              "      <td>Acoma Pueblo and Off-Reservation Trust Land</td>\n",
              "    </tr>\n",
              "    <tr>\n",
              "      <th>1</th>\n",
              "      <td>20</td>\n",
              "      <td>Agua Caliente Indian Reservation and Off-Reser...</td>\n",
              "    </tr>\n",
              "    <tr>\n",
              "      <th>2</th>\n",
              "      <td>50</td>\n",
              "      <td>Alabama-Coushatta Reservation and Off-Reservat...</td>\n",
              "    </tr>\n",
              "    <tr>\n",
              "      <th>3</th>\n",
              "      <td>80</td>\n",
              "      <td>Allegany Reservation</td>\n",
              "    </tr>\n",
              "    <tr>\n",
              "      <th>4</th>\n",
              "      <td>95</td>\n",
              "      <td>Alturas Indian Rancheria</td>\n",
              "    </tr>\n",
              "  </tbody>\n",
              "</table>\n",
              "</div>"
            ],
            "text/plain": [
              "   AIANNHCE                                         AIANNHNAME\n",
              "0        10        Acoma Pueblo and Off-Reservation Trust Land\n",
              "1        20  Agua Caliente Indian Reservation and Off-Reser...\n",
              "2        50  Alabama-Coushatta Reservation and Off-Reservat...\n",
              "3        80                               Allegany Reservation\n",
              "4        95                           Alturas Indian Rancheria"
            ]
          },
          "metadata": {
            "tags": []
          },
          "execution_count": 153
        }
      ]
    },
    {
      "cell_type": "code",
      "metadata": {
        "id": "vO2yPD2UaiTV",
        "colab_type": "code",
        "colab": {}
      },
      "source": [
        ""
      ],
      "execution_count": 0,
      "outputs": []
    },
    {
      "cell_type": "code",
      "metadata": {
        "id": "tfS_ChfOPgW-",
        "colab_type": "code",
        "colab": {}
      },
      "source": [
        "census = raw_census.copy()\n",
        "census = census.set_index(\"AIANNHCE\")\n",
        "aian_code_mapping = {name: i for i, name in census.AIANNHNAME.items()}"
      ],
      "execution_count": 0,
      "outputs": []
    },
    {
      "cell_type": "code",
      "metadata": {
        "id": "g4K7ZjcdbtqK",
        "colab_type": "code",
        "colab": {}
      },
      "source": [
        ""
      ],
      "execution_count": 0,
      "outputs": []
    },
    {
      "cell_type": "markdown",
      "metadata": {
        "id": "3SdNheJy6chp",
        "colab_type": "text"
      },
      "source": [
        "## Read the data from Google Sheets"
      ]
    },
    {
      "cell_type": "code",
      "metadata": {
        "id": "9s_rHojhm2QR",
        "colab_type": "code",
        "colab": {}
      },
      "source": [
        "auth.authenticate_user()\n",
        "sheets_client = gspread.authorize(GoogleCredentials.get_application_default())\n",
        "sheet = sheets_client.open_by_url(\"https://docs.google.com/spreadsheets/d/1r7WLefBmWzAaGgaA9c89t6hampOuKkyfz2Hll-Iq0uY/edit#gid=1147188869\")"
      ],
      "execution_count": 0,
      "outputs": []
    },
    {
      "cell_type": "code",
      "metadata": {
        "id": "Y9RTG06c0ZB1",
        "colab_type": "code",
        "colab": {}
      },
      "source": [
        "raw_policies = pd.DataFrame(sheet.sheet1.get_all_records())"
      ],
      "execution_count": 0,
      "outputs": []
    },
    {
      "cell_type": "markdown",
      "metadata": {
        "id": "ePWHFP576fEn",
        "colab_type": "text"
      },
      "source": [
        "## Clean up the county-level data"
      ]
    },
    {
      "cell_type": "markdown",
      "metadata": {
        "id": "3ksBpL0Y1XLm",
        "colab_type": "text"
      },
      "source": [
        "### Encode free-text column values"
      ]
    },
    {
      "cell_type": "code",
      "metadata": {
        "id": "J8WK0cHFBRlI",
        "colab_type": "code",
        "colab": {}
      },
      "source": [
        "dimensions = [\"school\", \"work\", \"shelter\", \"shelter_enforcement\", \"event\", \"testing\", \"transport\", \"revenue\", \"checkpoint\"]"
      ],
      "execution_count": 0,
      "outputs": []
    },
    {
      "cell_type": "code",
      "metadata": {
        "id": "ZChPxOF7e1Hw",
        "colab_type": "code",
        "colab": {}
      },
      "source": [
        "full_policies = raw_policies.rename(columns={\n",
        "    \"You are filling out the form for the following community:\": \"community_name\",\n",
        "    \"What is the population of the community?\": \"population\",\n",
        "    \"Are all schools closed in this community?\": \"school\",\n",
        "    \"If yes, please provide the URL to information regarding school closures.\": \"school_url\",\n",
        "    \"If yes, please provide the date of when this policy on school closures took or will take effect.\": \"school_date\",\n",
        "    \"Are non-essential workplaces closed? Is there any language that suggests that those who do not provide essential services should work from home or stop working?\": \"work\",\n",
        "    \"If yes, please provide the URL to information regarding non-essential workplace closures.\": \"work_url\",\n",
        "    \"If yes, provide the date of when this policy took or will take effect.\": \"work_date\",\n",
        "    \"Is social distancing or shelter-in-place/curfew being enforced with fines or penalties in this community? \": \"shelter_enforcement\",\n",
        "    \"If yes, please provide the URL to information regarding fine or penalty enforcement.\": \"shelter_enforcement_url\",\n",
        "    \"If yes, please provide the date of when this fine or penalty enforcement took or will take effect.\": \"shelter_enforcement_date\",\n",
        "    \"Is there a shelter-in-place, stay-at-home, or curfew order in this community? For example, were people advised to maintain social distance or abstain from all physical interactions or non-essential trips whenever possible?\": \"shelter\",\n",
        "    \"If yes, please provide the URL to information regarding the shelter-in-place/curfew or social distancing policy.\": \"shelter_url\",\n",
        "    \"If yes, please provide the date of when this shelter-in-place/curfew or social distancing policy took or will take effect.\": \"shelter_date\",\n",
        "    \"Is there any order that public events should be restricted in size or outright cancelled?\": \"event\",\n",
        "    \"If yes, please provide the URL to information regarding public events restrictions.\": \"event_url\",\n",
        "    \"If yes, please provide the date of when the cancellation of public events was or will be in effect.\": \"event_date\",\n",
        "    \"Are there public facilities with COVID testing available in this community? \": \"testing\",\n",
        "    \"If yes, please provide the URL to information regarding testing facilities.\": \"testing_url\",\n",
        "    \"If yes, please provide the date of when these facilities became available.\": \"testing_date\",\n",
        "    \"If yes, what is the one-way travel time (in minutes) from the geographic center of this community to the nearest COVID testing facility?\": \"testing_time\",\n",
        "    \"Look for any information about whether this community's buses, subways, light rail, etc. are being shut down. Is any public transit system shut down?\": \"transport\",\n",
        "    \"If yes, please provide the URL to information regarding public transit.\": \"transport_url\",\n",
        "    \"If yes, please provide the date of when public transit was or will be stopped.\": \"transport_date\",\n",
        "    \"Does this community participate in the Food Distribution Program on Indian Reservations (FDPIR)?\": \"fdpir\",\n",
        "    \"If yes, please provide the URL to information regarding the Food Distribution Program on Indian Reservations (FDPIR).\": \"fdpir_url\",\n",
        "    \"Are casinos, resorts or other community-owned revenue-generating facilities closed in this community?\": \"revenue\",\n",
        "    \"If yes, please provide the date when revenue-generating facilities closed.\": \"revenue_date\",\n",
        "    \"If yes, please provide the URL to information regarding these facility closures.\": \"revenue_url\",\n",
        "    \"Are there checkpoints in place to regulate traffic through the community?\": \"checkpoint\",\n",
        "    \"If yes, please provide the date of when these checkpoints were implemented.\": \"checkpoint_date\",\n",
        "    \"If yes, please provide the URL to information regarding checkpoints.\": \"checkpoint_url\",\n",
        "    \"Are national parks closed in this community?\": \"parks\"\n",
        "})\n",
        "full_policies.pop(\"If you found any additional information that doesn't fit into the above categories, please describe it here.\")\n",
        "full_policies.pop(\"Please provide a URL for the information above.\")\n",
        "\n",
        "# Fuzzy mapping function to correctly map the census AIANNHCE codes to user-entered names\n",
        "def fuzzymap(user,dictum):\n",
        "  commons = [\"New\",\"North\", \"South\", \"Dakota\", \"SDTSA\", \"OTSA\", \"ANVSA\", \"Big\", \"Native\", \"Community\", \"Tribe\", \"Pueblo\", \"Village\", \"American\", \"Mexico\", \"Nation\", \"Native\", \"and\", \"of\", \"Indians\", \"Indian\", \"Tribe\", \"Tribes\" \"Off\", \"-\", \"Reservation\", \"Trust\", \"Land\" \"The\", \"the\", \",\", \"(\", \")\"]\n",
        "  matches = []\n",
        "  for i, query in enumerate(user):\n",
        "    # delete common words from the test queries\n",
        "    print('query number:' + str(i))\n",
        "    print('query is: ' + query)\n",
        "    # time.sleep(0.25)\n",
        "\n",
        "    # hardcoding exceptions that fuzzymatch does not catch\n",
        "    ex_dict = {\n",
        "        'Pueblo of Sandia': 'Sandia Pueblo',\n",
        "        'Sandia Pueblo': 'Sandia Pueblo',\n",
        "        'Confederated Tribes and Bands of the Yakama Nation': 'Yakama Nation Reservation and Off-Reservation Trust Land',\n",
        "        'Kiowa Indian Tribe of Oklahoma': 'Kiowa-Comanche-Apache-Fort Sill Apache OTSA',\n",
        "        'Mashpee Wampanoag Tribe':'Wampanoag-Aquinnah Trust Land',\n",
        "        'Wrangell Cooperative Association': 'Wrangell ANVSA',\n",
        "        'Colorado River Indian Tribes of the Colorado River Indian Reservation (Arizona and California)': 'Colorado River Indian Reservation',\n",
        "        'Four Winds Tribe Louisiana Cherokee Confederacy': 'Four Winds Cherokee SDTSA',\n",
        "        'Makah Indian Tribe of the Makah Indian Reservation':  'Makah Indian Reservation',\n",
        "        'Reno-Sparks Indian Colony': 'Reno-Sparks Indian Colony',\n",
        "        'Turtle Mountain Band of Chippewa Indians of North Dakota': 'Turtle Mountain Reservation and Off-Reservation Trust Land',\n",
        "        'Yankton Sioux Tribe of South Dakota': 'Yankton Reservation',\n",
        "        'Fort Belknap Indian Community of the Fort Belknap Reservation of Montana': 'Fort Belknap Reservation and Off-Reservation Trust Land',\n",
        "        'Wyandotte Nation': 'Wyandotte OTSA',\n",
        "        'Pueblo of Nambe': 'Nambe Pueblo and Off-Reservation Trust Land'\n",
        "    }\n",
        "    if query in ex_dict.keys():\n",
        "      bestmatch = ex_dict[query]\n",
        "      thresh = 10000\n",
        "    else:\n",
        "        for comm in commons:\n",
        "          query = query.replace(comm, \"\")\n",
        "        \n",
        "        thresh = 0\n",
        "        for key in dictum.keys():\n",
        "          for comm in commons:\n",
        "            key2 = key.replace(comm, \"\")\n",
        "          score = fuzz.partial_ratio(query, key2)\n",
        "          if score > thresh:\n",
        "            thresh = score\n",
        "            bestmatch = key\n",
        "      \n",
        "    # user2[i] = bestmatch\n",
        "    matches.append(bestmatch)\n",
        "    print('bestmatch is: ' + bestmatch)\n",
        "    print('fuzzy score is: ' + str(thresh))\n",
        "\n",
        "\n",
        "  user2 = pd.DataFrame({'header': matches}) \n",
        "  codes = user2.header.map(dictum)\n",
        "\n",
        "  return codes\n"
      ],
      "execution_count": 0,
      "outputs": []
    },
    {
      "cell_type": "code",
      "metadata": {
        "id": "xlsIQoxmeuMJ",
        "colab_type": "code",
        "colab": {
          "base_uri": "https://localhost:8080/",
          "height": 1000
        },
        "outputId": "81e2b961-7f4d-474b-d182-67ee231b976d"
      },
      "source": [
        "# full_policies[\"AIANNHCE\"] = full_policies.community_name.map(aian_code_mapping)\n",
        "full_policies[\"AIANNHCE\"] = fuzzymap(full_policies.community_name,aian_code_mapping)\n",
        "full_policies.set_index(\"AIANNHCE\", inplace=True)\n",
        "full_policies[\"updated\"] = pd.to_datetime(full_policies.pop(\"Timestamp\"))\n",
        "for col in dimensions:\n",
        "  full_policies[col] = full_policies[col].map({\"Yes\": True, \"No\": False, \"N/A\":float('nan'), \"\":float('nan')})\n",
        "\n",
        "full_policies['fdpir'] = full_policies['fdpir'].map({\"Yes\": True, \"No\": False, \"N/A\":float('nan'), \"\":float('nan')})\n",
        "full_policies['parks'] = full_policies['parks'].map({\"Yes\": True, \"No\": False, \"N/A\":float('nan'), \"\":float('nan')})\n",
        "\n",
        "# Convert timestamp from ambiguous DD/MM/YYYY to ISO 8601 friendly YYYY-MM-DD\n",
        "for col in dimensions:\n",
        "  full_policies[col + \"_date\"] = pd.to_datetime(full_policies[col + \"_date\"]).dt.strftime(\"%Y-%m-%d\")"
      ],
      "execution_count": 262,
      "outputs": [
        {
          "output_type": "stream",
          "text": [
            "query number:0\n",
            "query is: Pueblo of Sandia\n",
            "bestmatch is: Sandia Pueblo\n",
            "fuzzy score is: 10000\n",
            "query number:1\n",
            "query is: Cherokee Nation\n",
            "bestmatch is: Eastern Cherokee Reservation\n",
            "fuzzy score is: 100\n",
            "query number:2\n",
            "query is: Standing Rock Sioux Tribe (North Dakota and South Dakota)\n",
            "bestmatch is: Standing Rock Reservation\n",
            "fuzzy score is: 50\n",
            "query number:3\n",
            "query is: The Choctaw Nation of Oklahoma\n",
            "bestmatch is: Choctaw OTSA\n",
            "fuzzy score is: 75\n",
            "query number:4\n",
            "query is: Wind River Inter-Tribal \n",
            "bestmatch is: Wind River Reservation and Off-Reservation Trust Land\n",
            "fuzzy score is: 65\n",
            "query number:5\n",
            "query is: Puyallup Tribe of the Puyallup Reservation\n",
            "bestmatch is: Puyallup Reservation and Off-Reservation Trust Land\n",
            "fuzzy score is: 48\n",
            "query number:6\n",
            "query is: Confederated Tribes and Bands of the Yakama Nation\n",
            "bestmatch is: Yakama Nation Reservation and Off-Reservation Trust Land\n",
            "fuzzy score is: 10000\n",
            "query number:7\n",
            "query is: Navajo Nation (Arizona, New Mexico and Utah)\n",
            "bestmatch is: Navajo Nation Reservation and Off-Reservation Trust Land\n",
            "fuzzy score is: 52\n",
            "query number:8\n",
            "query is: Tulalip Tribes of Washington\n",
            "bestmatch is: Tulalip Reservation and Off-Reservation Trust Land\n",
            "fuzzy score is: 62\n",
            "query number:9\n",
            "query is: Muckleshoot Indian Tribe\n",
            "bestmatch is: Muckleshoot Reservation and Off-Reservation Trust Land\n",
            "fuzzy score is: 92\n",
            "query number:10\n",
            "query is: Swinomish Indian Tribal Community\n",
            "bestmatch is: Swinomish Reservation and Off-Reservation Trust Land\n",
            "fuzzy score is: 67\n",
            "query number:11\n",
            "query is: Spokane Tribe of the Spokane Reservation\n",
            "bestmatch is: Spokane Reservation and Off-Reservation Trust Land\n",
            "fuzzy score is: 53\n",
            "query number:12\n",
            "query is: Pueblo of Santa Clara\n",
            "bestmatch is: Santa Clara Pueblo\n",
            "fuzzy score is: 85\n",
            "query number:13\n",
            "query is: Kiowa Indian Tribe of Oklahoma\n",
            "bestmatch is: Kiowa-Comanche-Apache-Fort Sill Apache OTSA\n",
            "fuzzy score is: 10000\n",
            "query number:14\n",
            "query is: Kenaitze Indian Tribe\n",
            "bestmatch is: Kenaitze ANVSA\n",
            "fuzzy score is: 90\n",
            "query number:15\n",
            "query is: Chickaloon Native Village\n",
            "bestmatch is: Chickaloon ANVSA\n",
            "fuzzy score is: 92\n",
            "query number:16\n",
            "query is: Chickaloon Native Village\n",
            "bestmatch is: Chickaloon ANVSA\n",
            "fuzzy score is: 92\n",
            "query number:17\n",
            "query is: Ninilchik Village\n",
            "bestmatch is: Ninilchik ANVSA\n",
            "fuzzy score is: 100\n",
            "query number:18\n",
            "query is: Ninilchik Village\n",
            "bestmatch is: Ninilchik ANVSA\n",
            "fuzzy score is: 100\n",
            "query number:19\n",
            "query is: Ketchikan Indian Corporation\n",
            "bestmatch is: Ketchikan ANVSA\n",
            "fuzzy score is: 67\n",
            "query number:20\n",
            "query is: Ketchikan Indian Corporation\n",
            "bestmatch is: Ketchikan ANVSA\n",
            "fuzzy score is: 67\n",
            "query number:21\n",
            "query is: Douglas Indian Association\n",
            "bestmatch is: Douglas ANVSA\n",
            "fuzzy score is: 69\n",
            "query number:22\n",
            "query is: Petersburg Indian Association\n",
            "bestmatch is: Petersburg ANVSA\n",
            "fuzzy score is: 75\n",
            "query number:23\n",
            "query is: Cheyenne and Arapaho Tribes\n",
            "bestmatch is: Cheyenne-Arapaho OTSA\n",
            "fuzzy score is: 84\n",
            "query number:24\n",
            "query is: Penobscot Nation\n",
            "bestmatch is: Penobscot Reservation and Off-Reservation Trust Land\n",
            "fuzzy score is: 100\n",
            "query number:25\n",
            "query is: Citizen Potawatomi Nation\n",
            "bestmatch is: Citizen Potawatomi Nation-Absentee Shawnee OTSA\n",
            "fuzzy score is: 100\n",
            "query number:26\n",
            "query is: The Osage Nation\n",
            "bestmatch is: Osage Reservation\n",
            "fuzzy score is: 60\n",
            "query number:27\n",
            "query is: Houlton Band of Maliseet Indians\n",
            "bestmatch is: Houlton Maliseet Reservation and Off-Reservation Trust Land\n",
            "fuzzy score is: 85\n",
            "query number:28\n",
            "query is: Houlton Band of Maliseet Indians\n",
            "bestmatch is: Houlton Maliseet Reservation and Off-Reservation Trust Land\n",
            "fuzzy score is: 85\n",
            "query number:29\n",
            "query is: Seminole Nation of Oklahoma\n",
            "bestmatch is: Seminole OTSA\n",
            "fuzzy score is: 77\n",
            "query number:30\n",
            "query is: Kickapoo Tribe of Oklahoma\n",
            "bestmatch is: Kickapoo OTSA\n",
            "fuzzy score is: 77\n",
            "query number:31\n",
            "query is: Mohegan Tribe of Indians of Connecticut\n",
            "bestmatch is: Mohegan Reservation and Off-Reservation Trust Land\n",
            "fuzzy score is: 48\n",
            "query number:32\n",
            "query is: Gila River Indian Community of the Gila River Indian Reservation\n",
            "bestmatch is: Gila River Indian Reservation\n",
            "fuzzy score is: 63\n",
            "query number:33\n",
            "query is: Mashantucket Pequot Tribe\n",
            "bestmatch is: Mashantucket Pequot Reservation and Off-Reservation Trust Land\n",
            "fuzzy score is: 100\n",
            "query number:34\n",
            "query is: Wampanoag Tribe of Gay Head (Aquinnah) of Massachusetts\n",
            "bestmatch is: Wampanoag-Aquinnah Trust Land\n",
            "fuzzy score is: 59\n",
            "query number:35\n",
            "query is: Schaghticoke Tribal Nation\n",
            "bestmatch is: Schaghticoke (state) Reservation\n",
            "fuzzy score is: 75\n",
            "query number:36\n",
            "query is: Passamaquoddy Tribe\n",
            "bestmatch is: Passamaquoddy Trust Land\n",
            "fuzzy score is: 100\n",
            "query number:37\n",
            "query is: Mashpee Wampanoag Tribe\n",
            "bestmatch is: Wampanoag-Aquinnah Trust Land\n",
            "fuzzy score is: 10000\n",
            "query number:38\n",
            "query is: Narragansett Indian Tribe\n",
            "bestmatch is: Narragansett Reservation\n",
            "fuzzy score is: 93\n",
            "query number:39\n",
            "query is: Eastern Pequot Tribal Nation\n",
            "bestmatch is: Paucatuck Eastern Pequot (state) Reservation\n",
            "fuzzy score is: 77\n",
            "query number:40\n",
            "query is: Wrangell Cooperative Association\n",
            "bestmatch is: Wrangell ANVSA\n",
            "fuzzy score is: 10000\n",
            "query number:41\n",
            "query is: Wrangell Cooperative Association\n",
            "bestmatch is: Wrangell ANVSA\n",
            "fuzzy score is: 10000\n",
            "query number:42\n",
            "query is: Skagway Village\n",
            "bestmatch is: Skagway ANVSA\n",
            "fuzzy score is: 100\n",
            "query number:43\n",
            "query is: Skagway Village\n",
            "bestmatch is: Skagway ANVSA\n",
            "fuzzy score is: 100\n",
            "query number:44\n",
            "query is: Colorado River Indian Tribes of the Colorado River Indian Reservation (Arizona and California)\n",
            "bestmatch is: Colorado River Indian Reservation\n",
            "fuzzy score is: 10000\n",
            "query number:45\n",
            "query is: Manokotak Village\n",
            "bestmatch is: Manokotak ANVSA\n",
            "fuzzy score is: 100\n",
            "query number:46\n",
            "query is: Manokotak Village\n",
            "bestmatch is: Manokotak ANVSA\n",
            "fuzzy score is: 100\n",
            "query number:47\n",
            "query is: Cherokee Tribe of Northeast Alabama\n",
            "bestmatch is: Cherokee OTSA\n",
            "fuzzy score is: 69\n",
            "query number:48\n",
            "query is: Emmonak Village\n",
            "bestmatch is: Emmonak ANVSA\n",
            "fuzzy score is: 100\n",
            "query number:49\n",
            "query is: Cherokees of Southeast Alabama\n",
            "bestmatch is: Cherokee OTSA\n",
            "fuzzy score is: 69\n",
            "query number:50\n",
            "query is: Ohkay Owingeh (formerly the Pueblo of San Juan)\n",
            "bestmatch is: Ohkay Owingeh\n",
            "fuzzy score is: 100\n",
            "query number:51\n",
            "query is: United Houma Nation\n",
            "bestmatch is: United Houma Nation SDTSA\n",
            "fuzzy score is: 100\n",
            "query number:52\n",
            "query is: Salt River Pima-Maricopa Indian Community of the Salt River Reservation\n",
            "bestmatch is: Salt River Reservation\n",
            "fuzzy score is: 64\n",
            "query number:53\n",
            "query is: Cher-O-Creek Intra Tribal Indians\n",
            "bestmatch is: Cher-O-Creek SDTSA\n",
            "fuzzy score is: 67\n",
            "query number:54\n",
            "query is: Echota Cherokee Tribe of Alabama\n",
            "bestmatch is: Echota Cherokee SDTSA\n",
            "fuzzy score is: 81\n",
            "query number:55\n",
            "query is: Sandia Pueblo\n",
            "bestmatch is: Sandia Pueblo\n",
            "fuzzy score is: 10000\n",
            "query number:56\n",
            "query is: Pueblo of Taos\n",
            "bestmatch is: Taos Pueblo and Off-Reservation Trust Land\n",
            "fuzzy score is: 67\n",
            "query number:57\n",
            "query is: Four Winds Tribe Louisiana Cherokee Confederacy\n",
            "bestmatch is: Four Winds Cherokee SDTSA\n",
            "fuzzy score is: 10000\n",
            "query number:58\n",
            "query is: Makah Indian Tribe of the Makah Indian Reservation\n",
            "bestmatch is: Makah Indian Reservation\n",
            "fuzzy score is: 10000\n",
            "query number:59\n",
            "query is: Quinault Indian Nation\n",
            "bestmatch is: Quinault Reservation\n",
            "fuzzy score is: 90\n",
            "query number:60\n",
            "query is: Fort Mojave Indian Tribe (Arizona, California and Nevada)\n",
            "bestmatch is: Fort Mojave Reservation and Off-Reservation Trust Land\n",
            "fuzzy score is: 55\n",
            "query number:61\n",
            "query is: Laguna Pueblo\n",
            "bestmatch is: Laguna Pueblo and Off-Reservation Trust Land\n",
            "fuzzy score is: 100\n",
            "query number:62\n",
            "query is: Nooksack Indian Tribe of Washington\n",
            "bestmatch is: Nooksack Reservation and Off-Reservation Trust Land\n",
            "fuzzy score is: 59\n",
            "query number:63\n",
            "query is: Hualapai Indian Tribe of the Hualapai Indian Reservation\n",
            "bestmatch is: Hualapai Indian Reservation and Off-Reservation Trust Land\n",
            "fuzzy score is: 48\n",
            "query number:64\n",
            "query is: United Cherokee Ani-Yun-Wiya Nation\n",
            "bestmatch is: United Cherokee Ani-Yun-Wiya Nation SDTSA\n",
            "fuzzy score is: 93\n",
            "query number:65\n",
            "query is: Isleta Pueblo\n",
            "bestmatch is: Isleta Pueblo\n",
            "fuzzy score is: 100\n",
            "query number:66\n",
            "query is: Skokomish Indian Tribe\n",
            "bestmatch is: Skokomish Reservation\n",
            "fuzzy score is: 91\n",
            "query number:67\n",
            "query is: Fort McDowell Yavapai Nation\n",
            "bestmatch is: Fort McDowell Yavapai Nation Reservation\n",
            "fuzzy score is: 100\n",
            "query number:68\n",
            "query is: Yavapai-Apache Nation of the Camp Verde Indian Reservation\n",
            "bestmatch is: Yavapai-Apache Nation Reservation\n",
            "fuzzy score is: 59\n",
            "query number:69\n",
            "query is: Cherokee Nation\n",
            "bestmatch is: Eastern Cherokee Reservation\n",
            "fuzzy score is: 100\n",
            "query number:70\n",
            "query is: Nisqually Indian Tribe\n",
            "bestmatch is: Nisqually Reservation\n",
            "fuzzy score is: 91\n",
            "query number:71\n",
            "query is: Cheyenne River Sioux Tribe of the Cheyenne River Reservation\n",
            "bestmatch is: Cheyenne River Reservation and Off-Reservation Trust Land\n",
            "fuzzy score is: 54\n",
            "query number:72\n",
            "query is: Upper Skagit Indian Tribe of Washington\n",
            "bestmatch is: Upper Skagit Reservation\n",
            "fuzzy score is: 62\n",
            "query number:73\n",
            "query is: Eastern Band of Cherokee Indians\n",
            "bestmatch is: Eastern Cherokee Reservation\n",
            "fuzzy score is: 85\n",
            "query number:74\n",
            "query is: Reno-Sparks Indian Colony\n",
            "bestmatch is: Reno-Sparks Indian Colony\n",
            "fuzzy score is: 10000\n",
            "query number:75\n",
            "query is: Navajo Nation (Arizona, New Mexico and Utah)\n",
            "bestmatch is: Navajo Nation Reservation and Off-Reservation Trust Land\n",
            "fuzzy score is: 52\n",
            "query number:76\n",
            "query is: Mescalero Apache Tribe of the Mescalero Reservation\n",
            "bestmatch is: Fort Apache Reservation\n",
            "fuzzy score is: 62\n",
            "query number:77\n",
            "query is: Otoe-Missouria Tribe of Indians\n",
            "bestmatch is: Otoe-Missouria OTSA\n",
            "fuzzy score is: 88\n",
            "query number:78\n",
            "query is: Pueblo of San Felipe\n",
            "bestmatch is: San Felipe Pueblo\n",
            "fuzzy score is: 83\n",
            "query number:79\n",
            "query is: Kalispel Indian Community of the Kalispel Reservation\n",
            "bestmatch is: Kalispel Reservation and Off-Reservation Trust Land\n",
            "fuzzy score is: 50\n",
            "query number:80\n",
            "query is: Shakopee Mdewakanton Sioux Community of Minnesota\n",
            "bestmatch is: Shakopee Mdewakanton Sioux Community and Off-Reservation Trust Land\n",
            "fuzzy score is: 76\n",
            "query number:81\n",
            "query is: Santa Rosa Band of Cahuilla Indians (formerly the Santa Rosa Band of Cahuilla Mission Indians of the Santa Rosa Reservation)\n",
            "bestmatch is: Santa Rosa Rancheria\n",
            "fuzzy score is: 70\n",
            "query number:82\n",
            "query is: Port Gamble S'Klallam Tribe\n",
            "bestmatch is: Jamestown S'Klallam Reservation and Off-Reservation Trust Land\n",
            "fuzzy score is: 64\n",
            "query number:83\n",
            "query is: Zia Pueblo\n",
            "bestmatch is: Zia Pueblo and Off-Reservation Trust Land\n",
            "fuzzy score is: 100\n",
            "query number:84\n",
            "query is: Lower Elwha Tribal Community\n",
            "bestmatch is: Lower Elwha Reservation and Off-Reservation Trust Land\n",
            "fuzzy score is: 74\n",
            "query number:85\n",
            "query is: Squaxin Island Tribe of the Squaxin Island Reservation\n",
            "bestmatch is: Squaxin Island Reservation and Off-Reservation Trust Land\n",
            "fuzzy score is: 59\n",
            "query number:86\n",
            "query is: Confederated Salish and Kootenai Tribes of the Flathead Reservation\n",
            "bestmatch is: Samish TDSA\n",
            "fuzzy score is: 55\n",
            "query number:87\n",
            "query is: Rosebud Sioux Tribe of the Rosebud Indian Reservation\n",
            "bestmatch is: Lower Sioux Indian Community\n",
            "fuzzy score is: 46\n",
            "query number:88\n",
            "query is: Turtle Mountain Band of Chippewa Indians of North Dakota\n",
            "bestmatch is: Turtle Mountain Reservation and Off-Reservation Trust Land\n",
            "fuzzy score is: 10000\n",
            "query number:89\n",
            "query is: Yankton Sioux Tribe of South Dakota\n",
            "bestmatch is: Yankton Reservation\n",
            "fuzzy score is: 10000\n",
            "query number:90\n",
            "query is: Spirit Lake Tribe\n",
            "bestmatch is: Spirit Lake Reservation\n",
            "fuzzy score is: 100\n",
            "query number:91\n",
            "query is: Fort Belknap Indian Community of the Fort Belknap Reservation of Montana\n",
            "bestmatch is: Fort Belknap Reservation and Off-Reservation Trust Land\n",
            "fuzzy score is: 10000\n",
            "query number:92\n",
            "query is: Winnebago Tribe of Nebraska\n",
            "bestmatch is: Winnebago Reservation and Off-Reservation Trust Land\n",
            "fuzzy score is: 65\n",
            "query number:93\n",
            "query is: Tohono O’odham Nation of Arizona\n",
            "bestmatch is: Tohono O'odham Nation Reservation and Off-Reservation Trust Land\n",
            "fuzzy score is: 71\n",
            "query number:94\n",
            "query is: Navajo Nation (Arizona, New Mexico and Utah)\n",
            "bestmatch is: Navajo Nation Reservation and Off-Reservation Trust Land\n",
            "fuzzy score is: 52\n",
            "query number:95\n",
            "query is: Seneca-Cayuga Nation\n",
            "bestmatch is: Seneca-Cayuga OTSA\n",
            "fuzzy score is: 92\n",
            "query number:96\n",
            "query is: Wyandotte Nation\n",
            "bestmatch is: Wyandotte OTSA\n",
            "fuzzy score is: 10000\n",
            "query number:97\n",
            "query is: Pueblo de Cochiti\n",
            "bestmatch is: Pueblo de Cochiti\n",
            "fuzzy score is: 100\n",
            "query number:98\n",
            "query is: Eastern Shawnee Tribe of Oklahoma\n",
            "bestmatch is: Eastern Shawnee OTSA\n",
            "fuzzy score is: 85\n",
            "query number:99\n",
            "query is: Prairie Band Potawatomi Nation\n",
            "bestmatch is: Prairie Band of Potawatomi Nation Reservation\n",
            "fuzzy score is: 71\n",
            "query number:100\n",
            "query is: Prairie Island Indian Community in the State of Minnesota\n",
            "bestmatch is: Prairie Island Indian Community and Off-Reservation Trust Land\n",
            "fuzzy score is: 53\n",
            "query number:101\n",
            "query is: Pueblo of Nambe\n",
            "bestmatch is: Nambe Pueblo and Off-Reservation Trust Land\n",
            "fuzzy score is: 10000\n",
            "query number:102\n",
            "query is: Pueblo of Tesuque\n",
            "bestmatch is: Tesuque Pueblo and Off-Reservation Trust Land\n",
            "fuzzy score is: 78\n",
            "query number:103\n",
            "query is: Pyramid Lake Paiute Tribe of the Pyramid Lake Reservation\n",
            "bestmatch is: Pyramid Lake Paiute Reservation\n",
            "fuzzy score is: 74\n",
            "query number:104\n",
            "query is: San Pasqual Band of Diegueño Mission Indians of California\n",
            "bestmatch is: San Pasqual Reservation\n",
            "fuzzy score is: 65\n",
            "query number:105\n",
            "query is: Santa Rosa Indian Community of the Santa Rosa Rancheria\n",
            "bestmatch is: Santa Rosa Rancheria\n",
            "fuzzy score is: 100\n",
            "query number:106\n",
            "query is: Santa Rosa Indian Community of the Santa Rosa Rancheria\n",
            "bestmatch is: Santa Rosa Rancheria\n",
            "fuzzy score is: 100\n",
            "query number:107\n",
            "query is: Cocopah Tribe of Arizona\n",
            "bestmatch is: Cocopah Reservation\n",
            "fuzzy score is: 59\n",
            "query number:108\n",
            "query is: Morongo Band of Cahuilla Mission Indians\n",
            "bestmatch is: Cahuilla Reservation\n",
            "fuzzy score is: 70\n",
            "query number:109\n",
            "query is: Stockbridge Munsee Community\n",
            "bestmatch is: Stockbridge Munsee Community\n",
            "fuzzy score is: 100\n",
            "query number:110\n",
            "query is: Occaneechi Band of teh Saponi Nation\n",
            "bestmatch is: Occaneechi-Saponi SDTSA\n",
            "fuzzy score is: 65\n",
            "query number:111\n",
            "query is: Haliwa-Saponi Indian Tribe\n",
            "bestmatch is: Haliwa-Saponi SDTSA\n",
            "fuzzy score is: 93\n"
          ],
          "name": "stdout"
        }
      ]
    },
    {
      "cell_type": "code",
      "metadata": {
        "id": "3ypA1LefFKw6",
        "colab_type": "code",
        "outputId": "dffe58f9-7982-46ef-8293-5c69a59071ae",
        "colab": {
          "base_uri": "https://localhost:8080/",
          "height": 34
        }
      },
      "source": [
        "full_policies.school.unique()"
      ],
      "execution_count": 263,
      "outputs": [
        {
          "output_type": "execute_result",
          "data": {
            "text/plain": [
              "array([nan, True], dtype=object)"
            ]
          },
          "metadata": {
            "tags": []
          },
          "execution_count": 263
        }
      ]
    },
    {
      "cell_type": "markdown",
      "metadata": {
        "id": "zKTWOp8hMkHG",
        "colab_type": "text"
      },
      "source": [
        "### Deduplicate rows.\n",
        "\n",
        "Naive assumption - we assume that restrictions are never lifted, so the heaviest restriction reported for fips is still active.\n",
        "\n",
        "We will likely have to revisit this in the future."
      ]
    },
    {
      "cell_type": "code",
      "metadata": {
        "id": "dQM-WD0WAvNm",
        "colab_type": "code",
        "colab": {}
      },
      "source": [
        "# No deduplication currently necessary\n",
        "policies_dedup = full_policies.reset_index().drop_duplicates(subset=\"AIANNHCE\")\n",
        "\n",
        "# # Remove if NA for FIPS (if submitter of data changed county name and FIPS could not be correctly mapped\n",
        "# policies_min = policies_dedup[~policies_dedup.fips.isna() & (policies_dedup.fips < 100000) & (policies_dedup.fips >= 0)].copy()\n",
        "\n",
        "policies_min = policies_dedup.set_index('AIANNHCE')\n",
        "# policies_min2 = policies_min"
      ],
      "execution_count": 0,
      "outputs": []
    },
    {
      "cell_type": "code",
      "metadata": {
        "id": "48v3jLKZgtSK",
        "colab_type": "code",
        "colab": {}
      },
      "source": [
        "# policies_min2.set_index('AIANNHCE', inplace=True);\n",
        "# full_policies.groupby('fips')['updated'].sum()"
      ],
      "execution_count": 0,
      "outputs": []
    },
    {
      "cell_type": "code",
      "metadata": {
        "id": "evB-OdNUoE0i",
        "colab_type": "code",
        "colab": {}
      },
      "source": [
        "# function that has the following aggregation behavior:\n",
        "# pick the most recently submitted entry on any particular policy, inherit latest policy for each policy \n",
        "# EXCEPT if 2 or more within 24 hours of the last entered policy\n",
        "# in the case of 2 entries with disagreement, pick the one that is most open (i.e. favor No over Yes)\n",
        "# if 3+ entries within 24 hours then take majority vote, leaning No in case of tie\n",
        "\n",
        "def agg24(df):\n",
        "  polcols = dimensions\n",
        "  # one entry should be returned for each county, initialize to first entry and edit later\n",
        "  findf = df.head(1)\n",
        "  for col in polcols:\n",
        "    # find last non-null datapoint for that policy\n",
        "    filldf = df[~df[col].isnull()]\n",
        "    tmax = filldf.updated.max()\n",
        "    tcut = tmax - np.timedelta64(24,'h')\n",
        "    reduced = filldf.drop(filldf[filldf.updated < tcut].index)\n",
        "\n",
        "    # will return date and URL of the last entry that matched the final boolean\n",
        "    urlcol = col + '_url'\n",
        "    datecol = col + '_date'\n",
        "    \n",
        "    if reduced[col].size == 0:\n",
        "       decision = float('nan')\n",
        "    elif np.sum(reduced[col])/reduced[col].size > 0.50001:\n",
        "      decision = True\n",
        "    else:\n",
        "      decision = False\n",
        "    findf[col].iloc[0] = decision\n",
        "    sourced = reduced[reduced[col] == decision]\n",
        "\n",
        "    if sourced[col].shape[0] > 0:\n",
        "      # print(sourced.shape[0])\n",
        "      findf[urlcol].iloc[0] = sourced[urlcol].iloc[sourced.shape[0]-1]\n",
        "      findf[datecol].iloc[0] = sourced[datecol].iloc[sourced.shape[0]-1]\n",
        "\n",
        " #   if reduced[col].isna().all()\n",
        "  return findf\n",
        "  "
      ],
      "execution_count": 0,
      "outputs": []
    },
    {
      "cell_type": "code",
      "metadata": {
        "id": "gmpjBSTgjsVG",
        "colab_type": "code",
        "colab": {}
      },
      "source": [
        "# No aggregation needed for now, doing simple deduplication\n",
        "# policies_agg = full_policies.groupby('fips').apply(agg24)\n",
        "# policies_agg = policies_agg.droplevel(1)"
      ],
      "execution_count": 0,
      "outputs": []
    },
    {
      "cell_type": "code",
      "metadata": {
        "id": "vEVX4etmmFi4",
        "colab_type": "code",
        "colab": {}
      },
      "source": [
        ""
      ],
      "execution_count": 0,
      "outputs": []
    },
    {
      "cell_type": "code",
      "metadata": {
        "id": "9qBSp8kagMXA",
        "colab_type": "code",
        "colab": {}
      },
      "source": [
        "# policies_agg.pop(\"county_name\");\n",
        "# policies_min.set_index('fips', inplace=True);\n",
        "#Identifying the problematic row\n",
        "# policies_debug = policies_min[0:140]\n",
        "# policies_min = policies_debug"
      ],
      "execution_count": 0,
      "outputs": []
    },
    {
      "cell_type": "code",
      "metadata": {
        "id": "3QyYhi3lPVyL",
        "colab_type": "code",
        "colab": {
          "base_uri": "https://localhost:8080/",
          "height": 34
        },
        "outputId": "d6443813-74a1-4d6b-ee23-8dadc6d6d4cc"
      },
      "source": [
        "policies_min.shape"
      ],
      "execution_count": 276,
      "outputs": [
        {
          "output_type": "execute_result",
          "data": {
            "text/plain": [
              "(96, 34)"
            ]
          },
          "metadata": {
            "tags": []
          },
          "execution_count": 276
        }
      ]
    },
    {
      "cell_type": "code",
      "metadata": {
        "id": "G692YAteqpmy",
        "colab_type": "code",
        "colab": {
          "base_uri": "https://localhost:8080/",
          "height": 425
        },
        "outputId": "6cbddebb-1281-4234-f7ec-921ad3a49f66"
      },
      "source": [
        "policies_min.head()"
      ],
      "execution_count": 277,
      "outputs": [
        {
          "output_type": "execute_result",
          "data": {
            "text/html": [
              "<div>\n",
              "<style scoped>\n",
              "    .dataframe tbody tr th:only-of-type {\n",
              "        vertical-align: middle;\n",
              "    }\n",
              "\n",
              "    .dataframe tbody tr th {\n",
              "        vertical-align: top;\n",
              "    }\n",
              "\n",
              "    .dataframe thead th {\n",
              "        text-align: right;\n",
              "    }\n",
              "</style>\n",
              "<table border=\"1\" class=\"dataframe\">\n",
              "  <thead>\n",
              "    <tr style=\"text-align: right;\">\n",
              "      <th></th>\n",
              "      <th>community_name</th>\n",
              "      <th>population</th>\n",
              "      <th>testing</th>\n",
              "      <th>testing_date</th>\n",
              "      <th>testing_url</th>\n",
              "      <th>school</th>\n",
              "      <th>school_date</th>\n",
              "      <th>school_url</th>\n",
              "      <th>work</th>\n",
              "      <th>work_date</th>\n",
              "      <th>work_url</th>\n",
              "      <th>shelter</th>\n",
              "      <th>shelter_date</th>\n",
              "      <th>shelter_url</th>\n",
              "      <th>shelter_enforcement</th>\n",
              "      <th>shelter_enforcement_date</th>\n",
              "      <th>shelter_enforcement_url</th>\n",
              "      <th>event</th>\n",
              "      <th>event_date</th>\n",
              "      <th>event_url</th>\n",
              "      <th>transport</th>\n",
              "      <th>transport_date</th>\n",
              "      <th>transport_url</th>\n",
              "      <th>fdpir</th>\n",
              "      <th>fdpir_url</th>\n",
              "      <th>revenue</th>\n",
              "      <th>revenue_date</th>\n",
              "      <th>revenue_url</th>\n",
              "      <th>checkpoint</th>\n",
              "      <th>checkpoint_date</th>\n",
              "      <th>checkpoint_url</th>\n",
              "      <th>testing_time</th>\n",
              "      <th>parks</th>\n",
              "      <th>updated</th>\n",
              "    </tr>\n",
              "    <tr>\n",
              "      <th>AIANNHCE</th>\n",
              "      <th></th>\n",
              "      <th></th>\n",
              "      <th></th>\n",
              "      <th></th>\n",
              "      <th></th>\n",
              "      <th></th>\n",
              "      <th></th>\n",
              "      <th></th>\n",
              "      <th></th>\n",
              "      <th></th>\n",
              "      <th></th>\n",
              "      <th></th>\n",
              "      <th></th>\n",
              "      <th></th>\n",
              "      <th></th>\n",
              "      <th></th>\n",
              "      <th></th>\n",
              "      <th></th>\n",
              "      <th></th>\n",
              "      <th></th>\n",
              "      <th></th>\n",
              "      <th></th>\n",
              "      <th></th>\n",
              "      <th></th>\n",
              "      <th></th>\n",
              "      <th></th>\n",
              "      <th></th>\n",
              "      <th></th>\n",
              "      <th></th>\n",
              "      <th></th>\n",
              "      <th></th>\n",
              "      <th></th>\n",
              "      <th></th>\n",
              "      <th></th>\n",
              "    </tr>\n",
              "  </thead>\n",
              "  <tbody>\n",
              "    <tr>\n",
              "      <th>3370</th>\n",
              "      <td>Pueblo of Sandia</td>\n",
              "      <td>417</td>\n",
              "      <td>NaN</td>\n",
              "      <td>NaN</td>\n",
              "      <td></td>\n",
              "      <td>NaN</td>\n",
              "      <td>NaN</td>\n",
              "      <td></td>\n",
              "      <td>True</td>\n",
              "      <td>2020-03-17</td>\n",
              "      <td>https://www.sandiacasino.com/your-safety-matters/</td>\n",
              "      <td>NaN</td>\n",
              "      <td>NaN</td>\n",
              "      <td></td>\n",
              "      <td>NaN</td>\n",
              "      <td>NaN</td>\n",
              "      <td></td>\n",
              "      <td>NaN</td>\n",
              "      <td>NaN</td>\n",
              "      <td></td>\n",
              "      <td>NaN</td>\n",
              "      <td>NaN</td>\n",
              "      <td></td>\n",
              "      <td>NaN</td>\n",
              "      <td></td>\n",
              "      <td>NaN</td>\n",
              "      <td>NaN</td>\n",
              "      <td></td>\n",
              "      <td>NaN</td>\n",
              "      <td>NaN</td>\n",
              "      <td></td>\n",
              "      <td></td>\n",
              "      <td>NaN</td>\n",
              "      <td>2020-05-09 16:36:38</td>\n",
              "    </tr>\n",
              "    <tr>\n",
              "      <th>990</th>\n",
              "      <td>Cherokee Nation</td>\n",
              "      <td></td>\n",
              "      <td>True</td>\n",
              "      <td>2020-04-02</td>\n",
              "      <td>https://www.theonefeather.com/2020/04/cherokee...</td>\n",
              "      <td>True</td>\n",
              "      <td>2020-03-17</td>\n",
              "      <td>https://www.tahlequahdailypress.com/news/chero...</td>\n",
              "      <td>True</td>\n",
              "      <td>2020-03-17</td>\n",
              "      <td>https://www.tahlequahdailypress.com/news/chero...</td>\n",
              "      <td>NaN</td>\n",
              "      <td>NaN</td>\n",
              "      <td></td>\n",
              "      <td>NaN</td>\n",
              "      <td>NaN</td>\n",
              "      <td></td>\n",
              "      <td>True</td>\n",
              "      <td>2020-03-17</td>\n",
              "      <td>https://www.tahlequahdailypress.com/news/chero...</td>\n",
              "      <td>NaN</td>\n",
              "      <td>NaN</td>\n",
              "      <td></td>\n",
              "      <td>NaN</td>\n",
              "      <td></td>\n",
              "      <td>NaN</td>\n",
              "      <td>NaN</td>\n",
              "      <td></td>\n",
              "      <td>NaN</td>\n",
              "      <td>NaN</td>\n",
              "      <td></td>\n",
              "      <td></td>\n",
              "      <td>NaN</td>\n",
              "      <td>2020-05-09 16:37:20</td>\n",
              "    </tr>\n",
              "    <tr>\n",
              "      <th>3970</th>\n",
              "      <td>Standing Rock Sioux Tribe (North Dakota and So...</td>\n",
              "      <td>8618</td>\n",
              "      <td>True</td>\n",
              "      <td>2020-05-09</td>\n",
              "      <td>https://www.kfyrtv.com/content/news/Standing-R...</td>\n",
              "      <td>True</td>\n",
              "      <td>2020-03-30</td>\n",
              "      <td>https://www.standing-rock.k12.nd.us/</td>\n",
              "      <td>True</td>\n",
              "      <td>2020-03-13</td>\n",
              "      <td>https://www.srstcovid19.com/</td>\n",
              "      <td>True</td>\n",
              "      <td>2020-03-13</td>\n",
              "      <td>https://www.srstcovid19.com/</td>\n",
              "      <td>False</td>\n",
              "      <td>NaN</td>\n",
              "      <td></td>\n",
              "      <td>True</td>\n",
              "      <td>NaN</td>\n",
              "      <td>https://www.standingrock.org/content/covid-19</td>\n",
              "      <td>NaN</td>\n",
              "      <td>NaN</td>\n",
              "      <td></td>\n",
              "      <td>NaN</td>\n",
              "      <td></td>\n",
              "      <td>NaN</td>\n",
              "      <td>NaN</td>\n",
              "      <td></td>\n",
              "      <td>NaN</td>\n",
              "      <td>NaN</td>\n",
              "      <td></td>\n",
              "      <td></td>\n",
              "      <td>NaN</td>\n",
              "      <td>2020-05-09 16:43:16</td>\n",
              "    </tr>\n",
              "    <tr>\n",
              "      <th>5590</th>\n",
              "      <td>The Choctaw Nation of Oklahoma</td>\n",
              "      <td>79006</td>\n",
              "      <td>True</td>\n",
              "      <td>2020-04-20</td>\n",
              "      <td>https://www.choctawnation.com/news-events/pres...</td>\n",
              "      <td>True</td>\n",
              "      <td>2020-03-25</td>\n",
              "      <td>https://www.choctawnation.com/news-events/pres...</td>\n",
              "      <td>True</td>\n",
              "      <td>2020-03-17</td>\n",
              "      <td>http://choctawnation.com/covid-19</td>\n",
              "      <td>False</td>\n",
              "      <td>NaN</td>\n",
              "      <td></td>\n",
              "      <td>False</td>\n",
              "      <td>2020-01-01</td>\n",
              "      <td></td>\n",
              "      <td>True</td>\n",
              "      <td>2020-03-17</td>\n",
              "      <td>http://choctawnation.com/covid-19</td>\n",
              "      <td>NaN</td>\n",
              "      <td>NaN</td>\n",
              "      <td></td>\n",
              "      <td>NaN</td>\n",
              "      <td></td>\n",
              "      <td>NaN</td>\n",
              "      <td>NaN</td>\n",
              "      <td></td>\n",
              "      <td>NaN</td>\n",
              "      <td>NaN</td>\n",
              "      <td></td>\n",
              "      <td></td>\n",
              "      <td>NaN</td>\n",
              "      <td>2020-05-09 16:49:26</td>\n",
              "    </tr>\n",
              "    <tr>\n",
              "      <th>4610</th>\n",
              "      <td>Wind River Inter-Tribal</td>\n",
              "      <td>26490</td>\n",
              "      <td>True</td>\n",
              "      <td>2020-04-06</td>\n",
              "      <td>https://www.facebook.com/WRFCHCOfficial/posts/...</td>\n",
              "      <td>True</td>\n",
              "      <td>NaN</td>\n",
              "      <td>https://www.wyomingpublicmedia.org/post/wind-r...</td>\n",
              "      <td>True</td>\n",
              "      <td>NaN</td>\n",
              "      <td>https://county10.com/wp-content/uploads/2020/0...</td>\n",
              "      <td>True</td>\n",
              "      <td>2020-03-23</td>\n",
              "      <td>https://www.wyomingpublicmedia.org/post/covid-...</td>\n",
              "      <td>True</td>\n",
              "      <td>2020-04-18</td>\n",
              "      <td>https://trib.com/news/state-and-regional/triba...</td>\n",
              "      <td>True</td>\n",
              "      <td>2020-03-31</td>\n",
              "      <td>https://county10.com/wp-content/uploads/2020/0...</td>\n",
              "      <td>NaN</td>\n",
              "      <td>NaN</td>\n",
              "      <td></td>\n",
              "      <td>NaN</td>\n",
              "      <td></td>\n",
              "      <td>NaN</td>\n",
              "      <td>NaN</td>\n",
              "      <td></td>\n",
              "      <td>NaN</td>\n",
              "      <td>NaN</td>\n",
              "      <td></td>\n",
              "      <td></td>\n",
              "      <td>NaN</td>\n",
              "      <td>2020-05-09 16:49:55</td>\n",
              "    </tr>\n",
              "  </tbody>\n",
              "</table>\n",
              "</div>"
            ],
            "text/plain": [
              "                                             community_name  ...             updated\n",
              "AIANNHCE                                                     ...                    \n",
              "3370                                       Pueblo of Sandia  ... 2020-05-09 16:36:38\n",
              "990                                         Cherokee Nation  ... 2020-05-09 16:37:20\n",
              "3970      Standing Rock Sioux Tribe (North Dakota and So...  ... 2020-05-09 16:43:16\n",
              "5590                         The Choctaw Nation of Oklahoma  ... 2020-05-09 16:49:26\n",
              "4610                               Wind River Inter-Tribal   ... 2020-05-09 16:49:55\n",
              "\n",
              "[5 rows x 34 columns]"
            ]
          },
          "metadata": {
            "tags": []
          },
          "execution_count": 277
        }
      ]
    },
    {
      "cell_type": "code",
      "metadata": {
        "id": "VVfSuKFcquS3",
        "colab_type": "code",
        "outputId": "11db7a1b-06c7-418e-d26f-e2aac4f2952a",
        "colab": {
          "base_uri": "https://localhost:8080/",
          "height": 34
        }
      },
      "source": [
        "# names only match between user input and Census for 6 counties automatically, now all 96 counties\n",
        "\n",
        "len(full_policies.index.unique())"
      ],
      "execution_count": 278,
      "outputs": [
        {
          "output_type": "execute_result",
          "data": {
            "text/plain": [
              "96"
            ]
          },
          "metadata": {
            "tags": []
          },
          "execution_count": 278
        }
      ]
    },
    {
      "cell_type": "code",
      "metadata": {
        "id": "CG9nbYoUW602",
        "colab_type": "code",
        "colab": {
          "base_uri": "https://localhost:8080/",
          "height": 34
        },
        "outputId": "e5452000-0916-4faa-f270-c596f7071337"
      },
      "source": [
        "len(full_policies.reset_index().AIANNHCE.unique())"
      ],
      "execution_count": 279,
      "outputs": [
        {
          "output_type": "execute_result",
          "data": {
            "text/plain": [
              "96"
            ]
          },
          "metadata": {
            "tags": []
          },
          "execution_count": 279
        }
      ]
    },
    {
      "cell_type": "code",
      "metadata": {
        "id": "h0hpPx4SdQZy",
        "colab_type": "code",
        "colab": {
          "base_uri": "https://localhost:8080/",
          "height": 612
        },
        "outputId": "232bbe7c-e153-41e4-e6e2-d7e8da0b1fde"
      },
      "source": [
        "full_policies.loc[2400.0]"
      ],
      "execution_count": 280,
      "outputs": [
        {
          "output_type": "execute_result",
          "data": {
            "text/plain": [
              "community_name                                                Pueblo of Nambe\n",
              "population                                                               1818\n",
              "testing                                                                 False\n",
              "testing_date                                                              NaN\n",
              "testing_url                                                                  \n",
              "school                                                                    NaN\n",
              "school_date                                                               NaN\n",
              "school_url                                                                   \n",
              "work                                                                      NaN\n",
              "work_date                                                                 NaN\n",
              "work_url                                                                     \n",
              "shelter                                                                   NaN\n",
              "shelter_date                                                              NaN\n",
              "shelter_url                                                                  \n",
              "shelter_enforcement                                                       NaN\n",
              "shelter_enforcement_date                                                  NaN\n",
              "shelter_enforcement_url                                                      \n",
              "event                                                                     NaN\n",
              "event_date                                                                NaN\n",
              "event_url                                                                    \n",
              "transport                                                                 NaN\n",
              "transport_date                                                            NaN\n",
              "transport_url                                                                \n",
              "fdpir                                                                    True\n",
              "fdpir_url                   https://newscenter.nmsu.edu/Articles/view/1373...\n",
              "revenue                                                                   NaN\n",
              "revenue_date                                                              NaN\n",
              "revenue_url                                                                  \n",
              "checkpoint                                                              False\n",
              "checkpoint_date                                                           NaN\n",
              "checkpoint_url                                                               \n",
              "testing_time                                                                 \n",
              "parks                                                                   False\n",
              "updated                                                   2020-05-30 14:18:44\n",
              "Name: 2400, dtype: object"
            ]
          },
          "metadata": {
            "tags": []
          },
          "execution_count": 280
        }
      ]
    },
    {
      "cell_type": "code",
      "metadata": {
        "id": "NbS9P3L1citC",
        "colab_type": "code",
        "colab": {}
      },
      "source": [
        ""
      ],
      "execution_count": 0,
      "outputs": []
    },
    {
      "cell_type": "code",
      "metadata": {
        "id": "9KpJ0QzQci6Q",
        "colab_type": "code",
        "colab": {}
      },
      "source": [
        ""
      ],
      "execution_count": 0,
      "outputs": []
    },
    {
      "cell_type": "code",
      "metadata": {
        "id": "sypC6Vjbdzh1",
        "colab_type": "code",
        "colab": {}
      },
      "source": [
        ""
      ],
      "execution_count": 0,
      "outputs": []
    },
    {
      "cell_type": "code",
      "metadata": {
        "id": "XfEaIFQYmtH4",
        "colab_type": "code",
        "colab": {}
      },
      "source": [
        ""
      ],
      "execution_count": 0,
      "outputs": []
    },
    {
      "cell_type": "code",
      "metadata": {
        "id": "GJ9IEWeufACJ",
        "colab_type": "code",
        "colab": {}
      },
      "source": [
        ""
      ],
      "execution_count": 0,
      "outputs": []
    },
    {
      "cell_type": "code",
      "metadata": {
        "id": "COHjoNDafAFk",
        "colab_type": "code",
        "colab": {}
      },
      "source": [
        "\n"
      ],
      "execution_count": 0,
      "outputs": []
    },
    {
      "cell_type": "code",
      "metadata": {
        "id": "yFmrI869fAPf",
        "colab_type": "code",
        "colab": {}
      },
      "source": [
        ""
      ],
      "execution_count": 0,
      "outputs": []
    },
    {
      "cell_type": "code",
      "metadata": {
        "id": "Cvzk10v3no9C",
        "colab_type": "code",
        "colab": {}
      },
      "source": [
        "with open(\"all_community_policies.csv\", \"w\") as outfile:\n",
        "  outfile.write(full_policies.to_csv())"
      ],
      "execution_count": 0,
      "outputs": []
    },
    {
      "cell_type": "code",
      "metadata": {
        "id": "zZARLfEpcjB2",
        "colab_type": "code",
        "colab": {}
      },
      "source": [
        "with open(\"community_policies.json\", \"w\") as outfile:\n",
        "  outfile.write(policies_min.to_json(orient=\"index\"))"
      ],
      "execution_count": 0,
      "outputs": []
    },
    {
      "cell_type": "code",
      "metadata": {
        "id": "l6_UPX24TCQF",
        "colab_type": "code",
        "colab": {}
      },
      "source": [
        "with open(\"community_policies.csv\", \"w\") as outfile:\n",
        "  outfile.write(policies_min.to_csv())"
      ],
      "execution_count": 0,
      "outputs": []
    },
    {
      "cell_type": "code",
      "metadata": {
        "id": "e4tFqpibTDQb",
        "colab_type": "code",
        "colab": {}
      },
      "source": [
        "# Reformatting for Tableau\n",
        "# policies_min2['county_only'] = policies_min2['county_name'].str.split(', ', expand=True)[0]\n",
        "# policies_min2['state_only'] = policies_min2['county_name'].str.split(', ', expand=True)[1]"
      ],
      "execution_count": 0,
      "outputs": []
    },
    {
      "cell_type": "code",
      "metadata": {
        "id": "xYzKqip7Tela",
        "colab_type": "code",
        "colab": {}
      },
      "source": [
        "# policies_min2.head()"
      ],
      "execution_count": 0,
      "outputs": []
    },
    {
      "cell_type": "code",
      "metadata": {
        "id": "HA8MOgC5T39z",
        "colab_type": "code",
        "colab": {}
      },
      "source": [
        "# policies_min.columns"
      ],
      "execution_count": 0,
      "outputs": []
    },
    {
      "cell_type": "code",
      "metadata": {
        "id": "aFoWBFhFVZCQ",
        "colab_type": "code",
        "colab": {}
      },
      "source": [
        "# cols = ['county_only','state_only']\n",
        "# cols = [*cols, *policies_min.columns]"
      ],
      "execution_count": 0,
      "outputs": []
    },
    {
      "cell_type": "code",
      "metadata": {
        "id": "RR_IQaUpVhyS",
        "colab_type": "code",
        "colab": {}
      },
      "source": [
        "# policies_min2 = policies_min2[cols]"
      ],
      "execution_count": 0,
      "outputs": []
    },
    {
      "cell_type": "code",
      "metadata": {
        "id": "T2Fnhpn8V-MP",
        "colab_type": "code",
        "colab": {}
      },
      "source": [
        "# policies_min2.head()"
      ],
      "execution_count": 0,
      "outputs": []
    },
    {
      "cell_type": "code",
      "metadata": {
        "id": "dqt8ghz8WfiK",
        "colab_type": "code",
        "colab": {}
      },
      "source": [
        "# with open(\"county_policies_2.csv\", \"w\") as outfile:\n",
        "  # outfile.write(policies_min2.to_csv())"
      ],
      "execution_count": 0,
      "outputs": []
    },
    {
      "cell_type": "code",
      "metadata": {
        "id": "_HLYj7sSWxN-",
        "colab_type": "code",
        "colab": {}
      },
      "source": [
        ""
      ],
      "execution_count": 0,
      "outputs": []
    }
  ]
}