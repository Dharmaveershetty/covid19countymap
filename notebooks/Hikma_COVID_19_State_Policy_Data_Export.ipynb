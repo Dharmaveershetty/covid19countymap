{
  "nbformat": 4,
  "nbformat_minor": 0,
  "metadata": {
    "colab": {
      "name": "Hikma COVID-19 State Policy Data Export",
      "provenance": [],
      "collapsed_sections": [],
      "toc_visible": true
    },
    "kernelspec": {
      "name": "python3",
      "display_name": "Python 3"
    }
  },
  "cells": [
    {
      "cell_type": "markdown",
      "metadata": {
        "id": "L2_sIcc61eZr",
        "colab_type": "text"
      },
      "source": [
        "# Hikma COVID-19 Response State Policies\n",
        "\n",
        "License: Apache 2.0"
      ]
    },
    {
      "cell_type": "code",
      "metadata": {
        "id": "y8RA77Gzl1hj",
        "colab_type": "code",
        "colab": {}
      },
      "source": [
        "import copy\n",
        "import urllib\n",
        "import json\n",
        "\n",
        "import pandas as pd\n",
        "import numpy as np\n"
      ],
      "execution_count": 0,
      "outputs": []
    },
    {
      "cell_type": "markdown",
      "metadata": {
        "id": "3SdNheJy6chp",
        "colab_type": "text"
      },
      "source": [
        "## Read the data from CSV from the Kaiser Family Foundation"
      ]
    },
    {
      "cell_type": "code",
      "metadata": {
        "id": "9s_rHojhm2QR",
        "colab_type": "code",
        "colab": {}
      },
      "source": [
        "# Before running this step, download the exported CSV from here for the table titled \"State Actions to Mitigate the Spread of COVID-19\", and then upload it to the colab.\n",
        "# raw_policies = pd.read_csv('raw_data.csv',skiprows=[0,1])\n",
        "\n",
        "raw_policies = pd.read_csv('https://raw.githubusercontent.com/hikmahealth/covid19countymap/master/KFF_state_data.csv',skiprows=[0,1])"
      ],
      "execution_count": 0,
      "outputs": []
    },
    {
      "cell_type": "markdown",
      "metadata": {
        "id": "ePWHFP576fEn",
        "colab_type": "text"
      },
      "source": [
        "## Clean up the state-level data"
      ]
    },
    {
      "cell_type": "markdown",
      "metadata": {
        "id": "3ksBpL0Y1XLm",
        "colab_type": "text"
      },
      "source": [
        "### Encode free-text column values"
      ]
    },
    {
      "cell_type": "code",
      "metadata": {
        "id": "yc_Rl3WzVLQ2",
        "colab_type": "code",
        "colab": {}
      },
      "source": [
        "columns = ['location', 'home', 'travel', 'business', 'gathering', 'school', 'restaurant', 'election', 'emergency', 'footnote']\n",
        "\n",
        "def column_renamer(column_name):\n",
        "  for c in columns:\n",
        "    if c in column_name.lower():\n",
        "      if c == 'business':\n",
        "        return 'work'\n",
        "      if c == 'gathering':\n",
        "        return 'event' \n",
        "      if c == 'home':\n",
        "        return 'shelter'\n",
        "      else:\n",
        "        return c\n",
        "  return column_name\n",
        "\n",
        "state_policies = raw_policies.rename(columns=column_renamer)\n",
        "\n",
        "# remove extraneous rows that are not states\n",
        "state_policies = state_policies.drop([0])\n",
        "state_policies = state_policies.drop(range(52,65))\n",
        "\n",
        "# remove unnecessary columns\n",
        "state_policies = state_policies.drop(['restaurant', 'election', 'emergency','footnote'], axis = 1)\n",
        "\n",
        "# Texas 'Other' stay-at-home order is a 'Required Yes' as verified by NYT as of April 2\n",
        "# https://www.nytimes.com/interactive/2020/us/coronavirus-stay-at-home-order.html\n",
        "state_policies.iloc[43,1] = 'Statewide'\n",
        "\n",
        "# New Mexico 'All Air Travelers' travel restriction is now a 'Required Yes' as of April 11\n",
        "# https://www.nytimes.com/2020/04/10/travel/coronavirus-us-travel-driving-restrictions.html\n",
        "state_policies.iloc[31,2] = 'All Travelers'\n"
      ],
      "execution_count": 0,
      "outputs": []
    },
    {
      "cell_type": "code",
      "metadata": {
        "colab_type": "code",
        "id": "3Qc2t-FS8vta",
        "colab": {}
      },
      "source": [
        "def make_dict(entries):\n",
        "  mapping = {v: i for i, v in enumerate(entries)}\n",
        "  mapping[\"\"] = 0  # Map no response to \"do not know\"\n",
        "  return mapping\n",
        "\n",
        "# Encoders are constructed such that 0 = no info; 1 = no; 2 = recommended yes; 3 = required yes\n",
        "travel_encoder = make_dict(['Other', '-', 'From Certain States',\n",
        "                            'All Travelers'])\n",
        "zero_encoder = make_dict(['none'])\n",
        "event_encoder = make_dict(['Other', '-', '>10 People Prohibited',\n",
        "                            'All Gatherings Prohibited'])\n",
        "school_encoder = make_dict(['Other', '-',\n",
        "                                 'Effectively Closed',\n",
        "                                 'Yes'])\n",
        "work_encoder = make_dict(['Other', '-',\n",
        "                         'All Non-Essential Retail Businesses', 'All Non-Essential Businesses'])\n",
        "shelter_encoder = make_dict(['Other', '-', 'High-risk Groups',\n",
        "                            'Statewide']) \n",
        "\n",
        "# No states have blanket public transportation shutdowns as of 2020-04-11.\n",
        "# https://www.nytimes.com/2020/04/10/travel/coronavirus-us-travel-driving-restrictions.html\n",
        "state_policies[\"transport\"] = False\n",
        "# All states have at least some active testing as of 2020-04-11\n",
        "# https://www.cdc.gov/coronavirus/2019-ncov/cases-updates/testing-in-us.html\n",
        "state_policies[\"testing\"] = True\n",
        "\n",
        "# Initialize all shelter in place as yes since most are yes\n",
        "# state_policies[\"shelter\"] = 'Yes'\n"
      ],
      "execution_count": 0,
      "outputs": []
    },
    {
      "cell_type": "code",
      "metadata": {
        "id": "HlhT1232xZcU",
        "colab_type": "code",
        "colab": {}
      },
      "source": [
        "encoders = {\n",
        "    'travel': travel_encoder,\n",
        "    'work': work_encoder,\n",
        "    'event': event_encoder,\n",
        "    'school': school_encoder,\n",
        "    'shelter': shelter_encoder\n",
        "}\n",
        "\n",
        "for column, encoder in encoders.items():\n",
        "  state_policies[column] = state_policies[column].map(encoder)"
      ],
      "execution_count": 0,
      "outputs": []
    },
    {
      "cell_type": "code",
      "metadata": {
        "id": "v_jvWmJWwqSb",
        "colab_type": "code",
        "outputId": "495e5af5-6e73-438d-ec10-7e273e817e70",
        "colab": {
          "base_uri": "https://localhost:8080/",
          "height": 204
        }
      },
      "source": [
        "# Add all NO SHELTER states from NYT data (current as of 4/7/20)\n",
        "# No longer needed, working off KFF data 4/11/20 -SE\n",
        "# https://www.nytimes.com/interactive/2020/us/coronavirus-stay-at-home-order.html\n",
        "# state_policies.iloc[3,7] = 1 #Arkansas\n",
        "# state_policies.iloc[34,7] = 1 #North Dakota\n",
        "# state_policies.iloc[41,7] = 1 #South Dakota\n",
        "\n",
        "state_policies.head()"
      ],
      "execution_count": 6,
      "outputs": [
        {
          "output_type": "execute_result",
          "data": {
            "text/html": [
              "<div>\n",
              "<style scoped>\n",
              "    .dataframe tbody tr th:only-of-type {\n",
              "        vertical-align: middle;\n",
              "    }\n",
              "\n",
              "    .dataframe tbody tr th {\n",
              "        vertical-align: top;\n",
              "    }\n",
              "\n",
              "    .dataframe thead th {\n",
              "        text-align: right;\n",
              "    }\n",
              "</style>\n",
              "<table border=\"1\" class=\"dataframe\">\n",
              "  <thead>\n",
              "    <tr style=\"text-align: right;\">\n",
              "      <th></th>\n",
              "      <th>location</th>\n",
              "      <th>shelter</th>\n",
              "      <th>travel</th>\n",
              "      <th>work</th>\n",
              "      <th>event</th>\n",
              "      <th>school</th>\n",
              "      <th>transport</th>\n",
              "      <th>testing</th>\n",
              "    </tr>\n",
              "  </thead>\n",
              "  <tbody>\n",
              "    <tr>\n",
              "      <th>1</th>\n",
              "      <td>Alabama</td>\n",
              "      <td>3</td>\n",
              "      <td>1</td>\n",
              "      <td>3</td>\n",
              "      <td>2</td>\n",
              "      <td>3</td>\n",
              "      <td>False</td>\n",
              "      <td>True</td>\n",
              "    </tr>\n",
              "    <tr>\n",
              "      <th>2</th>\n",
              "      <td>Alaska</td>\n",
              "      <td>3</td>\n",
              "      <td>3</td>\n",
              "      <td>3</td>\n",
              "      <td>3</td>\n",
              "      <td>3</td>\n",
              "      <td>False</td>\n",
              "      <td>True</td>\n",
              "    </tr>\n",
              "    <tr>\n",
              "      <th>3</th>\n",
              "      <td>Arizona</td>\n",
              "      <td>3</td>\n",
              "      <td>2</td>\n",
              "      <td>3</td>\n",
              "      <td>2</td>\n",
              "      <td>3</td>\n",
              "      <td>False</td>\n",
              "      <td>True</td>\n",
              "    </tr>\n",
              "    <tr>\n",
              "      <th>4</th>\n",
              "      <td>Arkansas</td>\n",
              "      <td>1</td>\n",
              "      <td>1</td>\n",
              "      <td>1</td>\n",
              "      <td>2</td>\n",
              "      <td>3</td>\n",
              "      <td>False</td>\n",
              "      <td>True</td>\n",
              "    </tr>\n",
              "    <tr>\n",
              "      <th>5</th>\n",
              "      <td>California</td>\n",
              "      <td>3</td>\n",
              "      <td>1</td>\n",
              "      <td>3</td>\n",
              "      <td>3</td>\n",
              "      <td>2</td>\n",
              "      <td>False</td>\n",
              "      <td>True</td>\n",
              "    </tr>\n",
              "  </tbody>\n",
              "</table>\n",
              "</div>"
            ],
            "text/plain": [
              "     location  shelter  travel  work  event  school  transport  testing\n",
              "1     Alabama        3       1     3      2       3      False     True\n",
              "2      Alaska        3       3     3      3       3      False     True\n",
              "3     Arizona        3       2     3      2       3      False     True\n",
              "4    Arkansas        1       1     1      2       3      False     True\n",
              "5  California        3       1     3      3       2      False     True"
            ]
          },
          "metadata": {
            "tags": []
          },
          "execution_count": 6
        }
      ]
    },
    {
      "cell_type": "code",
      "metadata": {
        "id": "Cygl6c6OLmp6",
        "colab_type": "code",
        "colab": {}
      },
      "source": [
        "# Casting all as int\n",
        "state_policies['travel'] = state_policies['travel'].astype('int')\n",
        "state_policies['event'] = state_policies['event'].astype('int')\n",
        "state_policies['shelter'] = state_policies['shelter'].astype('int')"
      ],
      "execution_count": 0,
      "outputs": []
    },
    {
      "cell_type": "code",
      "metadata": {
        "id": "C4R-xiZgLMl1",
        "colab_type": "code",
        "colab": {}
      },
      "source": [
        "with urllib.request.urlopen(\"https://gist.githubusercontent.com/dantonnoriega/bf1acd2290e15b91e6710b6fd3be0a53/raw/11d15233327c8080c9646c7e1f23052659db251d/us-state-ansi-fips.csv\") as infile:\n",
        "  state_fips = pd.read_csv(infile)"
      ],
      "execution_count": 0,
      "outputs": []
    },
    {
      "cell_type": "code",
      "metadata": {
        "id": "2uiTYlhULYWo",
        "colab_type": "code",
        "colab": {}
      },
      "source": [
        "state_fips.set_index(\"stname\", inplace=True)"
      ],
      "execution_count": 0,
      "outputs": []
    },
    {
      "cell_type": "code",
      "metadata": {
        "id": "WjXQMLKc2m8F",
        "colab_type": "code",
        "colab": {}
      },
      "source": [
        "state_policies['location'] = state_policies['location'].map(state_fips[\" st\"])"
      ],
      "execution_count": 0,
      "outputs": []
    },
    {
      "cell_type": "code",
      "metadata": {
        "id": "E9tFOMxS20nM",
        "colab_type": "code",
        "colab": {}
      },
      "source": [
        "state_policies.set_index('location', inplace=True)"
      ],
      "execution_count": 0,
      "outputs": []
    },
    {
      "cell_type": "code",
      "metadata": {
        "id": "fhbBInvD3FuR",
        "colab_type": "code",
        "outputId": "b16e8943-35ab-43f4-c99c-607279264ec1",
        "colab": {
          "base_uri": "https://localhost:8080/",
          "height": 235
        }
      },
      "source": [
        "state_policies.head()"
      ],
      "execution_count": 12,
      "outputs": [
        {
          "output_type": "execute_result",
          "data": {
            "text/html": [
              "<div>\n",
              "<style scoped>\n",
              "    .dataframe tbody tr th:only-of-type {\n",
              "        vertical-align: middle;\n",
              "    }\n",
              "\n",
              "    .dataframe tbody tr th {\n",
              "        vertical-align: top;\n",
              "    }\n",
              "\n",
              "    .dataframe thead th {\n",
              "        text-align: right;\n",
              "    }\n",
              "</style>\n",
              "<table border=\"1\" class=\"dataframe\">\n",
              "  <thead>\n",
              "    <tr style=\"text-align: right;\">\n",
              "      <th></th>\n",
              "      <th>shelter</th>\n",
              "      <th>travel</th>\n",
              "      <th>work</th>\n",
              "      <th>event</th>\n",
              "      <th>school</th>\n",
              "      <th>transport</th>\n",
              "      <th>testing</th>\n",
              "    </tr>\n",
              "    <tr>\n",
              "      <th>location</th>\n",
              "      <th></th>\n",
              "      <th></th>\n",
              "      <th></th>\n",
              "      <th></th>\n",
              "      <th></th>\n",
              "      <th></th>\n",
              "      <th></th>\n",
              "    </tr>\n",
              "  </thead>\n",
              "  <tbody>\n",
              "    <tr>\n",
              "      <th>1</th>\n",
              "      <td>3</td>\n",
              "      <td>1</td>\n",
              "      <td>3</td>\n",
              "      <td>2</td>\n",
              "      <td>3</td>\n",
              "      <td>False</td>\n",
              "      <td>True</td>\n",
              "    </tr>\n",
              "    <tr>\n",
              "      <th>2</th>\n",
              "      <td>3</td>\n",
              "      <td>3</td>\n",
              "      <td>3</td>\n",
              "      <td>3</td>\n",
              "      <td>3</td>\n",
              "      <td>False</td>\n",
              "      <td>True</td>\n",
              "    </tr>\n",
              "    <tr>\n",
              "      <th>4</th>\n",
              "      <td>3</td>\n",
              "      <td>2</td>\n",
              "      <td>3</td>\n",
              "      <td>2</td>\n",
              "      <td>3</td>\n",
              "      <td>False</td>\n",
              "      <td>True</td>\n",
              "    </tr>\n",
              "    <tr>\n",
              "      <th>5</th>\n",
              "      <td>1</td>\n",
              "      <td>1</td>\n",
              "      <td>1</td>\n",
              "      <td>2</td>\n",
              "      <td>3</td>\n",
              "      <td>False</td>\n",
              "      <td>True</td>\n",
              "    </tr>\n",
              "    <tr>\n",
              "      <th>6</th>\n",
              "      <td>3</td>\n",
              "      <td>1</td>\n",
              "      <td>3</td>\n",
              "      <td>3</td>\n",
              "      <td>2</td>\n",
              "      <td>False</td>\n",
              "      <td>True</td>\n",
              "    </tr>\n",
              "  </tbody>\n",
              "</table>\n",
              "</div>"
            ],
            "text/plain": [
              "          shelter  travel  work  event  school  transport  testing\n",
              "location                                                          \n",
              "1               3       1     3      2       3      False     True\n",
              "2               3       3     3      3       3      False     True\n",
              "4               3       2     3      2       3      False     True\n",
              "5               1       1     1      2       3      False     True\n",
              "6               3       1     3      3       2      False     True"
            ]
          },
          "metadata": {
            "tags": []
          },
          "execution_count": 12
        }
      ]
    },
    {
      "cell_type": "markdown",
      "metadata": {
        "id": "piRJrmkMNc5_",
        "colab_type": "text"
      },
      "source": [
        "### Data Export"
      ]
    },
    {
      "cell_type": "code",
      "metadata": {
        "id": "3QyYhi3lPVyL",
        "colab_type": "code",
        "colab": {}
      },
      "source": [
        "with open(\"state_policies.json\", \"w\") as outfile:\n",
        "  outfile.write(state_policies.to_json(orient=\"index\"))"
      ],
      "execution_count": 0,
      "outputs": []
    },
    {
      "cell_type": "code",
      "metadata": {
        "id": "cAJGi_wmNHdQ",
        "colab_type": "code",
        "colab": {}
      },
      "source": [
        "# Dump column decoders as well.\n",
        "# We reverse the map from integer to string, but not no information default.\n",
        "decoders = {c: {i: s for s, i in enc.items() if i}\n",
        "            for c, enc in encoders.items()}"
      ],
      "execution_count": 0,
      "outputs": []
    },
    {
      "cell_type": "code",
      "metadata": {
        "id": "zihN2UWMNwhz",
        "colab_type": "code",
        "colab": {}
      },
      "source": [
        "with open(\"policy_decoders.json\", \"w\") as outfile:\n",
        "  json.dump(decoders, outfile)"
      ],
      "execution_count": 0,
      "outputs": []
    }
  ]
}