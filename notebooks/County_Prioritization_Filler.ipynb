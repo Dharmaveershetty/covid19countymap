{
  "nbformat": 4,
  "nbformat_minor": 0,
  "metadata": {
    "colab": {
      "name": "County Prioritization Filler",
      "provenance": [],
      "collapsed_sections": [],
      "include_colab_link": true
    },
    "kernelspec": {
      "name": "python3",
      "display_name": "Python 3"
    }
  },
  "cells": [
    {
      "cell_type": "markdown",
      "metadata": {
        "id": "view-in-github",
        "colab_type": "text"
      },
      "source": [
        "<a href=\"https://colab.research.google.com/github/hikmahealth/covid19countymap/blob/master/notebooks/County_Prioritization_Filler.ipynb\" target=\"_parent\"><img src=\"https://colab.research.google.com/assets/colab-badge.svg\" alt=\"Open In Colab\"/></a>"
      ]
    },
    {
      "cell_type": "code",
      "metadata": {
        "id": "Vt-sS7DnvEiZ",
        "colab_type": "code",
        "colab": {}
      },
      "source": [
        "import io\n",
        "import copy\n",
        "import urllib\n",
        "\n",
        "from google.colab import auth\n",
        "from oauth2client.client import GoogleCredentials\n",
        "import gspread\n",
        "import pandas as pd"
      ],
      "execution_count": 0,
      "outputs": []
    },
    {
      "cell_type": "markdown",
      "metadata": {
        "id": "Zg8MecgCxagJ",
        "colab_type": "text"
      },
      "source": [
        "Download county populations from census.gov"
      ]
    },
    {
      "cell_type": "code",
      "metadata": {
        "id": "swv--cvIvGlv",
        "colab_type": "code",
        "colab": {}
      },
      "source": [
        "with urllib.request.urlopen(\"https://www2.census.gov/programs-surveys/popest/datasets/2010-2019/counties/totals/co-est2019-alldata.csv\") as infile:\n",
        "  raw_data = infile.read()\n",
        "# Deal with encoding issues in the Census CSV file.\n",
        "replacements = {0xed: \"í\", 0xe1: \"á\", 0xf3: \"ó\", 0xf1: \"ñ\", 0xfc:\"ü\"}\n",
        "for char, repl in replacements.items():\n",
        "  raw_data = raw_data.replace(bytes([char]), repl.encode())\n",
        "raw_census = pd.read_csv(io.BytesIO(raw_data))"
      ],
      "execution_count": 0,
      "outputs": []
    },
    {
      "cell_type": "code",
      "metadata": {
        "id": "WM2t3dLpx73Y",
        "colab_type": "code",
        "colab": {}
      },
      "source": [
        "census = raw_census[raw_census.COUNTY != 0].copy()"
      ],
      "execution_count": 0,
      "outputs": []
    },
    {
      "cell_type": "code",
      "metadata": {
        "id": "FCxNb4AmyAoA",
        "colab_type": "code",
        "colab": {}
      },
      "source": [
        "census[\"fips\"] = census.STATE * 1000 + census.COUNTY\n",
        "census.set_index(\"fips\", inplace=True)\n",
        "census.sort_values(by=\"POPESTIMATE2019\", inplace=True, ascending=False)"
      ],
      "execution_count": 0,
      "outputs": []
    },
    {
      "cell_type": "markdown",
      "metadata": {
        "id": "E5HJsefdz9nb",
        "colab_type": "text"
      },
      "source": [
        "Prepare the Google sheet we will write the prioritzation to."
      ]
    },
    {
      "cell_type": "code",
      "metadata": {
        "id": "rQna6esxz8wn",
        "colab_type": "code",
        "colab": {}
      },
      "source": [
        "auth.authenticate_user()\n",
        "sheets_client = gspread.authorize(GoogleCredentials.get_application_default())\n",
        "sheet = sheets_client.open_by_url(\"https://docs.google.com/spreadsheets/d/1bu7sY3R4AQagFietD0hMmGAFo_W0-PpbcfRLcADtc3s/edit#gid=0\").sheet1"
      ],
      "execution_count": 0,
      "outputs": []
    },
    {
      "cell_type": "code",
      "metadata": {
        "id": "SAyQighl0pGF",
        "colab_type": "code",
        "colab": {}
      },
      "source": [
        "sheet.resize(rows=(len(census) // 50 + 1) * 50 + 1, cols=5)"
      ],
      "execution_count": 0,
      "outputs": []
    },
    {
      "cell_type": "code",
      "metadata": {
        "id": "RL3ZWB9f1gUV",
        "colab_type": "code",
        "colab": {}
      },
      "source": [
        "header = sheet.range('A1:D1')\n",
        "header[0].value = \"FIPS\"\n",
        "header[1].value = \"County\"\n",
        "header[2].value = \"State\"\n",
        "header[3].value = \"Link\"\n",
        "sheet.update_cells(header);"
      ],
      "execution_count": 0,
      "outputs": []
    },
    {
      "cell_type": "code",
      "metadata": {
        "id": "nQ5MHbugC3Pb",
        "colab_type": "code",
        "colab": {}
      },
      "source": [
        "_FORM = \"https://docs.google.com/forms/d/e/1FAIpQLScO4B6PkJsOeVKM2_dbpFMhnXCfb89Kya9bWtKX4uUWIMev7Q/viewform?usp=pp_url&entry.1112165839=\""
      ],
      "execution_count": 0,
      "outputs": []
    },
    {
      "cell_type": "code",
      "metadata": {
        "id": "dFtFJ2rlyN7g",
        "colab_type": "code",
        "colab": {}
      },
      "source": [
        "cells = None\n",
        "for i, (fips, row) in enumerate(census.iterrows()):\n",
        "  # Update the sheet in batches of 50\n",
        "  if not i % 50:\n",
        "    if cells:\n",
        "      sheet.update_cells(cells)\n",
        "    cells = sheet.range(\"A%d:D%d\" % (i + 2, i + 52))\n",
        "  row_index = (i % 50) * 4\n",
        "  cells[row_index].value = fips\n",
        "  cells[row_index + 1].value = row.CTYNAME\n",
        "  cells[row_index + 2].value = row.STNAME\n",
        "  full_name = row.CTYNAME + \", \" + row.STNAME\n",
        "  cells[row_index + 3].value = _FORM + urllib.parse.quote(full_name)\n",
        "sheet.update_cells(cells);"
      ],
      "execution_count": 0,
      "outputs": []
    }
  ]
}